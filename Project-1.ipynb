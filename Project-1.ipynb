{
 "cells": [
  {
   "cell_type": "markdown",
   "metadata": {},
   "source": [
    "![IronHack Logo](https://s3-eu-west-1.amazonaws.com/ih-materials/uploads/upload_d5c5793015fec3be28a63c4fa3dd4d55.png)\n",
    "\n",
    "# Your first Project: Sharks Attack!\n",
    "\n",
    "## Overview\n",
    "\n",
    "The goal of this project is to combine everything you have learned about data wrangling, cleaning, manipulation and visualization with Pandas so you can see how it all works together. For this project, you will start with this messy data set [Shark Attack](https://www.kaggle.com/teajay/global-shark-attacks/version/1). You will need to import it, use your data wrangling skills to clean it up, prepare it to be analyzed, set some hypotesis and visualize the results.\n",
    "\n",
    "You will have **one week** to complete the process and upload your results in GitHub. \n",
    "\n",
    "Next saturday, you will present your results in front of the class. The presentation will take place with the Read Me and the code as your supporting tools. \n",
    "\n",
    "**You will be working individually for this project**, but we'll be guiding you along the process and helping you as you go. Show us what you've got!\n",
    "\n",
    "---\n",
    "\n",
    "## Requirements\n",
    "\n",
    "Your main goal is to understand the dataset, set some hypothesis (Minimum Three) and work with the methods and libraries used in class to try to confirm them. Not confirming the hypothesis is not a BAD result - Is just another result. \n",
    "\n",
    "The technical requirements for this project are as follows:\n",
    "\n",
    "* The dataset that we provide you is a significantly messy data set. Apply the different cleaning and manipulation techniques you have learned with pandas, numpy and so. \n",
    "* Examine the data for potential issues.\n",
    "* Produce a Jupyter Notebook that shows the steps you took and the code you used to clean and transform your data set.\n",
    "* If IYO some of the code could be used in future projects, encapsulate it in functions. \n",
    "* Use Matplotlib, Seaborn or Plotly to visualize your results. \n",
    "* Create a .md file to show your results! Everybody could see your Read Me in Github. Try to make it simple, quick, with interesting results and more visual than just text. \n",
    "* Bonus: Save the functions you create inside a .py file in your repo, and import them in your Jupyter Notebook. \n",
    "* Bonus/Next Steps: In future steps, try to cover what Sabi explained you last Wednesday: Could you figure out a model to obtain more insights about your cleaned datasets?\n",
    "\n",
    "\n",
    "\n",
    "## Suggested Ways to Get Started\n",
    "\n",
    "* **Examine the data and try to understand what the fields mean** before diving into data cleaning and manipulation methods.\n",
    "* **Break the project down into different steps and subsets** - use the topics covered in the lessons to form a check list, add anything else you can think of that may be wrong with your data set, and then work through the check list.\n",
    "* **Use the tools in your tool kit** - your knowledge of Python, data structures, Pandas, and data wrangling.\n",
    "* **Work through the lessons in class** & ask questions when you need to! Think about adding relevant code to your project each night, instead of, you know... _procrastinating_.\n",
    "* **Commit early, commit often**, don’t be afraid of doing something incorrectly because you can always roll back to a previous version.\n",
    "* **Consult documentation and resources** to better understand the tools you are using and how to accomplish what you want.\n",
    "\n",
    "\n",
    "## Project Feedback + Evaluation\n",
    "\n",
    "* __Technical Requirements__: Did you deliver a project that met all the technical requirements? Given what the class has covered so far, did you build something that was reasonably complex?\n",
    "\n",
    "* __Creativity__: Did you add a personal spin or creative element into your project submission? Did you incorporate domain knowledge or unique perspective into your analysis.\n",
    "\n",
    "* __Code Quality__: Did you follow code style guidance and best practices covered in class?\n",
    "\n",
    "\n",
    "\n",
    "## Presentation Guideline and Criteria\n",
    "\n",
    "### Format\n",
    "\n",
    "* Presentation Time: 6 minutes\n",
    "* Q & A: 3 minutes\n",
    "* **Total Time:** 9 minutes"
   ]
  },
  {
   "cell_type": "code",
   "execution_count": 1634,
   "metadata": {},
   "outputs": [],
   "source": [
    "import numpy as np\n",
    "import pandas as pd\n",
    "\n",
    "import seaborn as sns\n",
    "import matplotlib.pyplot as plt\n",
    "\n",
    "import warnings\n",
    "warnings.filterwarnings(\"ignore\")"
   ]
  },
  {
   "cell_type": "code",
   "execution_count": 1635,
   "metadata": {},
   "outputs": [
    {
     "data": {
      "text/html": [
       "<div>\n",
       "<style scoped>\n",
       "    .dataframe tbody tr th:only-of-type {\n",
       "        vertical-align: middle;\n",
       "    }\n",
       "\n",
       "    .dataframe tbody tr th {\n",
       "        vertical-align: top;\n",
       "    }\n",
       "\n",
       "    .dataframe thead th {\n",
       "        text-align: right;\n",
       "    }\n",
       "</style>\n",
       "<table border=\"1\" class=\"dataframe\">\n",
       "  <thead>\n",
       "    <tr style=\"text-align: right;\">\n",
       "      <th></th>\n",
       "      <th>Case Number</th>\n",
       "      <th>Date</th>\n",
       "      <th>Year</th>\n",
       "      <th>Type</th>\n",
       "      <th>Country</th>\n",
       "      <th>Area</th>\n",
       "      <th>Location</th>\n",
       "      <th>Activity</th>\n",
       "      <th>Name</th>\n",
       "      <th>Sex</th>\n",
       "      <th>...</th>\n",
       "      <th>Species</th>\n",
       "      <th>Investigator or Source</th>\n",
       "      <th>pdf</th>\n",
       "      <th>href formula</th>\n",
       "      <th>href</th>\n",
       "      <th>Case Number.1</th>\n",
       "      <th>Case Number.2</th>\n",
       "      <th>original order</th>\n",
       "      <th>Unnamed: 22</th>\n",
       "      <th>Unnamed: 23</th>\n",
       "    </tr>\n",
       "  </thead>\n",
       "  <tbody>\n",
       "    <tr>\n",
       "      <th>0</th>\n",
       "      <td>2018.06.25</td>\n",
       "      <td>25-Jun-2018</td>\n",
       "      <td>2018.0</td>\n",
       "      <td>Boating</td>\n",
       "      <td>USA</td>\n",
       "      <td>California</td>\n",
       "      <td>Oceanside, San Diego County</td>\n",
       "      <td>Paddling</td>\n",
       "      <td>Julie Wolfe</td>\n",
       "      <td>F</td>\n",
       "      <td>...</td>\n",
       "      <td>White shark</td>\n",
       "      <td>R. Collier, GSAF</td>\n",
       "      <td>2018.06.25-Wolfe.pdf</td>\n",
       "      <td>http://sharkattackfile.net/spreadsheets/pdf_di...</td>\n",
       "      <td>http://sharkattackfile.net/spreadsheets/pdf_di...</td>\n",
       "      <td>2018.06.25</td>\n",
       "      <td>2018.06.25</td>\n",
       "      <td>6303.0</td>\n",
       "      <td>NaN</td>\n",
       "      <td>NaN</td>\n",
       "    </tr>\n",
       "    <tr>\n",
       "      <th>1</th>\n",
       "      <td>2018.06.18</td>\n",
       "      <td>18-Jun-2018</td>\n",
       "      <td>2018.0</td>\n",
       "      <td>Unprovoked</td>\n",
       "      <td>USA</td>\n",
       "      <td>Georgia</td>\n",
       "      <td>St. Simon Island, Glynn County</td>\n",
       "      <td>Standing</td>\n",
       "      <td>Adyson McNeely</td>\n",
       "      <td>F</td>\n",
       "      <td>...</td>\n",
       "      <td>NaN</td>\n",
       "      <td>K.McMurray, TrackingSharks.com</td>\n",
       "      <td>2018.06.18-McNeely.pdf</td>\n",
       "      <td>http://sharkattackfile.net/spreadsheets/pdf_di...</td>\n",
       "      <td>http://sharkattackfile.net/spreadsheets/pdf_di...</td>\n",
       "      <td>2018.06.18</td>\n",
       "      <td>2018.06.18</td>\n",
       "      <td>6302.0</td>\n",
       "      <td>NaN</td>\n",
       "      <td>NaN</td>\n",
       "    </tr>\n",
       "    <tr>\n",
       "      <th>2</th>\n",
       "      <td>2018.06.09</td>\n",
       "      <td>09-Jun-2018</td>\n",
       "      <td>2018.0</td>\n",
       "      <td>Invalid</td>\n",
       "      <td>USA</td>\n",
       "      <td>Hawaii</td>\n",
       "      <td>Habush, Oahu</td>\n",
       "      <td>Surfing</td>\n",
       "      <td>John Denges</td>\n",
       "      <td>M</td>\n",
       "      <td>...</td>\n",
       "      <td>NaN</td>\n",
       "      <td>K.McMurray, TrackingSharks.com</td>\n",
       "      <td>2018.06.09-Denges.pdf</td>\n",
       "      <td>http://sharkattackfile.net/spreadsheets/pdf_di...</td>\n",
       "      <td>http://sharkattackfile.net/spreadsheets/pdf_di...</td>\n",
       "      <td>2018.06.09</td>\n",
       "      <td>2018.06.09</td>\n",
       "      <td>6301.0</td>\n",
       "      <td>NaN</td>\n",
       "      <td>NaN</td>\n",
       "    </tr>\n",
       "    <tr>\n",
       "      <th>3</th>\n",
       "      <td>2018.06.08</td>\n",
       "      <td>08-Jun-2018</td>\n",
       "      <td>2018.0</td>\n",
       "      <td>Unprovoked</td>\n",
       "      <td>AUSTRALIA</td>\n",
       "      <td>New South Wales</td>\n",
       "      <td>Arrawarra Headland</td>\n",
       "      <td>Surfing</td>\n",
       "      <td>male</td>\n",
       "      <td>M</td>\n",
       "      <td>...</td>\n",
       "      <td>2 m shark</td>\n",
       "      <td>B. Myatt, GSAF</td>\n",
       "      <td>2018.06.08-Arrawarra.pdf</td>\n",
       "      <td>http://sharkattackfile.net/spreadsheets/pdf_di...</td>\n",
       "      <td>http://sharkattackfile.net/spreadsheets/pdf_di...</td>\n",
       "      <td>2018.06.08</td>\n",
       "      <td>2018.06.08</td>\n",
       "      <td>6300.0</td>\n",
       "      <td>NaN</td>\n",
       "      <td>NaN</td>\n",
       "    </tr>\n",
       "    <tr>\n",
       "      <th>4</th>\n",
       "      <td>2018.06.04</td>\n",
       "      <td>04-Jun-2018</td>\n",
       "      <td>2018.0</td>\n",
       "      <td>Provoked</td>\n",
       "      <td>MEXICO</td>\n",
       "      <td>Colima</td>\n",
       "      <td>La Ticla</td>\n",
       "      <td>Free diving</td>\n",
       "      <td>Gustavo Ramos</td>\n",
       "      <td>M</td>\n",
       "      <td>...</td>\n",
       "      <td>Tiger shark, 3m</td>\n",
       "      <td>A .Kipper</td>\n",
       "      <td>2018.06.04-Ramos.pdf</td>\n",
       "      <td>http://sharkattackfile.net/spreadsheets/pdf_di...</td>\n",
       "      <td>http://sharkattackfile.net/spreadsheets/pdf_di...</td>\n",
       "      <td>2018.06.04</td>\n",
       "      <td>2018.06.04</td>\n",
       "      <td>6299.0</td>\n",
       "      <td>NaN</td>\n",
       "      <td>NaN</td>\n",
       "    </tr>\n",
       "    <tr>\n",
       "      <th>...</th>\n",
       "      <td>...</td>\n",
       "      <td>...</td>\n",
       "      <td>...</td>\n",
       "      <td>...</td>\n",
       "      <td>...</td>\n",
       "      <td>...</td>\n",
       "      <td>...</td>\n",
       "      <td>...</td>\n",
       "      <td>...</td>\n",
       "      <td>...</td>\n",
       "      <td>...</td>\n",
       "      <td>...</td>\n",
       "      <td>...</td>\n",
       "      <td>...</td>\n",
       "      <td>...</td>\n",
       "      <td>...</td>\n",
       "      <td>...</td>\n",
       "      <td>...</td>\n",
       "      <td>...</td>\n",
       "      <td>...</td>\n",
       "      <td>...</td>\n",
       "    </tr>\n",
       "    <tr>\n",
       "      <th>25718</th>\n",
       "      <td>NaN</td>\n",
       "      <td>NaN</td>\n",
       "      <td>NaN</td>\n",
       "      <td>NaN</td>\n",
       "      <td>NaN</td>\n",
       "      <td>NaN</td>\n",
       "      <td>NaN</td>\n",
       "      <td>NaN</td>\n",
       "      <td>NaN</td>\n",
       "      <td>NaN</td>\n",
       "      <td>...</td>\n",
       "      <td>NaN</td>\n",
       "      <td>NaN</td>\n",
       "      <td>NaN</td>\n",
       "      <td>NaN</td>\n",
       "      <td>NaN</td>\n",
       "      <td>NaN</td>\n",
       "      <td>NaN</td>\n",
       "      <td>NaN</td>\n",
       "      <td>NaN</td>\n",
       "      <td>NaN</td>\n",
       "    </tr>\n",
       "    <tr>\n",
       "      <th>25719</th>\n",
       "      <td>NaN</td>\n",
       "      <td>NaN</td>\n",
       "      <td>NaN</td>\n",
       "      <td>NaN</td>\n",
       "      <td>NaN</td>\n",
       "      <td>NaN</td>\n",
       "      <td>NaN</td>\n",
       "      <td>NaN</td>\n",
       "      <td>NaN</td>\n",
       "      <td>NaN</td>\n",
       "      <td>...</td>\n",
       "      <td>NaN</td>\n",
       "      <td>NaN</td>\n",
       "      <td>NaN</td>\n",
       "      <td>NaN</td>\n",
       "      <td>NaN</td>\n",
       "      <td>NaN</td>\n",
       "      <td>NaN</td>\n",
       "      <td>NaN</td>\n",
       "      <td>NaN</td>\n",
       "      <td>NaN</td>\n",
       "    </tr>\n",
       "    <tr>\n",
       "      <th>25720</th>\n",
       "      <td>NaN</td>\n",
       "      <td>NaN</td>\n",
       "      <td>NaN</td>\n",
       "      <td>NaN</td>\n",
       "      <td>NaN</td>\n",
       "      <td>NaN</td>\n",
       "      <td>NaN</td>\n",
       "      <td>NaN</td>\n",
       "      <td>NaN</td>\n",
       "      <td>NaN</td>\n",
       "      <td>...</td>\n",
       "      <td>NaN</td>\n",
       "      <td>NaN</td>\n",
       "      <td>NaN</td>\n",
       "      <td>NaN</td>\n",
       "      <td>NaN</td>\n",
       "      <td>NaN</td>\n",
       "      <td>NaN</td>\n",
       "      <td>NaN</td>\n",
       "      <td>NaN</td>\n",
       "      <td>NaN</td>\n",
       "    </tr>\n",
       "    <tr>\n",
       "      <th>25721</th>\n",
       "      <td>NaN</td>\n",
       "      <td>NaN</td>\n",
       "      <td>NaN</td>\n",
       "      <td>NaN</td>\n",
       "      <td>NaN</td>\n",
       "      <td>NaN</td>\n",
       "      <td>NaN</td>\n",
       "      <td>NaN</td>\n",
       "      <td>NaN</td>\n",
       "      <td>NaN</td>\n",
       "      <td>...</td>\n",
       "      <td>NaN</td>\n",
       "      <td>NaN</td>\n",
       "      <td>NaN</td>\n",
       "      <td>NaN</td>\n",
       "      <td>NaN</td>\n",
       "      <td>NaN</td>\n",
       "      <td>NaN</td>\n",
       "      <td>NaN</td>\n",
       "      <td>NaN</td>\n",
       "      <td>NaN</td>\n",
       "    </tr>\n",
       "    <tr>\n",
       "      <th>25722</th>\n",
       "      <td>xx</td>\n",
       "      <td>NaN</td>\n",
       "      <td>NaN</td>\n",
       "      <td>NaN</td>\n",
       "      <td>NaN</td>\n",
       "      <td>NaN</td>\n",
       "      <td>NaN</td>\n",
       "      <td>NaN</td>\n",
       "      <td>NaN</td>\n",
       "      <td>NaN</td>\n",
       "      <td>...</td>\n",
       "      <td>NaN</td>\n",
       "      <td>NaN</td>\n",
       "      <td>NaN</td>\n",
       "      <td>NaN</td>\n",
       "      <td>NaN</td>\n",
       "      <td>NaN</td>\n",
       "      <td>NaN</td>\n",
       "      <td>NaN</td>\n",
       "      <td>NaN</td>\n",
       "      <td>NaN</td>\n",
       "    </tr>\n",
       "  </tbody>\n",
       "</table>\n",
       "<p>25723 rows × 24 columns</p>\n",
       "</div>"
      ],
      "text/plain": [
       "      Case Number         Date    Year        Type    Country  \\\n",
       "0      2018.06.25  25-Jun-2018  2018.0     Boating        USA   \n",
       "1      2018.06.18  18-Jun-2018  2018.0  Unprovoked        USA   \n",
       "2      2018.06.09  09-Jun-2018  2018.0     Invalid        USA   \n",
       "3      2018.06.08  08-Jun-2018  2018.0  Unprovoked  AUSTRALIA   \n",
       "4      2018.06.04  04-Jun-2018  2018.0    Provoked     MEXICO   \n",
       "...           ...          ...     ...         ...        ...   \n",
       "25718         NaN          NaN     NaN         NaN        NaN   \n",
       "25719         NaN          NaN     NaN         NaN        NaN   \n",
       "25720         NaN          NaN     NaN         NaN        NaN   \n",
       "25721         NaN          NaN     NaN         NaN        NaN   \n",
       "25722          xx          NaN     NaN         NaN        NaN   \n",
       "\n",
       "                  Area                        Location     Activity  \\\n",
       "0           California     Oceanside, San Diego County     Paddling   \n",
       "1              Georgia  St. Simon Island, Glynn County     Standing   \n",
       "2               Hawaii                    Habush, Oahu      Surfing   \n",
       "3      New South Wales              Arrawarra Headland      Surfing   \n",
       "4               Colima                        La Ticla  Free diving   \n",
       "...                ...                             ...          ...   \n",
       "25718              NaN                             NaN          NaN   \n",
       "25719              NaN                             NaN          NaN   \n",
       "25720              NaN                             NaN          NaN   \n",
       "25721              NaN                             NaN          NaN   \n",
       "25722              NaN                             NaN          NaN   \n",
       "\n",
       "                  Name Sex   ...         Species   \\\n",
       "0          Julie Wolfe    F  ...      White shark   \n",
       "1      Adyson McNeely     F  ...              NaN   \n",
       "2          John Denges    M  ...              NaN   \n",
       "3                 male    M  ...        2 m shark   \n",
       "4       Gustavo Ramos     M  ...  Tiger shark, 3m   \n",
       "...                ...  ...  ...              ...   \n",
       "25718              NaN  NaN  ...              NaN   \n",
       "25719              NaN  NaN  ...              NaN   \n",
       "25720              NaN  NaN  ...              NaN   \n",
       "25721              NaN  NaN  ...              NaN   \n",
       "25722              NaN  NaN  ...              NaN   \n",
       "\n",
       "               Investigator or Source                       pdf  \\\n",
       "0                    R. Collier, GSAF      2018.06.25-Wolfe.pdf   \n",
       "1      K.McMurray, TrackingSharks.com    2018.06.18-McNeely.pdf   \n",
       "2      K.McMurray, TrackingSharks.com     2018.06.09-Denges.pdf   \n",
       "3                      B. Myatt, GSAF  2018.06.08-Arrawarra.pdf   \n",
       "4                           A .Kipper      2018.06.04-Ramos.pdf   \n",
       "...                               ...                       ...   \n",
       "25718                             NaN                       NaN   \n",
       "25719                             NaN                       NaN   \n",
       "25720                             NaN                       NaN   \n",
       "25721                             NaN                       NaN   \n",
       "25722                             NaN                       NaN   \n",
       "\n",
       "                                            href formula  \\\n",
       "0      http://sharkattackfile.net/spreadsheets/pdf_di...   \n",
       "1      http://sharkattackfile.net/spreadsheets/pdf_di...   \n",
       "2      http://sharkattackfile.net/spreadsheets/pdf_di...   \n",
       "3      http://sharkattackfile.net/spreadsheets/pdf_di...   \n",
       "4      http://sharkattackfile.net/spreadsheets/pdf_di...   \n",
       "...                                                  ...   \n",
       "25718                                                NaN   \n",
       "25719                                                NaN   \n",
       "25720                                                NaN   \n",
       "25721                                                NaN   \n",
       "25722                                                NaN   \n",
       "\n",
       "                                                    href Case Number.1  \\\n",
       "0      http://sharkattackfile.net/spreadsheets/pdf_di...    2018.06.25   \n",
       "1      http://sharkattackfile.net/spreadsheets/pdf_di...    2018.06.18   \n",
       "2      http://sharkattackfile.net/spreadsheets/pdf_di...    2018.06.09   \n",
       "3      http://sharkattackfile.net/spreadsheets/pdf_di...    2018.06.08   \n",
       "4      http://sharkattackfile.net/spreadsheets/pdf_di...    2018.06.04   \n",
       "...                                                  ...           ...   \n",
       "25718                                                NaN           NaN   \n",
       "25719                                                NaN           NaN   \n",
       "25720                                                NaN           NaN   \n",
       "25721                                                NaN           NaN   \n",
       "25722                                                NaN           NaN   \n",
       "\n",
       "      Case Number.2 original order Unnamed: 22 Unnamed: 23  \n",
       "0        2018.06.25         6303.0         NaN         NaN  \n",
       "1        2018.06.18         6302.0         NaN         NaN  \n",
       "2        2018.06.09         6301.0         NaN         NaN  \n",
       "3        2018.06.08         6300.0         NaN         NaN  \n",
       "4        2018.06.04         6299.0         NaN         NaN  \n",
       "...             ...            ...         ...         ...  \n",
       "25718           NaN            NaN         NaN         NaN  \n",
       "25719           NaN            NaN         NaN         NaN  \n",
       "25720           NaN            NaN         NaN         NaN  \n",
       "25721           NaN            NaN         NaN         NaN  \n",
       "25722           NaN            NaN         NaN         NaN  \n",
       "\n",
       "[25723 rows x 24 columns]"
      ]
     },
     "execution_count": 1635,
     "metadata": {},
     "output_type": "execute_result"
    }
   ],
   "source": [
    "sharks_raw = pd.read_csv(\"p1-attacks.csv\", encoding=\"ISO-8859-1\")\n",
    "sharks_raw"
   ]
  },
  {
   "cell_type": "code",
   "execution_count": 1636,
   "metadata": {},
   "outputs": [
    {
     "name": "stdout",
     "output_type": "stream",
     "text": [
      "<class 'pandas.core.frame.DataFrame'>\n",
      "RangeIndex: 25723 entries, 0 to 25722\n",
      "Data columns (total 24 columns):\n",
      " #   Column                  Non-Null Count  Dtype  \n",
      "---  ------                  --------------  -----  \n",
      " 0   Case Number             8702 non-null   object \n",
      " 1   Date                    6302 non-null   object \n",
      " 2   Year                    6300 non-null   float64\n",
      " 3   Type                    6298 non-null   object \n",
      " 4   Country                 6252 non-null   object \n",
      " 5   Area                    5847 non-null   object \n",
      " 6   Location                5762 non-null   object \n",
      " 7   Activity                5758 non-null   object \n",
      " 8   Name                    6092 non-null   object \n",
      " 9   Sex                     5737 non-null   object \n",
      " 10  Age                     3471 non-null   object \n",
      " 11  Injury                  6274 non-null   object \n",
      " 12  Fatal (Y/N)             5763 non-null   object \n",
      " 13  Time                    2948 non-null   object \n",
      " 14  Species                 3464 non-null   object \n",
      " 15  Investigator or Source  6285 non-null   object \n",
      " 16  pdf                     6302 non-null   object \n",
      " 17  href formula            6301 non-null   object \n",
      " 18  href                    6302 non-null   object \n",
      " 19  Case Number.1           6302 non-null   object \n",
      " 20  Case Number.2           6302 non-null   object \n",
      " 21  original order          6309 non-null   float64\n",
      " 22  Unnamed: 22             1 non-null      object \n",
      " 23  Unnamed: 23             2 non-null      object \n",
      "dtypes: float64(2), object(22)\n",
      "memory usage: 4.7+ MB\n"
     ]
    }
   ],
   "source": [
    "sharks_raw.info()"
   ]
  },
  {
   "cell_type": "code",
   "execution_count": 1637,
   "metadata": {},
   "outputs": [],
   "source": [
    "# copy of 'original' DataFrame (by default, deep=True)\n",
    "sharks_copy = sharks_raw.copy()"
   ]
  },
  {
   "cell_type": "code",
   "execution_count": 1638,
   "metadata": {},
   "outputs": [
    {
     "name": "stdout",
     "output_type": "stream",
     "text": [
      "Unnamed: 22\n",
      "stopped here    1\n",
      "Name: count, dtype: int64\n",
      "Unnamed: 23\n",
      "Teramo             1\n",
      "change filename    1\n",
      "Name: count, dtype: int64\n"
     ]
    }
   ],
   "source": [
    "# count and check values in both columns \"Unnamed: 22\" and \"Unnamed: 23\"\n",
    "print(sharks_copy[\"Unnamed: 22\"].value_counts())\n",
    "print(sharks_copy[\"Unnamed: 23\"].value_counts())"
   ]
  },
  {
   "cell_type": "code",
   "execution_count": 1639,
   "metadata": {},
   "outputs": [],
   "source": [
    "# remove both columns \"Unnamed: 22\" and \"Unnamed: 23\" since they are almost empty\n",
    "sharks_copy.drop(columns=[\"Unnamed: 22\", \"Unnamed: 23\"], inplace=True)"
   ]
  },
  {
   "cell_type": "code",
   "execution_count": 1640,
   "metadata": {},
   "outputs": [
    {
     "data": {
      "text/plain": [
       "Case Number               17021\n",
       "Date                      19421\n",
       "Year                      19423\n",
       "Type                      19425\n",
       "Country                   19471\n",
       "Area                      19876\n",
       "Location                  19961\n",
       "Activity                  19965\n",
       "Name                      19631\n",
       "Sex                       19986\n",
       "Age                       22252\n",
       "Injury                    19449\n",
       "Fatal (Y/N)               19960\n",
       "Time                      22775\n",
       "Species                   22259\n",
       "Investigator or Source    19438\n",
       "pdf                       19421\n",
       "href formula              19422\n",
       "href                      19421\n",
       "Case Number.1             19421\n",
       "Case Number.2             19421\n",
       "original order            19414\n",
       "dtype: int64"
      ]
     },
     "execution_count": 1640,
     "metadata": {},
     "output_type": "execute_result"
    }
   ],
   "source": [
    "# check for missing values\n",
    "missing_data = sharks_copy.isnull().sum()\n",
    "missing_data"
   ]
  },
  {
   "cell_type": "code",
   "execution_count": 1641,
   "metadata": {},
   "outputs": [
    {
     "data": {
      "text/plain": [
       "Case Number               0.661704\n",
       "Date                      0.755005\n",
       "Year                      0.755083\n",
       "Type                      0.755161\n",
       "Country                   0.756949\n",
       "Area                      0.772694\n",
       "Location                  0.775998\n",
       "Activity                  0.776154\n",
       "Name                      0.763169\n",
       "Sex                       0.776970\n",
       "Age                       0.865062\n",
       "Injury                    0.756094\n",
       "Fatal (Y/N)               0.775959\n",
       "Time                      0.885394\n",
       "Species                   0.865335\n",
       "Investigator or Source    0.755666\n",
       "pdf                       0.755005\n",
       "href formula              0.755044\n",
       "href                      0.755005\n",
       "Case Number.1             0.755005\n",
       "Case Number.2             0.755005\n",
       "original order            0.754733\n",
       "dtype: float64"
      ]
     },
     "execution_count": 1641,
     "metadata": {},
     "output_type": "execute_result"
    }
   ],
   "source": [
    "# check % missing values\n",
    "missing_percentage = missing_data/sharks_copy.shape[0]\n",
    "missing_percentage"
   ]
  },
  {
   "cell_type": "code",
   "execution_count": 1642,
   "metadata": {},
   "outputs": [],
   "source": [
    "# remove columns with high % of missing values, and they have no interest for my analysis purpose\n",
    "    # Case Number\n",
    "    # Name\n",
    "    # Investigator or Source\n",
    "    # pdf\n",
    "    # href formula\n",
    "    # href\n",
    "    # Case Number.1\n",
    "    # Case Number.2\n",
    "    # original order\n",
    "\n",
    "sharks_copy.drop(columns=[\"Case Number\", \"Name\", \"Investigator or Source\", \"pdf\", \"href formula\", \"href\", \"Case Number.1\", \"Case Number.2\", \"original order\"], inplace=True)"
   ]
  },
  {
   "cell_type": "code",
   "execution_count": 1643,
   "metadata": {},
   "outputs": [
    {
     "data": {
      "text/html": [
       "<div>\n",
       "<style scoped>\n",
       "    .dataframe tbody tr th:only-of-type {\n",
       "        vertical-align: middle;\n",
       "    }\n",
       "\n",
       "    .dataframe tbody tr th {\n",
       "        vertical-align: top;\n",
       "    }\n",
       "\n",
       "    .dataframe thead th {\n",
       "        text-align: right;\n",
       "    }\n",
       "</style>\n",
       "<table border=\"1\" class=\"dataframe\">\n",
       "  <thead>\n",
       "    <tr style=\"text-align: right;\">\n",
       "      <th></th>\n",
       "      <th>Date</th>\n",
       "      <th>Year</th>\n",
       "      <th>Type</th>\n",
       "      <th>Country</th>\n",
       "      <th>Area</th>\n",
       "      <th>Location</th>\n",
       "      <th>Activity</th>\n",
       "      <th>Sex</th>\n",
       "      <th>Age</th>\n",
       "      <th>Injury</th>\n",
       "      <th>Fatal (Y/N)</th>\n",
       "      <th>Time</th>\n",
       "      <th>Species</th>\n",
       "    </tr>\n",
       "  </thead>\n",
       "  <tbody>\n",
       "    <tr>\n",
       "      <th>0</th>\n",
       "      <td>25-Jun-2018</td>\n",
       "      <td>2018.0</td>\n",
       "      <td>Boating</td>\n",
       "      <td>USA</td>\n",
       "      <td>California</td>\n",
       "      <td>Oceanside, San Diego County</td>\n",
       "      <td>Paddling</td>\n",
       "      <td>F</td>\n",
       "      <td>57</td>\n",
       "      <td>No injury to occupant, outrigger canoe and pad...</td>\n",
       "      <td>N</td>\n",
       "      <td>18h00</td>\n",
       "      <td>White shark</td>\n",
       "    </tr>\n",
       "    <tr>\n",
       "      <th>1</th>\n",
       "      <td>18-Jun-2018</td>\n",
       "      <td>2018.0</td>\n",
       "      <td>Unprovoked</td>\n",
       "      <td>USA</td>\n",
       "      <td>Georgia</td>\n",
       "      <td>St. Simon Island, Glynn County</td>\n",
       "      <td>Standing</td>\n",
       "      <td>F</td>\n",
       "      <td>11</td>\n",
       "      <td>Minor injury to left thigh</td>\n",
       "      <td>N</td>\n",
       "      <td>14h00  -15h00</td>\n",
       "      <td>NaN</td>\n",
       "    </tr>\n",
       "    <tr>\n",
       "      <th>2</th>\n",
       "      <td>09-Jun-2018</td>\n",
       "      <td>2018.0</td>\n",
       "      <td>Invalid</td>\n",
       "      <td>USA</td>\n",
       "      <td>Hawaii</td>\n",
       "      <td>Habush, Oahu</td>\n",
       "      <td>Surfing</td>\n",
       "      <td>M</td>\n",
       "      <td>48</td>\n",
       "      <td>Injury to left lower leg from surfboard skeg</td>\n",
       "      <td>N</td>\n",
       "      <td>07h45</td>\n",
       "      <td>NaN</td>\n",
       "    </tr>\n",
       "    <tr>\n",
       "      <th>3</th>\n",
       "      <td>08-Jun-2018</td>\n",
       "      <td>2018.0</td>\n",
       "      <td>Unprovoked</td>\n",
       "      <td>AUSTRALIA</td>\n",
       "      <td>New South Wales</td>\n",
       "      <td>Arrawarra Headland</td>\n",
       "      <td>Surfing</td>\n",
       "      <td>M</td>\n",
       "      <td>NaN</td>\n",
       "      <td>Minor injury to lower leg</td>\n",
       "      <td>N</td>\n",
       "      <td>NaN</td>\n",
       "      <td>2 m shark</td>\n",
       "    </tr>\n",
       "    <tr>\n",
       "      <th>4</th>\n",
       "      <td>04-Jun-2018</td>\n",
       "      <td>2018.0</td>\n",
       "      <td>Provoked</td>\n",
       "      <td>MEXICO</td>\n",
       "      <td>Colima</td>\n",
       "      <td>La Ticla</td>\n",
       "      <td>Free diving</td>\n",
       "      <td>M</td>\n",
       "      <td>NaN</td>\n",
       "      <td>Lacerations to leg &amp; hand shark PROVOKED INCIDENT</td>\n",
       "      <td>N</td>\n",
       "      <td>NaN</td>\n",
       "      <td>Tiger shark, 3m</td>\n",
       "    </tr>\n",
       "    <tr>\n",
       "      <th>...</th>\n",
       "      <td>...</td>\n",
       "      <td>...</td>\n",
       "      <td>...</td>\n",
       "      <td>...</td>\n",
       "      <td>...</td>\n",
       "      <td>...</td>\n",
       "      <td>...</td>\n",
       "      <td>...</td>\n",
       "      <td>...</td>\n",
       "      <td>...</td>\n",
       "      <td>...</td>\n",
       "      <td>...</td>\n",
       "      <td>...</td>\n",
       "    </tr>\n",
       "    <tr>\n",
       "      <th>25718</th>\n",
       "      <td>NaN</td>\n",
       "      <td>NaN</td>\n",
       "      <td>NaN</td>\n",
       "      <td>NaN</td>\n",
       "      <td>NaN</td>\n",
       "      <td>NaN</td>\n",
       "      <td>NaN</td>\n",
       "      <td>NaN</td>\n",
       "      <td>NaN</td>\n",
       "      <td>NaN</td>\n",
       "      <td>NaN</td>\n",
       "      <td>NaN</td>\n",
       "      <td>NaN</td>\n",
       "    </tr>\n",
       "    <tr>\n",
       "      <th>25719</th>\n",
       "      <td>NaN</td>\n",
       "      <td>NaN</td>\n",
       "      <td>NaN</td>\n",
       "      <td>NaN</td>\n",
       "      <td>NaN</td>\n",
       "      <td>NaN</td>\n",
       "      <td>NaN</td>\n",
       "      <td>NaN</td>\n",
       "      <td>NaN</td>\n",
       "      <td>NaN</td>\n",
       "      <td>NaN</td>\n",
       "      <td>NaN</td>\n",
       "      <td>NaN</td>\n",
       "    </tr>\n",
       "    <tr>\n",
       "      <th>25720</th>\n",
       "      <td>NaN</td>\n",
       "      <td>NaN</td>\n",
       "      <td>NaN</td>\n",
       "      <td>NaN</td>\n",
       "      <td>NaN</td>\n",
       "      <td>NaN</td>\n",
       "      <td>NaN</td>\n",
       "      <td>NaN</td>\n",
       "      <td>NaN</td>\n",
       "      <td>NaN</td>\n",
       "      <td>NaN</td>\n",
       "      <td>NaN</td>\n",
       "      <td>NaN</td>\n",
       "    </tr>\n",
       "    <tr>\n",
       "      <th>25721</th>\n",
       "      <td>NaN</td>\n",
       "      <td>NaN</td>\n",
       "      <td>NaN</td>\n",
       "      <td>NaN</td>\n",
       "      <td>NaN</td>\n",
       "      <td>NaN</td>\n",
       "      <td>NaN</td>\n",
       "      <td>NaN</td>\n",
       "      <td>NaN</td>\n",
       "      <td>NaN</td>\n",
       "      <td>NaN</td>\n",
       "      <td>NaN</td>\n",
       "      <td>NaN</td>\n",
       "    </tr>\n",
       "    <tr>\n",
       "      <th>25722</th>\n",
       "      <td>NaN</td>\n",
       "      <td>NaN</td>\n",
       "      <td>NaN</td>\n",
       "      <td>NaN</td>\n",
       "      <td>NaN</td>\n",
       "      <td>NaN</td>\n",
       "      <td>NaN</td>\n",
       "      <td>NaN</td>\n",
       "      <td>NaN</td>\n",
       "      <td>NaN</td>\n",
       "      <td>NaN</td>\n",
       "      <td>NaN</td>\n",
       "      <td>NaN</td>\n",
       "    </tr>\n",
       "  </tbody>\n",
       "</table>\n",
       "<p>25723 rows × 13 columns</p>\n",
       "</div>"
      ],
      "text/plain": [
       "              Date    Year        Type    Country             Area  \\\n",
       "0      25-Jun-2018  2018.0     Boating        USA       California   \n",
       "1      18-Jun-2018  2018.0  Unprovoked        USA          Georgia   \n",
       "2      09-Jun-2018  2018.0     Invalid        USA           Hawaii   \n",
       "3      08-Jun-2018  2018.0  Unprovoked  AUSTRALIA  New South Wales   \n",
       "4      04-Jun-2018  2018.0    Provoked     MEXICO           Colima   \n",
       "...            ...     ...         ...        ...              ...   \n",
       "25718          NaN     NaN         NaN        NaN              NaN   \n",
       "25719          NaN     NaN         NaN        NaN              NaN   \n",
       "25720          NaN     NaN         NaN        NaN              NaN   \n",
       "25721          NaN     NaN         NaN        NaN              NaN   \n",
       "25722          NaN     NaN         NaN        NaN              NaN   \n",
       "\n",
       "                             Location     Activity Sex   Age  \\\n",
       "0         Oceanside, San Diego County     Paddling    F   57   \n",
       "1      St. Simon Island, Glynn County     Standing    F   11   \n",
       "2                        Habush, Oahu      Surfing    M   48   \n",
       "3                  Arrawarra Headland      Surfing    M  NaN   \n",
       "4                            La Ticla  Free diving    M  NaN   \n",
       "...                               ...          ...  ...  ...   \n",
       "25718                             NaN          NaN  NaN  NaN   \n",
       "25719                             NaN          NaN  NaN  NaN   \n",
       "25720                             NaN          NaN  NaN  NaN   \n",
       "25721                             NaN          NaN  NaN  NaN   \n",
       "25722                             NaN          NaN  NaN  NaN   \n",
       "\n",
       "                                                  Injury Fatal (Y/N)  \\\n",
       "0      No injury to occupant, outrigger canoe and pad...           N   \n",
       "1                             Minor injury to left thigh           N   \n",
       "2           Injury to left lower leg from surfboard skeg           N   \n",
       "3                              Minor injury to lower leg           N   \n",
       "4      Lacerations to leg & hand shark PROVOKED INCIDENT           N   \n",
       "...                                                  ...         ...   \n",
       "25718                                                NaN         NaN   \n",
       "25719                                                NaN         NaN   \n",
       "25720                                                NaN         NaN   \n",
       "25721                                                NaN         NaN   \n",
       "25722                                                NaN         NaN   \n",
       "\n",
       "                Time         Species   \n",
       "0              18h00      White shark  \n",
       "1      14h00  -15h00              NaN  \n",
       "2              07h45              NaN  \n",
       "3                NaN        2 m shark  \n",
       "4                NaN  Tiger shark, 3m  \n",
       "...              ...              ...  \n",
       "25718            NaN              NaN  \n",
       "25719            NaN              NaN  \n",
       "25720            NaN              NaN  \n",
       "25721            NaN              NaN  \n",
       "25722            NaN              NaN  \n",
       "\n",
       "[25723 rows x 13 columns]"
      ]
     },
     "execution_count": 1643,
     "metadata": {},
     "output_type": "execute_result"
    }
   ],
   "source": [
    "# check updated DataFrame\n",
    "sharks_copy"
   ]
  },
  {
   "cell_type": "code",
   "execution_count": 1644,
   "metadata": {},
   "outputs": [
    {
     "data": {
      "text/plain": [
       "Index(['Date', 'Year', 'Type', 'Country', 'Area', 'Location', 'Activity',\n",
       "       'Sex ', 'Age', 'Injury', 'Fatal (Y/N)', 'Time', 'Species '],\n",
       "      dtype='object')"
      ]
     },
     "execution_count": 1644,
     "metadata": {},
     "output_type": "execute_result"
    }
   ],
   "source": [
    "# columns standarization\n",
    "# check for columns\n",
    "sharks_copy.columns"
   ]
  },
  {
   "cell_type": "code",
   "execution_count": 1645,
   "metadata": {},
   "outputs": [
    {
     "data": {
      "text/plain": [
       "Index(['Date', 'Year', 'Type', 'Country', 'Area', 'Location', 'Activity',\n",
       "       'Sex', 'Age', 'Injury', 'Fatal (Y/N)', 'Time', 'Species'],\n",
       "      dtype='object')"
      ]
     },
     "execution_count": 1645,
     "metadata": {},
     "output_type": "execute_result"
    }
   ],
   "source": [
    "# columns standarization\n",
    "# remove whitespaces in all columns (although just \"Sex \" and \"Species \" are affected) just in case\n",
    "sharks_copy.columns = sharks_copy.columns.str.strip()\n",
    "sharks_copy.columns\n"
   ]
  },
  {
   "cell_type": "code",
   "execution_count": 1646,
   "metadata": {},
   "outputs": [
    {
     "data": {
      "text/plain": [
       "Index(['date', 'year', 'type', 'country', 'area', 'location', 'activity',\n",
       "       'sex', 'age', 'injury', 'fatal (y/n)', 'time', 'species'],\n",
       "      dtype='object')"
      ]
     },
     "execution_count": 1646,
     "metadata": {},
     "output_type": "execute_result"
    }
   ],
   "source": [
    "# columns standarization\n",
    "# get all names in lowercase\n",
    "sharks_copy.columns = sharks_copy.columns.str.lower()\n",
    "sharks_copy.columns\n"
   ]
  },
  {
   "cell_type": "code",
   "execution_count": 1647,
   "metadata": {},
   "outputs": [
    {
     "data": {
      "text/plain": [
       "Index(['date', 'year', 'type', 'country', 'area', 'location', 'activity',\n",
       "       'sex', 'age', 'injury', 'fatal_(y/n)', 'time', 'species'],\n",
       "      dtype='object')"
      ]
     },
     "execution_count": 1647,
     "metadata": {},
     "output_type": "execute_result"
    }
   ],
   "source": [
    "# columns standarization\n",
    "# put underscores in names with spaces in between\n",
    "sharks_copy.columns = sharks_copy.columns.str.replace(\" \", \"_\")\n",
    "sharks_copy.columns     # is it good to have parenthesis in names? or better to remove?"
   ]
  },
  {
   "cell_type": "code",
   "execution_count": 1648,
   "metadata": {},
   "outputs": [
    {
     "data": {
      "text/html": [
       "<div>\n",
       "<style scoped>\n",
       "    .dataframe tbody tr th:only-of-type {\n",
       "        vertical-align: middle;\n",
       "    }\n",
       "\n",
       "    .dataframe tbody tr th {\n",
       "        vertical-align: top;\n",
       "    }\n",
       "\n",
       "    .dataframe thead th {\n",
       "        text-align: right;\n",
       "    }\n",
       "</style>\n",
       "<table border=\"1\" class=\"dataframe\">\n",
       "  <thead>\n",
       "    <tr style=\"text-align: right;\">\n",
       "      <th></th>\n",
       "      <th>date</th>\n",
       "      <th>year</th>\n",
       "      <th>type</th>\n",
       "      <th>country</th>\n",
       "      <th>area</th>\n",
       "      <th>location</th>\n",
       "      <th>activity</th>\n",
       "      <th>sex</th>\n",
       "      <th>age</th>\n",
       "      <th>injury</th>\n",
       "      <th>fatal_(y/n)</th>\n",
       "      <th>time</th>\n",
       "      <th>species</th>\n",
       "    </tr>\n",
       "  </thead>\n",
       "  <tbody>\n",
       "    <tr>\n",
       "      <th>0</th>\n",
       "      <td>25-Jun-2018</td>\n",
       "      <td>2018.0</td>\n",
       "      <td>Boating</td>\n",
       "      <td>USA</td>\n",
       "      <td>California</td>\n",
       "      <td>Oceanside, San Diego County</td>\n",
       "      <td>Paddling</td>\n",
       "      <td>F</td>\n",
       "      <td>57</td>\n",
       "      <td>No injury to occupant, outrigger canoe and pad...</td>\n",
       "      <td>N</td>\n",
       "      <td>18h00</td>\n",
       "      <td>White shark</td>\n",
       "    </tr>\n",
       "    <tr>\n",
       "      <th>1</th>\n",
       "      <td>18-Jun-2018</td>\n",
       "      <td>2018.0</td>\n",
       "      <td>Unprovoked</td>\n",
       "      <td>USA</td>\n",
       "      <td>Georgia</td>\n",
       "      <td>St. Simon Island, Glynn County</td>\n",
       "      <td>Standing</td>\n",
       "      <td>F</td>\n",
       "      <td>11</td>\n",
       "      <td>Minor injury to left thigh</td>\n",
       "      <td>N</td>\n",
       "      <td>14h00  -15h00</td>\n",
       "      <td>NaN</td>\n",
       "    </tr>\n",
       "    <tr>\n",
       "      <th>2</th>\n",
       "      <td>09-Jun-2018</td>\n",
       "      <td>2018.0</td>\n",
       "      <td>Invalid</td>\n",
       "      <td>USA</td>\n",
       "      <td>Hawaii</td>\n",
       "      <td>Habush, Oahu</td>\n",
       "      <td>Surfing</td>\n",
       "      <td>M</td>\n",
       "      <td>48</td>\n",
       "      <td>Injury to left lower leg from surfboard skeg</td>\n",
       "      <td>N</td>\n",
       "      <td>07h45</td>\n",
       "      <td>NaN</td>\n",
       "    </tr>\n",
       "    <tr>\n",
       "      <th>3</th>\n",
       "      <td>08-Jun-2018</td>\n",
       "      <td>2018.0</td>\n",
       "      <td>Unprovoked</td>\n",
       "      <td>AUSTRALIA</td>\n",
       "      <td>New South Wales</td>\n",
       "      <td>Arrawarra Headland</td>\n",
       "      <td>Surfing</td>\n",
       "      <td>M</td>\n",
       "      <td>NaN</td>\n",
       "      <td>Minor injury to lower leg</td>\n",
       "      <td>N</td>\n",
       "      <td>NaN</td>\n",
       "      <td>2 m shark</td>\n",
       "    </tr>\n",
       "    <tr>\n",
       "      <th>4</th>\n",
       "      <td>04-Jun-2018</td>\n",
       "      <td>2018.0</td>\n",
       "      <td>Provoked</td>\n",
       "      <td>MEXICO</td>\n",
       "      <td>Colima</td>\n",
       "      <td>La Ticla</td>\n",
       "      <td>Free diving</td>\n",
       "      <td>M</td>\n",
       "      <td>NaN</td>\n",
       "      <td>Lacerations to leg &amp; hand shark PROVOKED INCIDENT</td>\n",
       "      <td>N</td>\n",
       "      <td>NaN</td>\n",
       "      <td>Tiger shark, 3m</td>\n",
       "    </tr>\n",
       "    <tr>\n",
       "      <th>...</th>\n",
       "      <td>...</td>\n",
       "      <td>...</td>\n",
       "      <td>...</td>\n",
       "      <td>...</td>\n",
       "      <td>...</td>\n",
       "      <td>...</td>\n",
       "      <td>...</td>\n",
       "      <td>...</td>\n",
       "      <td>...</td>\n",
       "      <td>...</td>\n",
       "      <td>...</td>\n",
       "      <td>...</td>\n",
       "      <td>...</td>\n",
       "    </tr>\n",
       "    <tr>\n",
       "      <th>6297</th>\n",
       "      <td>Before 1903</td>\n",
       "      <td>0.0</td>\n",
       "      <td>Unprovoked</td>\n",
       "      <td>AUSTRALIA</td>\n",
       "      <td>Western Australia</td>\n",
       "      <td>Roebuck Bay</td>\n",
       "      <td>Diving</td>\n",
       "      <td>M</td>\n",
       "      <td>NaN</td>\n",
       "      <td>FATAL</td>\n",
       "      <td>Y</td>\n",
       "      <td>NaN</td>\n",
       "      <td>NaN</td>\n",
       "    </tr>\n",
       "    <tr>\n",
       "      <th>6298</th>\n",
       "      <td>Before 1903</td>\n",
       "      <td>0.0</td>\n",
       "      <td>Unprovoked</td>\n",
       "      <td>AUSTRALIA</td>\n",
       "      <td>Western Australia</td>\n",
       "      <td>NaN</td>\n",
       "      <td>Pearl diving</td>\n",
       "      <td>M</td>\n",
       "      <td>NaN</td>\n",
       "      <td>FATAL</td>\n",
       "      <td>Y</td>\n",
       "      <td>NaN</td>\n",
       "      <td>NaN</td>\n",
       "    </tr>\n",
       "    <tr>\n",
       "      <th>6299</th>\n",
       "      <td>1900-1905</td>\n",
       "      <td>0.0</td>\n",
       "      <td>Unprovoked</td>\n",
       "      <td>USA</td>\n",
       "      <td>North Carolina</td>\n",
       "      <td>Ocracoke Inlet</td>\n",
       "      <td>Swimming</td>\n",
       "      <td>M</td>\n",
       "      <td>NaN</td>\n",
       "      <td>FATAL</td>\n",
       "      <td>Y</td>\n",
       "      <td>NaN</td>\n",
       "      <td>NaN</td>\n",
       "    </tr>\n",
       "    <tr>\n",
       "      <th>6300</th>\n",
       "      <td>1883-1889</td>\n",
       "      <td>0.0</td>\n",
       "      <td>Unprovoked</td>\n",
       "      <td>PANAMA</td>\n",
       "      <td>NaN</td>\n",
       "      <td>Panama Bay 8ºN, 79ºW</td>\n",
       "      <td>NaN</td>\n",
       "      <td>M</td>\n",
       "      <td>NaN</td>\n",
       "      <td>FATAL</td>\n",
       "      <td>Y</td>\n",
       "      <td>NaN</td>\n",
       "      <td>NaN</td>\n",
       "    </tr>\n",
       "    <tr>\n",
       "      <th>6301</th>\n",
       "      <td>1845-1853</td>\n",
       "      <td>0.0</td>\n",
       "      <td>Unprovoked</td>\n",
       "      <td>CEYLON (SRI LANKA)</td>\n",
       "      <td>Eastern Province</td>\n",
       "      <td>Below the English fort, Trincomalee</td>\n",
       "      <td>Swimming</td>\n",
       "      <td>M</td>\n",
       "      <td>15</td>\n",
       "      <td>FATAL. \"Shark bit him in half, carrying away t...</td>\n",
       "      <td>Y</td>\n",
       "      <td>NaN</td>\n",
       "      <td>NaN</td>\n",
       "    </tr>\n",
       "  </tbody>\n",
       "</table>\n",
       "<p>6302 rows × 13 columns</p>\n",
       "</div>"
      ],
      "text/plain": [
       "             date    year        type             country               area  \\\n",
       "0     25-Jun-2018  2018.0     Boating                 USA         California   \n",
       "1     18-Jun-2018  2018.0  Unprovoked                 USA            Georgia   \n",
       "2     09-Jun-2018  2018.0     Invalid                 USA             Hawaii   \n",
       "3     08-Jun-2018  2018.0  Unprovoked           AUSTRALIA    New South Wales   \n",
       "4     04-Jun-2018  2018.0    Provoked              MEXICO             Colima   \n",
       "...           ...     ...         ...                 ...                ...   \n",
       "6297  Before 1903     0.0  Unprovoked           AUSTRALIA  Western Australia   \n",
       "6298  Before 1903     0.0  Unprovoked           AUSTRALIA  Western Australia   \n",
       "6299    1900-1905     0.0  Unprovoked                 USA     North Carolina   \n",
       "6300    1883-1889     0.0  Unprovoked              PANAMA                NaN   \n",
       "6301    1845-1853     0.0  Unprovoked  CEYLON (SRI LANKA)   Eastern Province   \n",
       "\n",
       "                                 location      activity sex  age  \\\n",
       "0             Oceanside, San Diego County      Paddling   F   57   \n",
       "1          St. Simon Island, Glynn County      Standing   F   11   \n",
       "2                            Habush, Oahu       Surfing   M   48   \n",
       "3                      Arrawarra Headland       Surfing   M  NaN   \n",
       "4                                La Ticla   Free diving   M  NaN   \n",
       "...                                   ...           ...  ..  ...   \n",
       "6297                          Roebuck Bay        Diving   M  NaN   \n",
       "6298                                  NaN  Pearl diving   M  NaN   \n",
       "6299                       Ocracoke Inlet      Swimming   M  NaN   \n",
       "6300                 Panama Bay 8ºN, 79ºW           NaN   M  NaN   \n",
       "6301  Below the English fort, Trincomalee      Swimming   M   15   \n",
       "\n",
       "                                                 injury fatal_(y/n)  \\\n",
       "0     No injury to occupant, outrigger canoe and pad...           N   \n",
       "1                            Minor injury to left thigh           N   \n",
       "2          Injury to left lower leg from surfboard skeg           N   \n",
       "3                             Minor injury to lower leg           N   \n",
       "4     Lacerations to leg & hand shark PROVOKED INCIDENT           N   \n",
       "...                                                 ...         ...   \n",
       "6297                                              FATAL           Y   \n",
       "6298                                              FATAL           Y   \n",
       "6299                                              FATAL           Y   \n",
       "6300                                              FATAL           Y   \n",
       "6301  FATAL. \"Shark bit him in half, carrying away t...           Y   \n",
       "\n",
       "               time          species  \n",
       "0             18h00      White shark  \n",
       "1     14h00  -15h00              NaN  \n",
       "2             07h45              NaN  \n",
       "3               NaN        2 m shark  \n",
       "4               NaN  Tiger shark, 3m  \n",
       "...             ...              ...  \n",
       "6297            NaN              NaN  \n",
       "6298            NaN              NaN  \n",
       "6299            NaN              NaN  \n",
       "6300            NaN              NaN  \n",
       "6301            NaN              NaN  \n",
       "\n",
       "[6302 rows x 13 columns]"
      ]
     },
     "execution_count": 1648,
     "metadata": {},
     "output_type": "execute_result"
    }
   ],
   "source": [
    "# data cleaning\n",
    "# remove rows where all values in them are nulls/NaNs\n",
    "sharks_copy_cleaned = sharks_copy.dropna(how=\"all\")\n",
    "sharks_copy_cleaned"
   ]
  },
  {
   "cell_type": "code",
   "execution_count": 1649,
   "metadata": {},
   "outputs": [
    {
     "data": {
      "text/html": [
       "<div>\n",
       "<style scoped>\n",
       "    .dataframe tbody tr th:only-of-type {\n",
       "        vertical-align: middle;\n",
       "    }\n",
       "\n",
       "    .dataframe tbody tr th {\n",
       "        vertical-align: top;\n",
       "    }\n",
       "\n",
       "    .dataframe thead th {\n",
       "        text-align: right;\n",
       "    }\n",
       "</style>\n",
       "<table border=\"1\" class=\"dataframe\">\n",
       "  <thead>\n",
       "    <tr style=\"text-align: right;\">\n",
       "      <th></th>\n",
       "      <th>date</th>\n",
       "      <th>year</th>\n",
       "      <th>type</th>\n",
       "      <th>country</th>\n",
       "      <th>area</th>\n",
       "      <th>location</th>\n",
       "      <th>activity</th>\n",
       "      <th>sex</th>\n",
       "      <th>age</th>\n",
       "      <th>injury</th>\n",
       "      <th>fatal_(y/n)</th>\n",
       "      <th>time</th>\n",
       "      <th>species</th>\n",
       "    </tr>\n",
       "  </thead>\n",
       "  <tbody>\n",
       "    <tr>\n",
       "      <th>0</th>\n",
       "      <td>25-Jun-2018</td>\n",
       "      <td>2018.0</td>\n",
       "      <td>Boating</td>\n",
       "      <td>Usa</td>\n",
       "      <td>California</td>\n",
       "      <td>Oceanside, San Diego County</td>\n",
       "      <td>Paddling</td>\n",
       "      <td>F</td>\n",
       "      <td>57</td>\n",
       "      <td>No injury to occupant, outrigger canoe and pad...</td>\n",
       "      <td>N</td>\n",
       "      <td>18h00</td>\n",
       "      <td>White shark</td>\n",
       "    </tr>\n",
       "    <tr>\n",
       "      <th>1</th>\n",
       "      <td>18-Jun-2018</td>\n",
       "      <td>2018.0</td>\n",
       "      <td>Unprovoked</td>\n",
       "      <td>Usa</td>\n",
       "      <td>Georgia</td>\n",
       "      <td>St. Simon Island, Glynn County</td>\n",
       "      <td>Standing</td>\n",
       "      <td>F</td>\n",
       "      <td>11</td>\n",
       "      <td>Minor injury to left thigh</td>\n",
       "      <td>N</td>\n",
       "      <td>14h00  -15h00</td>\n",
       "      <td>NaN</td>\n",
       "    </tr>\n",
       "    <tr>\n",
       "      <th>2</th>\n",
       "      <td>09-Jun-2018</td>\n",
       "      <td>2018.0</td>\n",
       "      <td>Invalid</td>\n",
       "      <td>Usa</td>\n",
       "      <td>Hawaii</td>\n",
       "      <td>Habush, Oahu</td>\n",
       "      <td>Surfing</td>\n",
       "      <td>M</td>\n",
       "      <td>48</td>\n",
       "      <td>Injury to left lower leg from surfboard skeg</td>\n",
       "      <td>N</td>\n",
       "      <td>07h45</td>\n",
       "      <td>NaN</td>\n",
       "    </tr>\n",
       "    <tr>\n",
       "      <th>3</th>\n",
       "      <td>08-Jun-2018</td>\n",
       "      <td>2018.0</td>\n",
       "      <td>Unprovoked</td>\n",
       "      <td>Australia</td>\n",
       "      <td>New South Wales</td>\n",
       "      <td>Arrawarra Headland</td>\n",
       "      <td>Surfing</td>\n",
       "      <td>M</td>\n",
       "      <td>NaN</td>\n",
       "      <td>Minor injury to lower leg</td>\n",
       "      <td>N</td>\n",
       "      <td>NaN</td>\n",
       "      <td>2 m shark</td>\n",
       "    </tr>\n",
       "    <tr>\n",
       "      <th>4</th>\n",
       "      <td>04-Jun-2018</td>\n",
       "      <td>2018.0</td>\n",
       "      <td>Provoked</td>\n",
       "      <td>Mexico</td>\n",
       "      <td>Colima</td>\n",
       "      <td>La Ticla</td>\n",
       "      <td>Free diving</td>\n",
       "      <td>M</td>\n",
       "      <td>NaN</td>\n",
       "      <td>Lacerations to leg &amp; hand shark PROVOKED INCIDENT</td>\n",
       "      <td>N</td>\n",
       "      <td>NaN</td>\n",
       "      <td>Tiger shark, 3m</td>\n",
       "    </tr>\n",
       "    <tr>\n",
       "      <th>...</th>\n",
       "      <td>...</td>\n",
       "      <td>...</td>\n",
       "      <td>...</td>\n",
       "      <td>...</td>\n",
       "      <td>...</td>\n",
       "      <td>...</td>\n",
       "      <td>...</td>\n",
       "      <td>...</td>\n",
       "      <td>...</td>\n",
       "      <td>...</td>\n",
       "      <td>...</td>\n",
       "      <td>...</td>\n",
       "      <td>...</td>\n",
       "    </tr>\n",
       "    <tr>\n",
       "      <th>6297</th>\n",
       "      <td>Before 1903</td>\n",
       "      <td>0.0</td>\n",
       "      <td>Unprovoked</td>\n",
       "      <td>Australia</td>\n",
       "      <td>Western Australia</td>\n",
       "      <td>Roebuck Bay</td>\n",
       "      <td>Diving</td>\n",
       "      <td>M</td>\n",
       "      <td>NaN</td>\n",
       "      <td>FATAL</td>\n",
       "      <td>Y</td>\n",
       "      <td>NaN</td>\n",
       "      <td>NaN</td>\n",
       "    </tr>\n",
       "    <tr>\n",
       "      <th>6298</th>\n",
       "      <td>Before 1903</td>\n",
       "      <td>0.0</td>\n",
       "      <td>Unprovoked</td>\n",
       "      <td>Australia</td>\n",
       "      <td>Western Australia</td>\n",
       "      <td>NaN</td>\n",
       "      <td>Pearl diving</td>\n",
       "      <td>M</td>\n",
       "      <td>NaN</td>\n",
       "      <td>FATAL</td>\n",
       "      <td>Y</td>\n",
       "      <td>NaN</td>\n",
       "      <td>NaN</td>\n",
       "    </tr>\n",
       "    <tr>\n",
       "      <th>6299</th>\n",
       "      <td>1900-1905</td>\n",
       "      <td>0.0</td>\n",
       "      <td>Unprovoked</td>\n",
       "      <td>Usa</td>\n",
       "      <td>North Carolina</td>\n",
       "      <td>Ocracoke Inlet</td>\n",
       "      <td>Swimming</td>\n",
       "      <td>M</td>\n",
       "      <td>NaN</td>\n",
       "      <td>FATAL</td>\n",
       "      <td>Y</td>\n",
       "      <td>NaN</td>\n",
       "      <td>NaN</td>\n",
       "    </tr>\n",
       "    <tr>\n",
       "      <th>6300</th>\n",
       "      <td>1883-1889</td>\n",
       "      <td>0.0</td>\n",
       "      <td>Unprovoked</td>\n",
       "      <td>Panama</td>\n",
       "      <td>NaN</td>\n",
       "      <td>Panama Bay 8ºN, 79ºW</td>\n",
       "      <td>NaN</td>\n",
       "      <td>M</td>\n",
       "      <td>NaN</td>\n",
       "      <td>FATAL</td>\n",
       "      <td>Y</td>\n",
       "      <td>NaN</td>\n",
       "      <td>NaN</td>\n",
       "    </tr>\n",
       "    <tr>\n",
       "      <th>6301</th>\n",
       "      <td>1845-1853</td>\n",
       "      <td>0.0</td>\n",
       "      <td>Unprovoked</td>\n",
       "      <td>Ceylon (Sri Lanka)</td>\n",
       "      <td>Eastern Province</td>\n",
       "      <td>Below the English fort, Trincomalee</td>\n",
       "      <td>Swimming</td>\n",
       "      <td>M</td>\n",
       "      <td>15</td>\n",
       "      <td>FATAL. \"Shark bit him in half, carrying away t...</td>\n",
       "      <td>Y</td>\n",
       "      <td>NaN</td>\n",
       "      <td>NaN</td>\n",
       "    </tr>\n",
       "  </tbody>\n",
       "</table>\n",
       "<p>6302 rows × 13 columns</p>\n",
       "</div>"
      ],
      "text/plain": [
       "             date    year        type             country               area  \\\n",
       "0     25-Jun-2018  2018.0     Boating                 Usa         California   \n",
       "1     18-Jun-2018  2018.0  Unprovoked                 Usa            Georgia   \n",
       "2     09-Jun-2018  2018.0     Invalid                 Usa             Hawaii   \n",
       "3     08-Jun-2018  2018.0  Unprovoked           Australia    New South Wales   \n",
       "4     04-Jun-2018  2018.0    Provoked              Mexico             Colima   \n",
       "...           ...     ...         ...                 ...                ...   \n",
       "6297  Before 1903     0.0  Unprovoked           Australia  Western Australia   \n",
       "6298  Before 1903     0.0  Unprovoked           Australia  Western Australia   \n",
       "6299    1900-1905     0.0  Unprovoked                 Usa     North Carolina   \n",
       "6300    1883-1889     0.0  Unprovoked              Panama                NaN   \n",
       "6301    1845-1853     0.0  Unprovoked  Ceylon (Sri Lanka)   Eastern Province   \n",
       "\n",
       "                                 location      activity sex  age  \\\n",
       "0             Oceanside, San Diego County      Paddling   F   57   \n",
       "1          St. Simon Island, Glynn County      Standing   F   11   \n",
       "2                            Habush, Oahu       Surfing   M   48   \n",
       "3                      Arrawarra Headland       Surfing   M  NaN   \n",
       "4                                La Ticla   Free diving   M  NaN   \n",
       "...                                   ...           ...  ..  ...   \n",
       "6297                          Roebuck Bay        Diving   M  NaN   \n",
       "6298                                  NaN  Pearl diving   M  NaN   \n",
       "6299                       Ocracoke Inlet      Swimming   M  NaN   \n",
       "6300                 Panama Bay 8ºN, 79ºW           NaN   M  NaN   \n",
       "6301  Below the English fort, Trincomalee      Swimming   M   15   \n",
       "\n",
       "                                                 injury fatal_(y/n)  \\\n",
       "0     No injury to occupant, outrigger canoe and pad...           N   \n",
       "1                            Minor injury to left thigh           N   \n",
       "2          Injury to left lower leg from surfboard skeg           N   \n",
       "3                             Minor injury to lower leg           N   \n",
       "4     Lacerations to leg & hand shark PROVOKED INCIDENT           N   \n",
       "...                                                 ...         ...   \n",
       "6297                                              FATAL           Y   \n",
       "6298                                              FATAL           Y   \n",
       "6299                                              FATAL           Y   \n",
       "6300                                              FATAL           Y   \n",
       "6301  FATAL. \"Shark bit him in half, carrying away t...           Y   \n",
       "\n",
       "               time          species  \n",
       "0             18h00      White shark  \n",
       "1     14h00  -15h00              NaN  \n",
       "2             07h45              NaN  \n",
       "3               NaN        2 m shark  \n",
       "4               NaN  Tiger shark, 3m  \n",
       "...             ...              ...  \n",
       "6297            NaN              NaN  \n",
       "6298            NaN              NaN  \n",
       "6299            NaN              NaN  \n",
       "6300            NaN              NaN  \n",
       "6301            NaN              NaN  \n",
       "\n",
       "[6302 rows x 13 columns]"
      ]
     },
     "execution_count": 1649,
     "metadata": {},
     "output_type": "execute_result"
    }
   ],
   "source": [
    "# data cleaning - renaming\n",
    "# title names in column \"country\" (it will be useful to link with a new column -\"continent\"- in future stages)\n",
    "sharks_copy_cleaned[\"country\"] = sharks_copy_cleaned[\"country\"].str.title()\n",
    "sharks_copy_cleaned\n",
    "# consider to replace \"Usa\" for \"United States\" and \"England\" for \"united Kingdom\" so the link with \"continent\" is OK"
   ]
  },
  {
   "cell_type": "code",
   "execution_count": 1650,
   "metadata": {},
   "outputs": [
    {
     "data": {
      "text/plain": [
       "array(['Usa', 'Australia', 'Mexico', 'Brazil', 'England', 'South Africa',\n",
       "       'Thailand', 'Costa Rica', 'Maldives', 'Bahamas', 'New Caledonia',\n",
       "       'Ecuador', 'Malaysia', 'Libya', nan, 'Cuba', 'Mauritius',\n",
       "       'New Zealand', 'Spain', 'Samoa', 'Solomon Islands', 'Japan',\n",
       "       'Egypt', 'St Helena, British Overseas Territory', 'Comoros',\n",
       "       'Reunion', 'French Polynesia', 'United Kingdom',\n",
       "       'United Arab Emirates', 'Philippines', 'Indonesia', 'China',\n",
       "       'Columbia', 'Cape Verde', 'Fiji', 'Dominican Republic',\n",
       "       'Cayman Islands', 'Aruba', 'Mozambique', 'Puerto Rico', 'Italy',\n",
       "       'Atlantic Ocean', 'Greece', 'St. Martin', 'France',\n",
       "       'Papua New Guinea', 'Trinidad & Tobago', 'Kiribati', 'Israel',\n",
       "       'Diego Garcia', 'Taiwan', 'Jamaica', 'Palestinian Territories',\n",
       "       'Guam', 'Seychelles', 'Belize', 'Nigeria', 'Tonga', 'Scotland',\n",
       "       'Canada', 'Croatia', 'Saudi Arabia', 'Chile', 'Antigua', 'Kenya',\n",
       "       'Russia', 'Turks & Caicos', 'United Arab Emirates (Uae)', 'Azores',\n",
       "       'South Korea', 'Malta', 'Vietnam', 'Madagascar', 'Panama',\n",
       "       'Somalia', 'Nevis', 'British Virgin Islands', 'Norway', 'Senegal',\n",
       "       'Yemen', 'Gulf Of Aden', 'Sierra Leone', 'St. Maartin',\n",
       "       'Grand Cayman', 'Liberia', 'Vanuatu', 'Mexico ', 'Honduras',\n",
       "       'Venezuela', 'Sri Lanka', ' Tonga', 'Uruguay', 'India',\n",
       "       'Micronesia', 'Caribbean Sea', 'Okinawa', 'Tanzania',\n",
       "       'Marshall Islands', 'Egypt / Israel', 'Northern Arabian Sea',\n",
       "       'Hong Kong', 'El Salvador', 'Angola', 'Bermuda', 'Montenegro',\n",
       "       'Iran', 'Tunisia', 'Namibia', 'North Atlantic Ocean', 'Portugal',\n",
       "       'South China Sea', 'Bangladesh', 'Palau', 'Western Samoa',\n",
       "       'Pacific Ocean ', 'British Isles', 'Grenada', 'Iraq', 'Turkey',\n",
       "       'Singapore', 'New Britain', 'Sudan', 'Johnston Island',\n",
       "       'South Pacific Ocean', 'New Guinea', 'Red Sea',\n",
       "       'North Pacific Ocean', 'Federated States Of Micronesia',\n",
       "       'Mid Atlantic Ocean', 'Admiralty Islands', 'British West Indies',\n",
       "       'South Atlantic Ocean', 'Persian Gulf', 'Red Sea / Indian Ocean',\n",
       "       'Pacific Ocean', 'North Sea', 'Nicaragua ', 'Maldive Islands',\n",
       "       'American Samoa', 'Andaman / Nicobar Islandas', 'Gabon', 'Mayotte',\n",
       "       'North Atlantic Ocean ', 'The Balkans', 'Sudan?', 'Argentina',\n",
       "       'Martinique', 'Indian Ocean', 'Guatemala', 'Netherlands Antilles',\n",
       "       'Northern Mariana Islands', 'Iran / Iraq', 'Java', ' Philippines',\n",
       "       'Nicaragua', 'Central Pacific', 'Solomon Islands / Vanuatu',\n",
       "       'Southwest Pacific Ocean', 'Bay Of Bengal', 'Mid-Pacifc Ocean',\n",
       "       'Slovenia', 'Curacao', 'Iceland', 'Italy / Croatia', 'Barbados',\n",
       "       'Monaco', 'Guyana', 'Haiti', 'San Domingo', 'Ireland', 'Kuwait',\n",
       "       'Yemen ', 'Reunion Island', 'Falkland Islands', 'Crete', 'Cyprus',\n",
       "       'Egypt ', 'West Indies', 'Burma', 'Lebanon', 'Paraguay',\n",
       "       'British New Guinea', 'Ceylon', 'Ocean', 'Georgia', 'Syria',\n",
       "       'Tuvalu', 'Indian Ocean?', 'Guinea', 'Andaman Islands',\n",
       "       'Equatorial Guinea / Cameroon', 'Cook Islands', 'Tobago', 'Peru',\n",
       "       'Africa', 'Algeria', 'Coast Of Africa', 'Tasman Sea', 'Ghana',\n",
       "       'Greenland', 'Mediterranean Sea', 'Sweden', 'Roatan',\n",
       "       'Between Portugal & India', 'Djibouti', 'Bahrein', 'Korea',\n",
       "       'Red Sea?', 'Asia?', 'Ceylon (Sri Lanka)'], dtype=object)"
      ]
     },
     "execution_count": 1650,
     "metadata": {},
     "output_type": "execute_result"
    }
   ],
   "source": [
    "# data cleaning - renaming\n",
    "# country names\n",
    "country_sharks = sharks_copy_cleaned[\"country\"]\n",
    "country_sharks.unique()"
   ]
  },
  {
   "cell_type": "code",
   "execution_count": 1651,
   "metadata": {},
   "outputs": [
    {
     "data": {
      "text/plain": [
       "country\n",
       "False    6252\n",
       "True       50\n",
       "Name: count, dtype: int64"
      ]
     },
     "execution_count": 1651,
     "metadata": {},
     "output_type": "execute_result"
    }
   ],
   "source": [
    "# data cleaning - renaming\n",
    "# country names\n",
    "country_sharks.isna().value_counts()"
   ]
  },
  {
   "cell_type": "code",
   "execution_count": 1652,
   "metadata": {},
   "outputs": [
    {
     "data": {
      "text/plain": [
       "country\n",
       "Usa                           2229\n",
       "Australia                     1338\n",
       "South Africa                   579\n",
       "Papua New Guinea               134\n",
       "New Zealand                    128\n",
       "                              ... \n",
       "Andaman / Nicobar Islandas       1\n",
       "Maldive Islands                  1\n",
       "Nicaragua                        1\n",
       "North Sea                        1\n",
       "Ceylon (Sri Lanka)               1\n",
       "Name: count, Length: 209, dtype: int64"
      ]
     },
     "execution_count": 1652,
     "metadata": {},
     "output_type": "execute_result"
    }
   ],
   "source": [
    "# data cleaning - renaming\n",
    "# country names\n",
    "country_sharks.value_counts()"
   ]
  },
  {
   "cell_type": "code",
   "execution_count": 1653,
   "metadata": {},
   "outputs": [
    {
     "data": {
      "text/plain": [
       "{'Ecuador': 'Other',\n",
       " 'Sierra Leone': 'Other',\n",
       " 'Columbia': 'Other',\n",
       " 'Taiwan': 'Other',\n",
       " 'Seychelles': 'Other',\n",
       " 'South Korea': 'Other',\n",
       " 'Samoa': 'Other',\n",
       " 'Scotland': 'Other',\n",
       " 'Thailand': 'Other',\n",
       " 'Caribbean Sea': 'Other',\n",
       " 'Chile': 'Other',\n",
       " 'Tanzania': 'Other',\n",
       " 'Madagascar': 'Other',\n",
       " 'China': 'Other',\n",
       " 'North Pacific Ocean': 'Other',\n",
       " 'Dominican Republic': 'Other',\n",
       " 'Indian Ocean': 'Other',\n",
       " 'Israel': 'Other',\n",
       " 'Yemen ': 'Other',\n",
       " 'Somalia': 'Other',\n",
       " 'Barbados': 'Other',\n",
       " 'Singapore': 'Other',\n",
       " 'New Britain': 'Other',\n",
       " 'Libya': 'Other',\n",
       " 'Kiribati': 'Other',\n",
       " 'Okinawa': 'Other',\n",
       " 'Nicaragua': 'Other',\n",
       " 'Mid Atlantic Ocean': 'Other',\n",
       " 'Saudi Arabia': 'Other',\n",
       " 'Malaysia': 'Other',\n",
       " 'Palau': 'Other',\n",
       " 'Malta': 'Other',\n",
       " 'Turks & Caicos': 'Other',\n",
       " 'Azores': 'Other',\n",
       " 'North Atlantic Ocean': 'Other',\n",
       " 'El Salvador': 'Other',\n",
       " 'Burma': 'Other',\n",
       " 'Uruguay': 'Other',\n",
       " 'Grenada': 'Other',\n",
       " 'Persian Gulf': 'Other',\n",
       " 'Honduras': 'Other',\n",
       " 'Guam': 'Other',\n",
       " 'Sudan': 'Other',\n",
       " 'Nigeria': 'Other',\n",
       " 'Russia': 'Other',\n",
       " 'Lebanon': 'Other',\n",
       " 'Ceylon': 'Other',\n",
       " 'Guinea': 'Other',\n",
       " 'Guyana': 'Other',\n",
       " 'Portugal': 'Other',\n",
       " 'Haiti': 'Other',\n",
       " 'Martinique': 'Other',\n",
       " 'Tunisia': 'Other',\n",
       " 'American Samoa': 'Other',\n",
       " 'Micronesia': 'Other',\n",
       " 'Montenegro': 'Other',\n",
       " 'Cape Verde': 'Other',\n",
       " 'Liberia': 'Other',\n",
       " 'Belize': 'Other',\n",
       " 'Trinidad & Tobago': 'Other',\n",
       " ' Tonga': 'Other',\n",
       " 'West Indies': 'Other',\n",
       " 'Yemen': 'Other',\n",
       " 'Norway': 'Other',\n",
       " 'United Arab Emirates (Uae)': 'Other',\n",
       " 'Egypt ': 'Other',\n",
       " 'South Pacific Ocean': 'Other',\n",
       " 'Crete': 'Other',\n",
       " 'Central Pacific': 'Other',\n",
       " 'Southwest Pacific Ocean': 'Other',\n",
       " 'Cayman Islands': 'Other',\n",
       " 'United Arab Emirates': 'Other',\n",
       " 'Mediterranean Sea': 'Other',\n",
       " 'Antigua': 'Other',\n",
       " 'Johnston Island': 'Other',\n",
       " 'St Helena, British Overseas Territory': 'Other',\n",
       " 'Namibia': 'Other',\n",
       " 'Tobago': 'Other',\n",
       " 'Pacific Ocean ': 'Other',\n",
       " 'Iceland': 'Other',\n",
       " 'Tuvalu': 'Other',\n",
       " 'Korea': 'Other',\n",
       " 'Greenland': 'Other',\n",
       " 'Monaco': 'Other',\n",
       " 'Algeria': 'Other',\n",
       " 'Coast Of Africa': 'Other',\n",
       " 'Peru': 'Other',\n",
       " 'San Domingo': 'Other',\n",
       " 'Ghana': 'Other',\n",
       " 'Asia?': 'Other',\n",
       " 'Ireland': 'Other',\n",
       " 'Kuwait': 'Other',\n",
       " 'Red Sea?': 'Other',\n",
       " 'Reunion Island': 'Other',\n",
       " 'Falkland Islands': 'Other',\n",
       " 'Italy / Croatia': 'Other',\n",
       " 'Cook Islands': 'Other',\n",
       " 'Roatan': 'Other',\n",
       " 'Cyprus': 'Other',\n",
       " 'Sweden': 'Other',\n",
       " 'Andaman Islands': 'Other',\n",
       " 'Bahrein': 'Other',\n",
       " 'Djibouti': 'Other',\n",
       " 'Paraguay': 'Other',\n",
       " 'British New Guinea': 'Other',\n",
       " 'Indian Ocean?': 'Other',\n",
       " 'Between Portugal & India': 'Other',\n",
       " 'Ocean': 'Other',\n",
       " 'Georgia': 'Other',\n",
       " 'Africa': 'Other',\n",
       " 'Syria': 'Other',\n",
       " 'Tasman Sea': 'Other',\n",
       " 'Equatorial Guinea / Cameroon': 'Other',\n",
       " 'Comoros': 'Other',\n",
       " 'Curacao': 'Other',\n",
       " 'Grand Cayman': 'Other',\n",
       " 'Red Sea': 'Other',\n",
       " 'British Isles': 'Other',\n",
       " 'Western Samoa': 'Other',\n",
       " 'Bangladesh': 'Other',\n",
       " 'South China Sea': 'Other',\n",
       " 'Angola': 'Other',\n",
       " 'Northern Arabian Sea': 'Other',\n",
       " 'Egypt / Israel': 'Other',\n",
       " 'Mexico ': 'Other',\n",
       " 'St. Maartin': 'Other',\n",
       " 'Slovenia': 'Other',\n",
       " 'Gulf Of Aden': 'Other',\n",
       " 'British Virgin Islands': 'Other',\n",
       " 'Nevis': 'Other',\n",
       " 'Maldives': 'Other',\n",
       " 'Palestinian Territories': 'Other',\n",
       " 'Diego Garcia': 'Other',\n",
       " 'St. Martin': 'Other',\n",
       " 'Puerto Rico': 'Other',\n",
       " 'Aruba': 'Other',\n",
       " 'Federated States Of Micronesia': 'Other',\n",
       " 'Admiralty Islands': 'Other',\n",
       " 'British West Indies': 'Other',\n",
       " 'Red Sea / Indian Ocean': 'Other',\n",
       " 'Mid-Pacifc Ocean': 'Other',\n",
       " 'Bay Of Bengal': 'Other',\n",
       " 'Solomon Islands / Vanuatu': 'Other',\n",
       " ' Philippines': 'Other',\n",
       " 'Java': 'Other',\n",
       " 'Iran / Iraq': 'Other',\n",
       " 'Northern Mariana Islands': 'Other',\n",
       " 'Netherlands Antilles': 'Other',\n",
       " 'Guatemala': 'Other',\n",
       " 'Argentina': 'Other',\n",
       " 'Sudan?': 'Other',\n",
       " 'The Balkans': 'Other',\n",
       " 'North Atlantic Ocean ': 'Other',\n",
       " 'Mayotte': 'Other',\n",
       " 'Gabon': 'Other',\n",
       " 'Andaman / Nicobar Islandas': 'Other',\n",
       " 'Maldive Islands': 'Other',\n",
       " 'Nicaragua ': 'Other',\n",
       " 'North Sea': 'Other',\n",
       " 'Ceylon (Sri Lanka)': 'Other'}"
      ]
     },
     "execution_count": 1653,
     "metadata": {},
     "output_type": "execute_result"
    }
   ],
   "source": [
    "country_sharks_counts = country_sharks.value_counts()\n",
    "\n",
    "threshold = 10\n",
    "count_mask = country_sharks_counts[country_sharks_counts < threshold].index     # value counts is a Series, and all Series have an Index\n",
    "\n",
    "mask_dict = {}     # creating a dictionary for those countries with a count < threshold of 10, and assing \"Other\" to them\n",
    "for x in count_mask.tolist():\n",
    "    mask_dict[x] = \"Other\"\n",
    "\n",
    "mask_dict"
   ]
  },
  {
   "cell_type": "code",
   "execution_count": 1654,
   "metadata": {},
   "outputs": [
    {
     "data": {
      "text/plain": [
       "country\n",
       "Usa                     2229\n",
       "Australia               1338\n",
       "South Africa             579\n",
       "Other                    443\n",
       "Papua New Guinea         134\n",
       "New Zealand              128\n",
       "Brazil                   112\n",
       "Bahamas                  109\n",
       "Mexico                    89\n",
       "Italy                     71\n",
       "Fiji                      65\n",
       "Philippines               61\n",
       "Reunion                   60\n",
       "New Caledonia             53\n",
       "Cuba                      46\n",
       "Mozambique                45\n",
       "Spain                     44\n",
       "India                     40\n",
       "Egypt                     38\n",
       "Japan                     34\n",
       "Croatia                   34\n",
       "Panama                    32\n",
       "Solomon Islands           30\n",
       "Iran                      29\n",
       "Jamaica                   27\n",
       "French Polynesia          25\n",
       "Greece                    25\n",
       "Hong Kong                 24\n",
       "Indonesia                 23\n",
       "England                   23\n",
       "Atlantic Ocean            17\n",
       "Pacific Ocean             17\n",
       "Costa Rica                17\n",
       "Bermuda                   16\n",
       "Vietnam                   15\n",
       "Tonga                     15\n",
       "Vanuatu                   14\n",
       "Sri Lanka                 14\n",
       "France                    13\n",
       "Marshall Islands          13\n",
       "South Atlantic Ocean      12\n",
       "Turkey                    12\n",
       "Iraq                      12\n",
       "Canada                    12\n",
       "Venezuela                 11\n",
       "Senegal                   11\n",
       "United Kingdom            11\n",
       "Mauritius                 10\n",
       "New Guinea                10\n",
       "Kenya                     10\n",
       "Name: count, dtype: int64"
      ]
     },
     "execution_count": 1654,
     "metadata": {},
     "output_type": "execute_result"
    }
   ],
   "source": [
    "# data cleaning - renaming\n",
    "# country names -- replacing such country names below the above dictionary threshold for \"Other\"\n",
    "sharks_copy_cleaned[\"country\"] = sharks_copy_cleaned[\"country\"].replace(mask_dict)\n",
    "\n",
    "sharks_copy_cleaned[\"country\"].value_counts()"
   ]
  },
  {
   "cell_type": "code",
   "execution_count": 1655,
   "metadata": {},
   "outputs": [
    {
     "data": {
      "text/plain": [
       "country\n",
       "False    6252\n",
       "True       50\n",
       "Name: count, dtype: int64"
      ]
     },
     "execution_count": 1655,
     "metadata": {},
     "output_type": "execute_result"
    }
   ],
   "source": [
    "# data cleaning - renaming\n",
    "# country names - check for NaN values\n",
    "sharks_copy_cleaned[\"country\"].isna().value_counts()"
   ]
  },
  {
   "cell_type": "code",
   "execution_count": 1656,
   "metadata": {},
   "outputs": [
    {
     "data": {
      "text/plain": [
       "Index([  62,  525, 2956, 3378, 3387, 3388, 3395, 3399, 3425, 3605, 3661, 4018,\n",
       "       4231, 4266, 4498, 4639, 4700, 4712, 4726, 4729, 4911, 5020, 5060, 5425,\n",
       "       5586, 5587, 5612, 5636, 5742, 5770, 5808, 5810, 5839, 5885, 5920, 5996,\n",
       "       6001, 6092, 6119, 6131, 6133, 6137, 6155, 6165, 6171, 6175, 6177, 6199,\n",
       "       6206, 6259],\n",
       "      dtype='int64')"
      ]
     },
     "execution_count": 1656,
     "metadata": {},
     "output_type": "execute_result"
    }
   ],
   "source": [
    "# data cleaning - renaming\n",
    "# country names - check for position for NaN\n",
    "nan_country_positions = sharks_copy_cleaned[sharks_copy_cleaned[\"country\"].isna()].index\n",
    "nan_country_positions"
   ]
  },
  {
   "cell_type": "code",
   "execution_count": 1657,
   "metadata": {},
   "outputs": [
    {
     "data": {
      "text/html": [
       "<div>\n",
       "<style scoped>\n",
       "    .dataframe tbody tr th:only-of-type {\n",
       "        vertical-align: middle;\n",
       "    }\n",
       "\n",
       "    .dataframe tbody tr th {\n",
       "        vertical-align: top;\n",
       "    }\n",
       "\n",
       "    .dataframe thead th {\n",
       "        text-align: right;\n",
       "    }\n",
       "</style>\n",
       "<table border=\"1\" class=\"dataframe\">\n",
       "  <thead>\n",
       "    <tr style=\"text-align: right;\">\n",
       "      <th></th>\n",
       "      <th>date</th>\n",
       "      <th>year</th>\n",
       "      <th>type</th>\n",
       "      <th>country</th>\n",
       "      <th>area</th>\n",
       "      <th>location</th>\n",
       "      <th>activity</th>\n",
       "      <th>sex</th>\n",
       "      <th>age</th>\n",
       "      <th>injury</th>\n",
       "      <th>fatal_(y/n)</th>\n",
       "      <th>time</th>\n",
       "      <th>species</th>\n",
       "    </tr>\n",
       "  </thead>\n",
       "  <tbody>\n",
       "    <tr>\n",
       "      <th>62</th>\n",
       "      <td>Reported 13-Nov-2017</td>\n",
       "      <td>2017.0</td>\n",
       "      <td>Unprovoked</td>\n",
       "      <td>NaN</td>\n",
       "      <td>NaN</td>\n",
       "      <td>NaN</td>\n",
       "      <td>Surfing</td>\n",
       "      <td>M</td>\n",
       "      <td>24</td>\n",
       "      <td>Puncture wounds to feet</td>\n",
       "      <td>N</td>\n",
       "      <td>NaN</td>\n",
       "      <td>NaN</td>\n",
       "    </tr>\n",
       "    <tr>\n",
       "      <th>525</th>\n",
       "      <td>Aug-2014</td>\n",
       "      <td>2014.0</td>\n",
       "      <td>Invalid</td>\n",
       "      <td>NaN</td>\n",
       "      <td>NaN</td>\n",
       "      <td>NaN</td>\n",
       "      <td>Sea disaster</td>\n",
       "      <td>M</td>\n",
       "      <td>NaN</td>\n",
       "      <td>Shark involvement prior to death not confirmed</td>\n",
       "      <td>NaN</td>\n",
       "      <td>NaN</td>\n",
       "      <td>Shark involvement not confirmed</td>\n",
       "    </tr>\n",
       "    <tr>\n",
       "      <th>3388</th>\n",
       "      <td>5-Jul-1970</td>\n",
       "      <td>1970.0</td>\n",
       "      <td>Unprovoked</td>\n",
       "      <td>NaN</td>\n",
       "      <td>NaN</td>\n",
       "      <td>NaN</td>\n",
       "      <td>NaN</td>\n",
       "      <td>M</td>\n",
       "      <td>NaN</td>\n",
       "      <td>Finger or toe severed</td>\n",
       "      <td>N</td>\n",
       "      <td>Night</td>\n",
       "      <td>Mako shark</td>\n",
       "    </tr>\n",
       "    <tr>\n",
       "      <th>4729</th>\n",
       "      <td>1942</td>\n",
       "      <td>1942.0</td>\n",
       "      <td>Boating</td>\n",
       "      <td>NaN</td>\n",
       "      <td>NaN</td>\n",
       "      <td>NaN</td>\n",
       "      <td>Days before the surrender of Singapore, the 3 ...</td>\n",
       "      <td>M</td>\n",
       "      <td>NaN</td>\n",
       "      <td>No injury to occupants. Sharks continually fol...</td>\n",
       "      <td>N</td>\n",
       "      <td>NaN</td>\n",
       "      <td>NaN</td>\n",
       "    </tr>\n",
       "    <tr>\n",
       "      <th>5810</th>\n",
       "      <td>25-Jul-1881</td>\n",
       "      <td>1881.0</td>\n",
       "      <td>Unprovoked</td>\n",
       "      <td>NaN</td>\n",
       "      <td>NaN</td>\n",
       "      <td>Santa Cruz</td>\n",
       "      <td>Bathing</td>\n",
       "      <td>M</td>\n",
       "      <td>NaN</td>\n",
       "      <td>Survived</td>\n",
       "      <td>N</td>\n",
       "      <td>NaN</td>\n",
       "      <td>NaN</td>\n",
       "    </tr>\n",
       "    <tr>\n",
       "      <th>6137</th>\n",
       "      <td>05-Jul-1787</td>\n",
       "      <td>1787.0</td>\n",
       "      <td>Unprovoked</td>\n",
       "      <td>NaN</td>\n",
       "      <td>St Helena</td>\n",
       "      <td>Landing Place</td>\n",
       "      <td>Swimming</td>\n",
       "      <td>M</td>\n",
       "      <td>NaN</td>\n",
       "      <td>FATAL</td>\n",
       "      <td>Y</td>\n",
       "      <td>NaN</td>\n",
       "      <td>NaN</td>\n",
       "    </tr>\n",
       "    <tr>\n",
       "      <th>6259</th>\n",
       "      <td>1941-1945</td>\n",
       "      <td>0.0</td>\n",
       "      <td>Sea Disaster</td>\n",
       "      <td>NaN</td>\n",
       "      <td>NaN</td>\n",
       "      <td>NaN</td>\n",
       "      <td>A group of survivors on a raft for 17-days</td>\n",
       "      <td>NaN</td>\n",
       "      <td>NaN</td>\n",
       "      <td>FATAL, shark leapt into raft and bit the man w...</td>\n",
       "      <td>Y</td>\n",
       "      <td>Late afternoon</td>\n",
       "      <td>1.2 m [4'] shark</td>\n",
       "    </tr>\n",
       "  </tbody>\n",
       "</table>\n",
       "</div>"
      ],
      "text/plain": [
       "                      date    year          type country       area  \\\n",
       "62    Reported 13-Nov-2017  2017.0    Unprovoked     NaN        NaN   \n",
       "525               Aug-2014  2014.0       Invalid     NaN        NaN   \n",
       "3388            5-Jul-1970  1970.0    Unprovoked     NaN        NaN   \n",
       "4729                  1942  1942.0       Boating     NaN        NaN   \n",
       "5810           25-Jul-1881  1881.0    Unprovoked     NaN        NaN   \n",
       "6137           05-Jul-1787  1787.0    Unprovoked     NaN  St Helena   \n",
       "6259             1941-1945     0.0  Sea Disaster     NaN        NaN   \n",
       "\n",
       "           location                                           activity  sex  \\\n",
       "62              NaN                                            Surfing    M   \n",
       "525             NaN                                       Sea disaster    M   \n",
       "3388            NaN                                                NaN    M   \n",
       "4729            NaN  Days before the surrender of Singapore, the 3 ...    M   \n",
       "5810     Santa Cruz                                            Bathing    M   \n",
       "6137  Landing Place                                           Swimming    M   \n",
       "6259            NaN         A group of survivors on a raft for 17-days  NaN   \n",
       "\n",
       "      age                                             injury fatal_(y/n)  \\\n",
       "62     24                            Puncture wounds to feet           N   \n",
       "525   NaN     Shark involvement prior to death not confirmed         NaN   \n",
       "3388  NaN                              Finger or toe severed           N   \n",
       "4729  NaN  No injury to occupants. Sharks continually fol...           N   \n",
       "5810  NaN                                           Survived           N   \n",
       "6137  NaN                                              FATAL           Y   \n",
       "6259  NaN  FATAL, shark leapt into raft and bit the man w...           Y   \n",
       "\n",
       "                time                          species  \n",
       "62               NaN                              NaN  \n",
       "525              NaN  Shark involvement not confirmed  \n",
       "3388           Night                       Mako shark  \n",
       "4729             NaN                              NaN  \n",
       "5810             NaN                              NaN  \n",
       "6137             NaN                              NaN  \n",
       "6259  Late afternoon                 1.2 m [4'] shark  "
      ]
     },
     "execution_count": 1657,
     "metadata": {},
     "output_type": "execute_result"
    }
   ],
   "source": [
    "sharks_copy_cleaned.loc[[62, 525, 3388, 4729, 5810, 6137, 6259]]     # check data for some of the above index list"
   ]
  },
  {
   "cell_type": "code",
   "execution_count": 1658,
   "metadata": {},
   "outputs": [
    {
     "data": {
      "text/plain": [
       "(6252, 13)"
      ]
     },
     "execution_count": 1658,
     "metadata": {},
     "output_type": "execute_result"
    }
   ],
   "source": [
    "# data cleaning - renaming\n",
    "# country names - dropping indexes with NaN values since it's difficult to replace an amount not significant compare to whole datafarme\n",
    "# reset indexes and check the current dataframe size\n",
    "sharks_copy_cleaned.dropna(subset=[\"country\"], inplace = True)\n",
    "sharks_copy_cleaned.reset_index(inplace = True, drop = True)\n",
    "sharks_copy_cleaned.shape"
   ]
  },
  {
   "cell_type": "code",
   "execution_count": 1659,
   "metadata": {},
   "outputs": [
    {
     "data": {
      "text/plain": [
       "country\n",
       "United States           2229\n",
       "Australia               1338\n",
       "South Africa             579\n",
       "Other                    443\n",
       "Papua New Guinea         134\n",
       "New Zealand              128\n",
       "Brazil                   112\n",
       "Bahamas                  109\n",
       "Mexico                    89\n",
       "Italy                     71\n",
       "Fiji                      65\n",
       "Philippines               61\n",
       "Reunion                   60\n",
       "New Caledonia             53\n",
       "Cuba                      46\n",
       "Mozambique                45\n",
       "Spain                     44\n",
       "India                     40\n",
       "Egypt                     38\n",
       "Japan                     34\n",
       "Croatia                   34\n",
       "United Kingdom            34\n",
       "Panama                    32\n",
       "Solomon Islands           30\n",
       "Iran                      29\n",
       "Jamaica                   27\n",
       "French Polynesia          25\n",
       "Greece                    25\n",
       "Hong Kong                 24\n",
       "Indonesia                 23\n",
       "Atlantic Ocean            17\n",
       "Pacific Ocean             17\n",
       "Costa Rica                17\n",
       "Bermuda                   16\n",
       "Vietnam                   15\n",
       "Tonga                     15\n",
       "Vanuatu                   14\n",
       "Sri Lanka                 14\n",
       "France                    13\n",
       "Marshall Islands          13\n",
       "Iraq                      12\n",
       "Turkey                    12\n",
       "South Atlantic Ocean      12\n",
       "Canada                    12\n",
       "Venezuela                 11\n",
       "Senegal                   11\n",
       "Kenya                     10\n",
       "Mauritius                 10\n",
       "New Guinea                10\n",
       "Name: count, dtype: int64"
      ]
     },
     "execution_count": 1659,
     "metadata": {},
     "output_type": "execute_result"
    }
   ],
   "source": [
    "# data cleaning - renaming\n",
    "# country names - replace \"Usa\" for \"United States\" and \"England\" for \"United Kingdom\"\n",
    "sharks_copy_cleaned[\"country\"] = sharks_copy_cleaned[\"country\"].replace([\"Usa\", \"England\"], [\"United States\", \"United Kingdom\"])\n",
    "sharks_copy_cleaned[\"country\"].value_counts()"
   ]
  },
  {
   "cell_type": "code",
   "execution_count": 1660,
   "metadata": {},
   "outputs": [
    {
     "data": {
      "text/plain": [
       "array(['United States', 'Australia', 'Mexico', 'Brazil', 'United Kingdom',\n",
       "       'South Africa', 'Other', 'Costa Rica', 'Bahamas', 'New Caledonia',\n",
       "       'Cuba', 'Mauritius', 'New Zealand', 'Spain', 'Solomon Islands',\n",
       "       'Japan', 'Egypt', 'Reunion', 'French Polynesia', 'Philippines',\n",
       "       'Indonesia', 'Fiji', 'Mozambique', 'Italy', 'Atlantic Ocean',\n",
       "       'Greece', 'France', 'Papua New Guinea', 'Jamaica', 'Tonga',\n",
       "       'Canada', 'Croatia', 'Kenya', 'Vietnam', 'Panama', 'Senegal',\n",
       "       'Vanuatu', 'Venezuela', 'Sri Lanka', 'India', 'Marshall Islands',\n",
       "       'Hong Kong', 'Bermuda', 'Iran', 'Iraq', 'Turkey', 'New Guinea',\n",
       "       'South Atlantic Ocean', 'Pacific Ocean'], dtype=object)"
      ]
     },
     "execution_count": 1660,
     "metadata": {},
     "output_type": "execute_result"
    }
   ],
   "source": [
    "# check country names\n",
    "sharks_copy_cleaned[\"country\"].unique()"
   ]
  },
  {
   "cell_type": "code",
   "execution_count": 1661,
   "metadata": {},
   "outputs": [
    {
     "data": {
      "text/html": [
       "<div>\n",
       "<style scoped>\n",
       "    .dataframe tbody tr th:only-of-type {\n",
       "        vertical-align: middle;\n",
       "    }\n",
       "\n",
       "    .dataframe tbody tr th {\n",
       "        vertical-align: top;\n",
       "    }\n",
       "\n",
       "    .dataframe thead th {\n",
       "        text-align: right;\n",
       "    }\n",
       "</style>\n",
       "<table border=\"1\" class=\"dataframe\">\n",
       "  <thead>\n",
       "    <tr style=\"text-align: right;\">\n",
       "      <th></th>\n",
       "      <th>date</th>\n",
       "      <th>year</th>\n",
       "      <th>type</th>\n",
       "      <th>country</th>\n",
       "      <th>area</th>\n",
       "      <th>location</th>\n",
       "      <th>activity</th>\n",
       "      <th>sex</th>\n",
       "      <th>age</th>\n",
       "      <th>injury</th>\n",
       "      <th>fatal_(y/n)</th>\n",
       "      <th>time</th>\n",
       "      <th>species</th>\n",
       "    </tr>\n",
       "  </thead>\n",
       "  <tbody>\n",
       "    <tr>\n",
       "      <th>445</th>\n",
       "      <td>15-Feb-2015</td>\n",
       "      <td>2015.0</td>\n",
       "      <td>Boating</td>\n",
       "      <td>Atlantic Ocean</td>\n",
       "      <td>NaN</td>\n",
       "      <td>NaN</td>\n",
       "      <td>Transatlantic Rowing</td>\n",
       "      <td>NaN</td>\n",
       "      <td>NaN</td>\n",
       "      <td>No injury, shark bit rudder</td>\n",
       "      <td>N</td>\n",
       "      <td>NaN</td>\n",
       "      <td>White shark</td>\n",
       "    </tr>\n",
       "    <tr>\n",
       "      <th>1504</th>\n",
       "      <td>Reported 28-Jan-2006</td>\n",
       "      <td>2006.0</td>\n",
       "      <td>Boating</td>\n",
       "      <td>Atlantic Ocean</td>\n",
       "      <td>300 miles from Antigua</td>\n",
       "      <td>NaN</td>\n",
       "      <td>Competing in the Woodvale Atlantic Rowing Race</td>\n",
       "      <td>M</td>\n",
       "      <td>46 &amp; 34</td>\n",
       "      <td>No injury to occupants; shark rammed boat repe...</td>\n",
       "      <td>N</td>\n",
       "      <td>NaN</td>\n",
       "      <td>12' shark</td>\n",
       "    </tr>\n",
       "    <tr>\n",
       "      <th>1506</th>\n",
       "      <td>23-Jan-2006</td>\n",
       "      <td>2006.0</td>\n",
       "      <td>Boating</td>\n",
       "      <td>Atlantic Ocean</td>\n",
       "      <td>800 miles from land</td>\n",
       "      <td>NaN</td>\n",
       "      <td>Competing in the Woodvale Atlantic Rowing Race</td>\n",
       "      <td>F</td>\n",
       "      <td>28, 23 &amp; 30</td>\n",
       "      <td>No injury to occupants; a shark, accidentally ...</td>\n",
       "      <td>N</td>\n",
       "      <td>NaN</td>\n",
       "      <td>NaN</td>\n",
       "    </tr>\n",
       "    <tr>\n",
       "      <th>1515</th>\n",
       "      <td>20-Dec-2005</td>\n",
       "      <td>2005.0</td>\n",
       "      <td>Boating</td>\n",
       "      <td>Atlantic Ocean</td>\n",
       "      <td>600 nm west of the Canary Islands</td>\n",
       "      <td>NaN</td>\n",
       "      <td>Competing in the Woodvale Atlantic Rowing Race</td>\n",
       "      <td>NaN</td>\n",
       "      <td>NaN</td>\n",
       "      <td>No injury to occupants, shark rammed boat for ...</td>\n",
       "      <td>N</td>\n",
       "      <td>13h30</td>\n",
       "      <td>3 m shark</td>\n",
       "    </tr>\n",
       "    <tr>\n",
       "      <th>3708</th>\n",
       "      <td>22-Dec-1963</td>\n",
       "      <td>1963.0</td>\n",
       "      <td>Invalid</td>\n",
       "      <td>Atlantic Ocean</td>\n",
       "      <td>Between Southampton &amp; Canary Islands</td>\n",
       "      <td>NaN</td>\n",
       "      <td>Greek steamship Lakonia caught fire, 98 of her...</td>\n",
       "      <td>F</td>\n",
       "      <td>NaN</td>\n",
       "      <td>One woman reported to have suffered fish bites...</td>\n",
       "      <td>NaN</td>\n",
       "      <td>NaN</td>\n",
       "      <td>Invalid</td>\n",
       "    </tr>\n",
       "    <tr>\n",
       "      <th>3919</th>\n",
       "      <td>06-Jan-1961</td>\n",
       "      <td>1961.0</td>\n",
       "      <td>Sea Disaster</td>\n",
       "      <td>Atlantic Ocean</td>\n",
       "      <td>9.35N 79.35W</td>\n",
       "      <td>East of La Grande Island, North of Panama Canal</td>\n",
       "      <td>Pacific Seafarer of US Navy</td>\n",
       "      <td>NaN</td>\n",
       "      <td>NaN</td>\n",
       "      <td>3 were lost, 3 survived</td>\n",
       "      <td>Y</td>\n",
       "      <td>NaN</td>\n",
       "      <td>NaN</td>\n",
       "    </tr>\n",
       "    <tr>\n",
       "      <th>4110</th>\n",
       "      <td>1959</td>\n",
       "      <td>1959.0</td>\n",
       "      <td>Provoked</td>\n",
       "      <td>Atlantic Ocean</td>\n",
       "      <td>NaN</td>\n",
       "      <td>NaN</td>\n",
       "      <td>Paddling &amp; sailing from Buenos Aires to Miami</td>\n",
       "      <td>M</td>\n",
       "      <td>NaN</td>\n",
       "      <td>Hooked shark bit his arm PROVOKED INCIDENT</td>\n",
       "      <td>N</td>\n",
       "      <td>NaN</td>\n",
       "      <td>Tiger shark, 12' ?</td>\n",
       "    </tr>\n",
       "    <tr>\n",
       "      <th>4685</th>\n",
       "      <td>30-Sep-1942</td>\n",
       "      <td>1942.0</td>\n",
       "      <td>Sea Disaster</td>\n",
       "      <td>Atlantic Ocean</td>\n",
       "      <td>04.05N-13.23W</td>\n",
       "      <td>NaN</td>\n",
       "      <td>The 6015-ton British ship Empire Avocet was to...</td>\n",
       "      <td>NaN</td>\n",
       "      <td>NaN</td>\n",
       "      <td>Survivors on life rafts were harassed by sharks</td>\n",
       "      <td>N</td>\n",
       "      <td>NaN</td>\n",
       "      <td>NaN</td>\n",
       "    </tr>\n",
       "    <tr>\n",
       "      <th>4686</th>\n",
       "      <td>12-Sep-1942</td>\n",
       "      <td>1942.0</td>\n",
       "      <td>Sea Disaster</td>\n",
       "      <td>Atlantic Ocean</td>\n",
       "      <td>NaN</td>\n",
       "      <td>360 miles north of Ascension Island</td>\n",
       "      <td>The Pacquebot Laconia, enroute to Liverpool wi...</td>\n",
       "      <td>M</td>\n",
       "      <td>NaN</td>\n",
       "      <td>Calf lacerated. He was rescued by German subma...</td>\n",
       "      <td>N</td>\n",
       "      <td>NaN</td>\n",
       "      <td>NaN</td>\n",
       "    </tr>\n",
       "    <tr>\n",
       "      <th>4690</th>\n",
       "      <td>12-Jul-1942</td>\n",
       "      <td>1942.0</td>\n",
       "      <td>Sea Disaster</td>\n",
       "      <td>Atlantic Ocean</td>\n",
       "      <td>NaN</td>\n",
       "      <td>NaN</td>\n",
       "      <td>The SS Potlach was torpedoed &amp; sunk by the U-1...</td>\n",
       "      <td>M</td>\n",
       "      <td>32</td>\n",
       "      <td>FATAL Arm bitten</td>\n",
       "      <td>Y</td>\n",
       "      <td>NaN</td>\n",
       "      <td>NaN</td>\n",
       "    </tr>\n",
       "    <tr>\n",
       "      <th>4730</th>\n",
       "      <td>Jan-1941</td>\n",
       "      <td>1941.0</td>\n",
       "      <td>Sea Disaster</td>\n",
       "      <td>Atlantic Ocean</td>\n",
       "      <td>NaN</td>\n",
       "      <td>NaN</td>\n",
       "      <td>Adrift on raft after their ship was sunk by an...</td>\n",
       "      <td>M</td>\n",
       "      <td>NaN</td>\n",
       "      <td>FATAL</td>\n",
       "      <td>Y</td>\n",
       "      <td>NaN</td>\n",
       "      <td>NaN</td>\n",
       "    </tr>\n",
       "    <tr>\n",
       "      <th>5290</th>\n",
       "      <td>Reported 24-Jun-1916</td>\n",
       "      <td>1916.0</td>\n",
       "      <td>Unprovoked</td>\n",
       "      <td>Atlantic Ocean</td>\n",
       "      <td>NaN</td>\n",
       "      <td>NaN</td>\n",
       "      <td>Jumped overboard from Norwegian steamship Venator</td>\n",
       "      <td>M</td>\n",
       "      <td>NaN</td>\n",
       "      <td>Presumed FATAL</td>\n",
       "      <td>Y</td>\n",
       "      <td>NaN</td>\n",
       "      <td>NaN</td>\n",
       "    </tr>\n",
       "    <tr>\n",
       "      <th>5647</th>\n",
       "      <td>15-Dec-1892</td>\n",
       "      <td>1892.0</td>\n",
       "      <td>Unprovoked</td>\n",
       "      <td>Atlantic Ocean</td>\n",
       "      <td>NaN</td>\n",
       "      <td>NaN</td>\n",
       "      <td>Fell overboard</td>\n",
       "      <td>M</td>\n",
       "      <td>15</td>\n",
       "      <td>FATAL</td>\n",
       "      <td>Y</td>\n",
       "      <td>NaN</td>\n",
       "      <td>NaN</td>\n",
       "    </tr>\n",
       "    <tr>\n",
       "      <th>5669</th>\n",
       "      <td>Reported 25-Oct-1890</td>\n",
       "      <td>1890.0</td>\n",
       "      <td>Unprovoked</td>\n",
       "      <td>Atlantic Ocean</td>\n",
       "      <td>NaN</td>\n",
       "      <td>NaN</td>\n",
       "      <td>Thrown overboard</td>\n",
       "      <td>M</td>\n",
       "      <td>NaN</td>\n",
       "      <td>FATAL</td>\n",
       "      <td>Y</td>\n",
       "      <td>NaN</td>\n",
       "      <td>NaN</td>\n",
       "    </tr>\n",
       "    <tr>\n",
       "      <th>5737</th>\n",
       "      <td>17-Aug-1885</td>\n",
       "      <td>1885.0</td>\n",
       "      <td>Unprovoked</td>\n",
       "      <td>Atlantic Ocean</td>\n",
       "      <td>NaN</td>\n",
       "      <td>NaN</td>\n",
       "      <td>Fell or jumped overboard from the liner Rhynland</td>\n",
       "      <td>M</td>\n",
       "      <td>NaN</td>\n",
       "      <td>FATAL</td>\n",
       "      <td>Y</td>\n",
       "      <td>NaN</td>\n",
       "      <td>NaN</td>\n",
       "    </tr>\n",
       "    <tr>\n",
       "      <th>5772</th>\n",
       "      <td>Reprted 05-Jan-1882</td>\n",
       "      <td>1882.0</td>\n",
       "      <td>Unprovoked</td>\n",
       "      <td>Atlantic Ocean</td>\n",
       "      <td>NaN</td>\n",
       "      <td>NaN</td>\n",
       "      <td>Fell overboard from the Selim</td>\n",
       "      <td>M</td>\n",
       "      <td>NaN</td>\n",
       "      <td>FATAL</td>\n",
       "      <td>Y</td>\n",
       "      <td>NaN</td>\n",
       "      <td>NaN</td>\n",
       "    </tr>\n",
       "    <tr>\n",
       "      <th>5982</th>\n",
       "      <td>28-Jul-1952</td>\n",
       "      <td>1852.0</td>\n",
       "      <td>Invalid</td>\n",
       "      <td>Atlantic Ocean</td>\n",
       "      <td>NaN</td>\n",
       "      <td>NaN</td>\n",
       "      <td>NaN</td>\n",
       "      <td>F</td>\n",
       "      <td>1</td>\n",
       "      <td>Death preceded shark involvement</td>\n",
       "      <td>NaN</td>\n",
       "      <td>NaN</td>\n",
       "      <td>Invalid</td>\n",
       "    </tr>\n",
       "  </tbody>\n",
       "</table>\n",
       "</div>"
      ],
      "text/plain": [
       "                      date    year          type         country  \\\n",
       "445            15-Feb-2015  2015.0       Boating  Atlantic Ocean   \n",
       "1504  Reported 28-Jan-2006  2006.0       Boating  Atlantic Ocean   \n",
       "1506           23-Jan-2006  2006.0       Boating  Atlantic Ocean   \n",
       "1515           20-Dec-2005  2005.0       Boating  Atlantic Ocean   \n",
       "3708           22-Dec-1963  1963.0       Invalid  Atlantic Ocean   \n",
       "3919           06-Jan-1961  1961.0  Sea Disaster  Atlantic Ocean   \n",
       "4110                  1959  1959.0      Provoked  Atlantic Ocean   \n",
       "4685           30-Sep-1942  1942.0  Sea Disaster  Atlantic Ocean   \n",
       "4686           12-Sep-1942  1942.0  Sea Disaster  Atlantic Ocean   \n",
       "4690           12-Jul-1942  1942.0  Sea Disaster  Atlantic Ocean   \n",
       "4730              Jan-1941  1941.0  Sea Disaster  Atlantic Ocean   \n",
       "5290  Reported 24-Jun-1916  1916.0    Unprovoked  Atlantic Ocean   \n",
       "5647           15-Dec-1892  1892.0    Unprovoked  Atlantic Ocean   \n",
       "5669  Reported 25-Oct-1890  1890.0    Unprovoked  Atlantic Ocean   \n",
       "5737           17-Aug-1885  1885.0    Unprovoked  Atlantic Ocean   \n",
       "5772   Reprted 05-Jan-1882  1882.0    Unprovoked  Atlantic Ocean   \n",
       "5982           28-Jul-1952  1852.0       Invalid  Atlantic Ocean   \n",
       "\n",
       "                                      area  \\\n",
       "445                                    NaN   \n",
       "1504                300 miles from Antigua   \n",
       "1506                   800 miles from land   \n",
       "1515     600 nm west of the Canary Islands   \n",
       "3708  Between Southampton & Canary Islands   \n",
       "3919                          9.35N 79.35W   \n",
       "4110                                   NaN   \n",
       "4685                         04.05N-13.23W   \n",
       "4686                                   NaN   \n",
       "4690                                   NaN   \n",
       "4730                                   NaN   \n",
       "5290                                   NaN   \n",
       "5647                                   NaN   \n",
       "5669                                   NaN   \n",
       "5737                                   NaN   \n",
       "5772                                   NaN   \n",
       "5982                                   NaN   \n",
       "\n",
       "                                             location  \\\n",
       "445                                               NaN   \n",
       "1504                                              NaN   \n",
       "1506                                              NaN   \n",
       "1515                                              NaN   \n",
       "3708                                              NaN   \n",
       "3919  East of La Grande Island, North of Panama Canal   \n",
       "4110                                              NaN   \n",
       "4685                                              NaN   \n",
       "4686              360 miles north of Ascension Island   \n",
       "4690                                              NaN   \n",
       "4730                                              NaN   \n",
       "5290                                              NaN   \n",
       "5647                                              NaN   \n",
       "5669                                              NaN   \n",
       "5737                                              NaN   \n",
       "5772                                              NaN   \n",
       "5982                                              NaN   \n",
       "\n",
       "                                               activity  sex          age  \\\n",
       "445                                Transatlantic Rowing  NaN          NaN   \n",
       "1504     Competing in the Woodvale Atlantic Rowing Race    M      46 & 34   \n",
       "1506     Competing in the Woodvale Atlantic Rowing Race    F  28, 23 & 30   \n",
       "1515     Competing in the Woodvale Atlantic Rowing Race  NaN          NaN   \n",
       "3708  Greek steamship Lakonia caught fire, 98 of her...    F          NaN   \n",
       "3919                        Pacific Seafarer of US Navy  NaN          NaN   \n",
       "4110      Paddling & sailing from Buenos Aires to Miami    M          NaN   \n",
       "4685  The 6015-ton British ship Empire Avocet was to...  NaN          NaN   \n",
       "4686  The Pacquebot Laconia, enroute to Liverpool wi...    M          NaN   \n",
       "4690  The SS Potlach was torpedoed & sunk by the U-1...    M           32   \n",
       "4730  Adrift on raft after their ship was sunk by an...    M          NaN   \n",
       "5290  Jumped overboard from Norwegian steamship Venator    M          NaN   \n",
       "5647                                     Fell overboard    M           15   \n",
       "5669                                   Thrown overboard    M          NaN   \n",
       "5737   Fell or jumped overboard from the liner Rhynland    M          NaN   \n",
       "5772                      Fell overboard from the Selim    M          NaN   \n",
       "5982                                                NaN    F            1   \n",
       "\n",
       "                                                 injury fatal_(y/n)   time  \\\n",
       "445                         No injury, shark bit rudder           N    NaN   \n",
       "1504  No injury to occupants; shark rammed boat repe...           N    NaN   \n",
       "1506  No injury to occupants; a shark, accidentally ...           N    NaN   \n",
       "1515  No injury to occupants, shark rammed boat for ...           N  13h30   \n",
       "3708  One woman reported to have suffered fish bites...         NaN    NaN   \n",
       "3919                            3 were lost, 3 survived           Y    NaN   \n",
       "4110         Hooked shark bit his arm PROVOKED INCIDENT           N    NaN   \n",
       "4685    Survivors on life rafts were harassed by sharks           N    NaN   \n",
       "4686  Calf lacerated. He was rescued by German subma...           N    NaN   \n",
       "4690                                   FATAL Arm bitten           Y    NaN   \n",
       "4730                                              FATAL           Y    NaN   \n",
       "5290                                     Presumed FATAL           Y    NaN   \n",
       "5647                                              FATAL           Y    NaN   \n",
       "5669                                              FATAL           Y    NaN   \n",
       "5737                                              FATAL           Y    NaN   \n",
       "5772                                              FATAL           Y    NaN   \n",
       "5982                   Death preceded shark involvement         NaN    NaN   \n",
       "\n",
       "                 species  \n",
       "445          White shark  \n",
       "1504           12' shark  \n",
       "1506                 NaN  \n",
       "1515           3 m shark  \n",
       "3708             Invalid  \n",
       "3919                 NaN  \n",
       "4110  Tiger shark, 12' ?  \n",
       "4685                 NaN  \n",
       "4686                 NaN  \n",
       "4690                 NaN  \n",
       "4730                 NaN  \n",
       "5290                 NaN  \n",
       "5647                 NaN  \n",
       "5669                 NaN  \n",
       "5737                 NaN  \n",
       "5772                 NaN  \n",
       "5982             Invalid  "
      ]
     },
     "execution_count": 1661,
     "metadata": {},
     "output_type": "execute_result"
    }
   ],
   "source": [
    "# check country names\n",
    "# check \"Atlantic Ocean\"\n",
    "atl_oc = sharks_copy_cleaned.index[sharks_copy_cleaned[\"country\"] == \"Atlantic Ocean\"]\n",
    "sharks_copy_cleaned.loc[atl_oc]     # check data"
   ]
  },
  {
   "cell_type": "code",
   "execution_count": 1662,
   "metadata": {},
   "outputs": [
    {
     "data": {
      "text/html": [
       "<div>\n",
       "<style scoped>\n",
       "    .dataframe tbody tr th:only-of-type {\n",
       "        vertical-align: middle;\n",
       "    }\n",
       "\n",
       "    .dataframe tbody tr th {\n",
       "        vertical-align: top;\n",
       "    }\n",
       "\n",
       "    .dataframe thead th {\n",
       "        text-align: right;\n",
       "    }\n",
       "</style>\n",
       "<table border=\"1\" class=\"dataframe\">\n",
       "  <thead>\n",
       "    <tr style=\"text-align: right;\">\n",
       "      <th></th>\n",
       "      <th>date</th>\n",
       "      <th>year</th>\n",
       "      <th>type</th>\n",
       "      <th>country</th>\n",
       "      <th>area</th>\n",
       "      <th>location</th>\n",
       "      <th>activity</th>\n",
       "      <th>sex</th>\n",
       "      <th>age</th>\n",
       "      <th>injury</th>\n",
       "      <th>fatal_(y/n)</th>\n",
       "      <th>time</th>\n",
       "      <th>species</th>\n",
       "    </tr>\n",
       "  </thead>\n",
       "  <tbody>\n",
       "    <tr>\n",
       "      <th>3781</th>\n",
       "      <td>13-Sep-1962</td>\n",
       "      <td>1962.0</td>\n",
       "      <td>Unprovoked</td>\n",
       "      <td>South Atlantic Ocean</td>\n",
       "      <td>Off coast of West Africa</td>\n",
       "      <td>Off the passenger liner Stirling Castle</td>\n",
       "      <td>When  a deckhand  jumped overboard, McIver div...</td>\n",
       "      <td>M</td>\n",
       "      <td>29</td>\n",
       "      <td>FATAL, he died within minutes of being hauled ...</td>\n",
       "      <td>Y</td>\n",
       "      <td>NaN</td>\n",
       "      <td>NaN</td>\n",
       "    </tr>\n",
       "    <tr>\n",
       "      <th>4711</th>\n",
       "      <td>07-Dec-1941</td>\n",
       "      <td>1941.0</td>\n",
       "      <td>Sea Disaster</td>\n",
       "      <td>South Atlantic Ocean</td>\n",
       "      <td>NaN</td>\n",
       "      <td>NaN</td>\n",
       "      <td>Torpedoed &amp; burning British  light cruiser wit...</td>\n",
       "      <td>NaN</td>\n",
       "      <td>NaN</td>\n",
       "      <td>Only 170 survived, many of the crew were said ...</td>\n",
       "      <td>Y</td>\n",
       "      <td>NaN</td>\n",
       "      <td>Reportedly: oceanic whitetip sharks, blue shar...</td>\n",
       "    </tr>\n",
       "    <tr>\n",
       "      <th>4713</th>\n",
       "      <td>27-Nov-1941</td>\n",
       "      <td>1941.0</td>\n",
       "      <td>Sea Disaster</td>\n",
       "      <td>South Atlantic Ocean</td>\n",
       "      <td>Off Libya</td>\n",
       "      <td>NaN</td>\n",
       "      <td>HMAS Parramatta torpedoed &amp; sunk by the U-559</td>\n",
       "      <td>M</td>\n",
       "      <td>23</td>\n",
       "      <td>Right hand severed</td>\n",
       "      <td>N</td>\n",
       "      <td>NaN</td>\n",
       "      <td>Tiger shark</td>\n",
       "    </tr>\n",
       "    <tr>\n",
       "      <th>4714</th>\n",
       "      <td>27-Nov-1941</td>\n",
       "      <td>1941.0</td>\n",
       "      <td>Sea Disaster</td>\n",
       "      <td>South Atlantic Ocean</td>\n",
       "      <td>Off Libya</td>\n",
       "      <td>NaN</td>\n",
       "      <td>HMAS Parramatta torpedoed &amp; sunk by the U-559</td>\n",
       "      <td>M</td>\n",
       "      <td>NaN</td>\n",
       "      <td>Lacerations to chest</td>\n",
       "      <td>N</td>\n",
       "      <td>NaN</td>\n",
       "      <td>Tiger shark</td>\n",
       "    </tr>\n",
       "    <tr>\n",
       "      <th>4715</th>\n",
       "      <td>25-Nov-1941</td>\n",
       "      <td>1941.0</td>\n",
       "      <td>Sea Disaster</td>\n",
       "      <td>South Atlantic Ocean</td>\n",
       "      <td>North of Pernambuco, Brazil</td>\n",
       "      <td>NaN</td>\n",
       "      <td>British cruiser Dunedin torpedoed &amp; sunk by th...</td>\n",
       "      <td>NaN</td>\n",
       "      <td>NaN</td>\n",
       "      <td>418 perished, only 67 survived, some of the me...</td>\n",
       "      <td>Y</td>\n",
       "      <td>NaN</td>\n",
       "      <td>NaN</td>\n",
       "    </tr>\n",
       "    <tr>\n",
       "      <th>4725</th>\n",
       "      <td>24-Mar-1941</td>\n",
       "      <td>1941.0</td>\n",
       "      <td>Sea Disaster</td>\n",
       "      <td>South Atlantic Ocean</td>\n",
       "      <td>NaN</td>\n",
       "      <td>750 miles off the African coast</td>\n",
       "      <td>The troopship Britannia was sunk by the German...</td>\n",
       "      <td>M</td>\n",
       "      <td>NaN</td>\n",
       "      <td>Dr. A.R. Hernandez of ship Cabo Hornos treated...</td>\n",
       "      <td>N</td>\n",
       "      <td>NaN</td>\n",
       "      <td>NaN</td>\n",
       "    </tr>\n",
       "    <tr>\n",
       "      <th>4729</th>\n",
       "      <td>29-Jan-1941</td>\n",
       "      <td>1941.0</td>\n",
       "      <td>Unprovoked</td>\n",
       "      <td>South Atlantic Ocean</td>\n",
       "      <td>In Convoy OB 274</td>\n",
       "      <td>Off Sierra Leone</td>\n",
       "      <td>Rescuing seaman after ship sunk by German raider</td>\n",
       "      <td>M</td>\n",
       "      <td>19</td>\n",
       "      <td>Clothing torn by sharks</td>\n",
       "      <td>N</td>\n",
       "      <td>19h55</td>\n",
       "      <td>NaN</td>\n",
       "    </tr>\n",
       "    <tr>\n",
       "      <th>5128</th>\n",
       "      <td>22-Apr-1926</td>\n",
       "      <td>1926.0</td>\n",
       "      <td>Unprovoked</td>\n",
       "      <td>South Atlantic Ocean</td>\n",
       "      <td>South of the Equator</td>\n",
       "      <td>Steamship bound from Cape Town to Philadelphia</td>\n",
       "      <td>Fell overboard from SS Ripley Castle</td>\n",
       "      <td>M</td>\n",
       "      <td>26</td>\n",
       "      <td>When taken back on board 2 hours later both le...</td>\n",
       "      <td>N</td>\n",
       "      <td>Night</td>\n",
       "      <td>NaN</td>\n",
       "    </tr>\n",
       "    <tr>\n",
       "      <th>5641</th>\n",
       "      <td>Reported 15-Apr-1893</td>\n",
       "      <td>1893.0</td>\n",
       "      <td>Unprovoked</td>\n",
       "      <td>South Atlantic Ocean</td>\n",
       "      <td>NaN</td>\n",
       "      <td>NaN</td>\n",
       "      <td>Swimming after falling overboard from the seal...</td>\n",
       "      <td>M</td>\n",
       "      <td>NaN</td>\n",
       "      <td>One leg severed by the shark, the other surgic...</td>\n",
       "      <td>N</td>\n",
       "      <td>NaN</td>\n",
       "      <td>NaN</td>\n",
       "    </tr>\n",
       "    <tr>\n",
       "      <th>5808</th>\n",
       "      <td>02-Sep-1878</td>\n",
       "      <td>1878.0</td>\n",
       "      <td>Sea Disaster</td>\n",
       "      <td>South Atlantic Ocean</td>\n",
       "      <td>Off the coast of West Africa</td>\n",
       "      <td>NaN</td>\n",
       "      <td>Boat with 5 men capsized while returning to th...</td>\n",
       "      <td>M</td>\n",
       "      <td>NaN</td>\n",
       "      <td>Du Val's leg was bitten but he survived</td>\n",
       "      <td>N</td>\n",
       "      <td>NaN</td>\n",
       "      <td>NaN</td>\n",
       "    </tr>\n",
       "    <tr>\n",
       "      <th>5809</th>\n",
       "      <td>02-Sep-1878</td>\n",
       "      <td>1878.0</td>\n",
       "      <td>Sea Disaster</td>\n",
       "      <td>South Atlantic Ocean</td>\n",
       "      <td>Off the coast of West Africa</td>\n",
       "      <td>NaN</td>\n",
       "      <td>Boat with 5 men capsized while returning to th...</td>\n",
       "      <td>M</td>\n",
       "      <td>NaN</td>\n",
       "      <td>FATAL, 2 of the crew were killed by sharks</td>\n",
       "      <td>Y</td>\n",
       "      <td>NaN</td>\n",
       "      <td>NaN</td>\n",
       "    </tr>\n",
       "    <tr>\n",
       "      <th>5867</th>\n",
       "      <td>Circa 1872</td>\n",
       "      <td>1872.0</td>\n",
       "      <td>Sea Disaster</td>\n",
       "      <td>South Atlantic Ocean</td>\n",
       "      <td>Off the coast of South America</td>\n",
       "      <td>NaN</td>\n",
       "      <td>Adrift on a raft</td>\n",
       "      <td>M</td>\n",
       "      <td>NaN</td>\n",
       "      <td>Leg bitten</td>\n",
       "      <td>N</td>\n",
       "      <td>Midnight</td>\n",
       "      <td>NaN</td>\n",
       "    </tr>\n",
       "  </tbody>\n",
       "</table>\n",
       "</div>"
      ],
      "text/plain": [
       "                      date    year          type               country  \\\n",
       "3781           13-Sep-1962  1962.0    Unprovoked  South Atlantic Ocean   \n",
       "4711           07-Dec-1941  1941.0  Sea Disaster  South Atlantic Ocean   \n",
       "4713           27-Nov-1941  1941.0  Sea Disaster  South Atlantic Ocean   \n",
       "4714           27-Nov-1941  1941.0  Sea Disaster  South Atlantic Ocean   \n",
       "4715           25-Nov-1941  1941.0  Sea Disaster  South Atlantic Ocean   \n",
       "4725           24-Mar-1941  1941.0  Sea Disaster  South Atlantic Ocean   \n",
       "4729           29-Jan-1941  1941.0    Unprovoked  South Atlantic Ocean   \n",
       "5128           22-Apr-1926  1926.0    Unprovoked  South Atlantic Ocean   \n",
       "5641  Reported 15-Apr-1893  1893.0    Unprovoked  South Atlantic Ocean   \n",
       "5808           02-Sep-1878  1878.0  Sea Disaster  South Atlantic Ocean   \n",
       "5809           02-Sep-1878  1878.0  Sea Disaster  South Atlantic Ocean   \n",
       "5867            Circa 1872  1872.0  Sea Disaster  South Atlantic Ocean   \n",
       "\n",
       "                                area  \\\n",
       "3781        Off coast of West Africa   \n",
       "4711                             NaN   \n",
       "4713                       Off Libya   \n",
       "4714                       Off Libya   \n",
       "4715     North of Pernambuco, Brazil   \n",
       "4725                             NaN   \n",
       "4729                In Convoy OB 274   \n",
       "5128           South of the Equator    \n",
       "5641                             NaN   \n",
       "5808    Off the coast of West Africa   \n",
       "5809    Off the coast of West Africa   \n",
       "5867  Off the coast of South America   \n",
       "\n",
       "                                            location  \\\n",
       "3781         Off the passenger liner Stirling Castle   \n",
       "4711                                             NaN   \n",
       "4713                                             NaN   \n",
       "4714                                             NaN   \n",
       "4715                                             NaN   \n",
       "4725                 750 miles off the African coast   \n",
       "4729                                Off Sierra Leone   \n",
       "5128  Steamship bound from Cape Town to Philadelphia   \n",
       "5641                                             NaN   \n",
       "5808                                             NaN   \n",
       "5809                                             NaN   \n",
       "5867                                             NaN   \n",
       "\n",
       "                                               activity  sex  age  \\\n",
       "3781  When  a deckhand  jumped overboard, McIver div...    M   29   \n",
       "4711  Torpedoed & burning British  light cruiser wit...  NaN  NaN   \n",
       "4713      HMAS Parramatta torpedoed & sunk by the U-559    M   23   \n",
       "4714      HMAS Parramatta torpedoed & sunk by the U-559    M  NaN   \n",
       "4715  British cruiser Dunedin torpedoed & sunk by th...  NaN  NaN   \n",
       "4725  The troopship Britannia was sunk by the German...    M  NaN   \n",
       "4729   Rescuing seaman after ship sunk by German raider    M   19   \n",
       "5128               Fell overboard from SS Ripley Castle    M   26   \n",
       "5641  Swimming after falling overboard from the seal...    M  NaN   \n",
       "5808  Boat with 5 men capsized while returning to th...    M  NaN   \n",
       "5809  Boat with 5 men capsized while returning to th...    M  NaN   \n",
       "5867                                  Adrift on a raft     M  NaN   \n",
       "\n",
       "                                                 injury fatal_(y/n)      time  \\\n",
       "3781  FATAL, he died within minutes of being hauled ...           Y       NaN   \n",
       "4711  Only 170 survived, many of the crew were said ...           Y       NaN   \n",
       "4713                                 Right hand severed           N       NaN   \n",
       "4714                               Lacerations to chest           N       NaN   \n",
       "4715  418 perished, only 67 survived, some of the me...           Y       NaN   \n",
       "4725  Dr. A.R. Hernandez of ship Cabo Hornos treated...           N       NaN   \n",
       "4729                            Clothing torn by sharks           N     19h55   \n",
       "5128  When taken back on board 2 hours later both le...           N     Night   \n",
       "5641  One leg severed by the shark, the other surgic...           N       NaN   \n",
       "5808            Du Val's leg was bitten but he survived           N       NaN   \n",
       "5809         FATAL, 2 of the crew were killed by sharks           Y       NaN   \n",
       "5867                                         Leg bitten           N  Midnight   \n",
       "\n",
       "                                                species  \n",
       "3781                                                NaN  \n",
       "4711  Reportedly: oceanic whitetip sharks, blue shar...  \n",
       "4713                                        Tiger shark  \n",
       "4714                                        Tiger shark  \n",
       "4715                                                NaN  \n",
       "4725                                                NaN  \n",
       "4729                                                NaN  \n",
       "5128                                                NaN  \n",
       "5641                                                NaN  \n",
       "5808                                                NaN  \n",
       "5809                                                NaN  \n",
       "5867                                                NaN  "
      ]
     },
     "execution_count": 1662,
     "metadata": {},
     "output_type": "execute_result"
    }
   ],
   "source": [
    "# check country names\n",
    "# check \"South Atlantic Ocean\"\n",
    "satl_oc = sharks_copy_cleaned.index[sharks_copy_cleaned[\"country\"] == \"South Atlantic Ocean\"]\n",
    "sharks_copy_cleaned.loc[satl_oc]     # check data"
   ]
  },
  {
   "cell_type": "code",
   "execution_count": 1663,
   "metadata": {},
   "outputs": [
    {
     "data": {
      "text/html": [
       "<div>\n",
       "<style scoped>\n",
       "    .dataframe tbody tr th:only-of-type {\n",
       "        vertical-align: middle;\n",
       "    }\n",
       "\n",
       "    .dataframe tbody tr th {\n",
       "        vertical-align: top;\n",
       "    }\n",
       "\n",
       "    .dataframe thead th {\n",
       "        text-align: right;\n",
       "    }\n",
       "</style>\n",
       "<table border=\"1\" class=\"dataframe\">\n",
       "  <thead>\n",
       "    <tr style=\"text-align: right;\">\n",
       "      <th></th>\n",
       "      <th>date</th>\n",
       "      <th>year</th>\n",
       "      <th>type</th>\n",
       "      <th>country</th>\n",
       "      <th>area</th>\n",
       "      <th>location</th>\n",
       "      <th>activity</th>\n",
       "      <th>sex</th>\n",
       "      <th>age</th>\n",
       "      <th>injury</th>\n",
       "      <th>fatal_(y/n)</th>\n",
       "      <th>time</th>\n",
       "      <th>species</th>\n",
       "    </tr>\n",
       "  </thead>\n",
       "  <tbody>\n",
       "    <tr>\n",
       "      <th>3951</th>\n",
       "      <td>22-Sep-1960</td>\n",
       "      <td>1960.0</td>\n",
       "      <td>Sea Disaster</td>\n",
       "      <td>Pacific Ocean</td>\n",
       "      <td>180 miles southeast of Okinawa</td>\n",
       "      <td>NaN</td>\n",
       "      <td>R5D aircraft went down with 29 on board</td>\n",
       "      <td>M</td>\n",
       "      <td>NaN</td>\n",
       "      <td>One body sighted but not recovered due to shar...</td>\n",
       "      <td>N</td>\n",
       "      <td>NaN</td>\n",
       "      <td>NaN</td>\n",
       "    </tr>\n",
       "    <tr>\n",
       "      <th>4138</th>\n",
       "      <td>04-Jul-1958</td>\n",
       "      <td>1958.0</td>\n",
       "      <td>Sea Disaster</td>\n",
       "      <td>Pacific Ocean</td>\n",
       "      <td>Between Hawaii &amp; Wake Island</td>\n",
       "      <td>600 miles northwest of Honolulu</td>\n",
       "      <td>U.S. Airforce C124 enroute from Hickham Air Ba...</td>\n",
       "      <td>M</td>\n",
       "      <td>NaN</td>\n",
       "      <td>FATAL</td>\n",
       "      <td>Y</td>\n",
       "      <td>10h45</td>\n",
       "      <td>Sharks averaged 1.8 m [6'] in length</td>\n",
       "    </tr>\n",
       "    <tr>\n",
       "      <th>4139</th>\n",
       "      <td>04-Jul-1958</td>\n",
       "      <td>1958.0</td>\n",
       "      <td>Sea Disaster</td>\n",
       "      <td>Pacific Ocean</td>\n",
       "      <td>Between Hawaii &amp; Wake Island</td>\n",
       "      <td>600 miles northwest of Honolulu</td>\n",
       "      <td>U.S. Airforce C124 enroute from Hickham Air Ba...</td>\n",
       "      <td>M</td>\n",
       "      <td>31</td>\n",
       "      <td>Left shoulder bitten</td>\n",
       "      <td>N</td>\n",
       "      <td>10h25</td>\n",
       "      <td>Sharks averaged 1.8 m [6'] in length</td>\n",
       "    </tr>\n",
       "    <tr>\n",
       "      <th>4175</th>\n",
       "      <td>08-Nov-1957</td>\n",
       "      <td>1957.0</td>\n",
       "      <td>Sea Disaster</td>\n",
       "      <td>Pacific Ocean</td>\n",
       "      <td>1,000 miles east of Hawaii</td>\n",
       "      <td>NaN</td>\n",
       "      <td>Air/Sea Disaster Pan-American Airlines Stratoc...</td>\n",
       "      <td>NaN</td>\n",
       "      <td>NaN</td>\n",
       "      <td>Navy personnel recovered 19 shark-scavenged bo...</td>\n",
       "      <td>N</td>\n",
       "      <td>NaN</td>\n",
       "      <td>NaN</td>\n",
       "    </tr>\n",
       "    <tr>\n",
       "      <th>4359</th>\n",
       "      <td>11-Jul-1953</td>\n",
       "      <td>1953.0</td>\n",
       "      <td>Sea Disaster</td>\n",
       "      <td>Pacific Ocean</td>\n",
       "      <td>330 to 350 miles east of Wake Island</td>\n",
       "      <td>NaN</td>\n",
       "      <td>Royal Hawaiian skymaster DC-6B aircraft went d...</td>\n",
       "      <td>NaN</td>\n",
       "      <td>NaN</td>\n",
       "      <td>Recuers fought sharks for the bodies</td>\n",
       "      <td>N</td>\n",
       "      <td>NaN</td>\n",
       "      <td>NaN</td>\n",
       "    </tr>\n",
       "    <tr>\n",
       "      <th>4427</th>\n",
       "      <td>11-Jul-1951</td>\n",
       "      <td>1951.0</td>\n",
       "      <td>Unprovoked</td>\n",
       "      <td>Pacific Ocean</td>\n",
       "      <td>NaN</td>\n",
       "      <td>In Los Angeles  Honolulu yacht race</td>\n",
       "      <td>Fell overboard</td>\n",
       "      <td>M</td>\n",
       "      <td>40</td>\n",
       "      <td>\"Molested by shark that nibbled his bare feet\"...</td>\n",
       "      <td>N</td>\n",
       "      <td>Afternoon</td>\n",
       "      <td>2.1 m [7'] shark</td>\n",
       "    </tr>\n",
       "    <tr>\n",
       "      <th>4566</th>\n",
       "      <td>Apr-1947</td>\n",
       "      <td>1947.0</td>\n",
       "      <td>Provoked</td>\n",
       "      <td>Pacific Ocean</td>\n",
       "      <td>NaN</td>\n",
       "      <td>Off Central American coast at 8N.79W</td>\n",
       "      <td>Moving shark from tuna vessel when boat rolled...</td>\n",
       "      <td>M</td>\n",
       "      <td>29</td>\n",
       "      <td>Right arm punctured, finger lacerated PROVOKED...</td>\n",
       "      <td>N</td>\n",
       "      <td>11h00</td>\n",
       "      <td>NaN</td>\n",
       "    </tr>\n",
       "    <tr>\n",
       "      <th>4649</th>\n",
       "      <td>11-Nov-1943</td>\n",
       "      <td>1943.0</td>\n",
       "      <td>Sea Disaster</td>\n",
       "      <td>Pacific Ocean</td>\n",
       "      <td>Near the Fiji Islands</td>\n",
       "      <td>22º08'S  : 178º06'W</td>\n",
       "      <td>The 6711-ton American freighter &amp; troop transp...</td>\n",
       "      <td>M</td>\n",
       "      <td>NaN</td>\n",
       "      <td>Of the 1,429 people on board, only 448 survive...</td>\n",
       "      <td>Y</td>\n",
       "      <td>NaN</td>\n",
       "      <td>NaN</td>\n",
       "    </tr>\n",
       "    <tr>\n",
       "      <th>4657</th>\n",
       "      <td>27-May-1943</td>\n",
       "      <td>1943.0</td>\n",
       "      <td>Invalid</td>\n",
       "      <td>Pacific Ocean</td>\n",
       "      <td>NaN</td>\n",
       "      <td>NaN</td>\n",
       "      <td>B-24 crashed during a search mission. Survivor...</td>\n",
       "      <td>M</td>\n",
       "      <td>NaN</td>\n",
       "      <td>Survived</td>\n",
       "      <td>NaN</td>\n",
       "      <td>NaN</td>\n",
       "      <td>Invalid</td>\n",
       "    </tr>\n",
       "    <tr>\n",
       "      <th>4667</th>\n",
       "      <td>26-Jan-1943</td>\n",
       "      <td>1943.0</td>\n",
       "      <td>Sea Disaster</td>\n",
       "      <td>Pacific Ocean</td>\n",
       "      <td>Northwest of Papua New Guinea</td>\n",
       "      <td>NaN</td>\n",
       "      <td>The USS Wahoo torpedoes &amp; sank the Japanese tr...</td>\n",
       "      <td>M</td>\n",
       "      <td>NaN</td>\n",
       "      <td>FATAL</td>\n",
       "      <td>Y</td>\n",
       "      <td>NaN</td>\n",
       "      <td>NaN</td>\n",
       "    </tr>\n",
       "    <tr>\n",
       "      <th>4683</th>\n",
       "      <td>Nov-1942</td>\n",
       "      <td>1942.0</td>\n",
       "      <td>Provoked</td>\n",
       "      <td>Pacific Ocean</td>\n",
       "      <td>Between Hawaii and U.S.A.</td>\n",
       "      <td>NaN</td>\n",
       "      <td>In rubber dinghy with Captain Eddie Rickenback...</td>\n",
       "      <td>M</td>\n",
       "      <td>NaN</td>\n",
       "      <td>One man drove a knife through rubberized canva...</td>\n",
       "      <td>N</td>\n",
       "      <td>NaN</td>\n",
       "      <td>NaN</td>\n",
       "    </tr>\n",
       "    <tr>\n",
       "      <th>4724</th>\n",
       "      <td>Jun-1941</td>\n",
       "      <td>1941.0</td>\n",
       "      <td>Sea Disaster</td>\n",
       "      <td>Pacific Ocean</td>\n",
       "      <td>Off coast of Ecuador</td>\n",
       "      <td>Between Esmeraldas &amp; Salinas</td>\n",
       "      <td>Ditched aircraft, 3 men in the water. Swam for...</td>\n",
       "      <td>M</td>\n",
       "      <td>NaN</td>\n",
       "      <td>1 man survived &amp; was rescued, sharks took the ...</td>\n",
       "      <td>Y</td>\n",
       "      <td>17h30</td>\n",
       "      <td>NaN</td>\n",
       "    </tr>\n",
       "    <tr>\n",
       "      <th>4773</th>\n",
       "      <td>18-Jul-1939</td>\n",
       "      <td>1939.0</td>\n",
       "      <td>Sea Disaster</td>\n",
       "      <td>Pacific Ocean</td>\n",
       "      <td>NaN</td>\n",
       "      <td>NaN</td>\n",
       "      <td>Japanese freighter Bokuyo Maru burned &amp; sank</td>\n",
       "      <td>NaN</td>\n",
       "      <td>3</td>\n",
       "      <td>Thought to have been taken by a shark</td>\n",
       "      <td>Y</td>\n",
       "      <td>NaN</td>\n",
       "      <td>NaN</td>\n",
       "    </tr>\n",
       "    <tr>\n",
       "      <th>5655</th>\n",
       "      <td>Reported 25-Mar-1892</td>\n",
       "      <td>1892.0</td>\n",
       "      <td>Unprovoked</td>\n",
       "      <td>Pacific Ocean</td>\n",
       "      <td>NaN</td>\n",
       "      <td>NaN</td>\n",
       "      <td>a canoe was pursuing a schooner that had forc...</td>\n",
       "      <td>M</td>\n",
       "      <td>NaN</td>\n",
       "      <td>6 or 8 of the would-be rescuers were shot &amp; th...</td>\n",
       "      <td>Y</td>\n",
       "      <td>NaN</td>\n",
       "      <td>NaN</td>\n",
       "    </tr>\n",
       "    <tr>\n",
       "      <th>5759</th>\n",
       "      <td>1883</td>\n",
       "      <td>1883.0</td>\n",
       "      <td>Unprovoked</td>\n",
       "      <td>Pacific Ocean</td>\n",
       "      <td>NaN</td>\n",
       "      <td>NaN</td>\n",
       "      <td>Fishing</td>\n",
       "      <td>M</td>\n",
       "      <td>NaN</td>\n",
       "      <td>FATAL, remains recovered from 2 sharks</td>\n",
       "      <td>Y</td>\n",
       "      <td>NaN</td>\n",
       "      <td>14' shark</td>\n",
       "    </tr>\n",
       "    <tr>\n",
       "      <th>5978</th>\n",
       "      <td>Reported 23-Oct-1852</td>\n",
       "      <td>1852.0</td>\n",
       "      <td>Provoked</td>\n",
       "      <td>Pacific Ocean</td>\n",
       "      <td>Between Australia &amp; USA</td>\n",
       "      <td>NaN</td>\n",
       "      <td>Fishing</td>\n",
       "      <td>M</td>\n",
       "      <td>NaN</td>\n",
       "      <td>Foot bitten by hooked shark PROVOKED INCIDENT</td>\n",
       "      <td>N</td>\n",
       "      <td>NaN</td>\n",
       "      <td>NaN</td>\n",
       "    </tr>\n",
       "    <tr>\n",
       "      <th>6219</th>\n",
       "      <td>1940-1946</td>\n",
       "      <td>0.0</td>\n",
       "      <td>Sea Disaster</td>\n",
       "      <td>Pacific Ocean</td>\n",
       "      <td>NaN</td>\n",
       "      <td>NaN</td>\n",
       "      <td>NaN</td>\n",
       "      <td>M</td>\n",
       "      <td>NaN</td>\n",
       "      <td>FATAL</td>\n",
       "      <td>Y</td>\n",
       "      <td>NaN</td>\n",
       "      <td>NaN</td>\n",
       "    </tr>\n",
       "  </tbody>\n",
       "</table>\n",
       "</div>"
      ],
      "text/plain": [
       "                      date    year          type        country  \\\n",
       "3951           22-Sep-1960  1960.0  Sea Disaster  Pacific Ocean   \n",
       "4138           04-Jul-1958  1958.0  Sea Disaster  Pacific Ocean   \n",
       "4139           04-Jul-1958  1958.0  Sea Disaster  Pacific Ocean   \n",
       "4175           08-Nov-1957  1957.0  Sea Disaster  Pacific Ocean   \n",
       "4359           11-Jul-1953  1953.0  Sea Disaster  Pacific Ocean   \n",
       "4427           11-Jul-1951  1951.0    Unprovoked  Pacific Ocean   \n",
       "4566              Apr-1947  1947.0      Provoked  Pacific Ocean   \n",
       "4649           11-Nov-1943  1943.0  Sea Disaster  Pacific Ocean   \n",
       "4657           27-May-1943  1943.0       Invalid  Pacific Ocean   \n",
       "4667           26-Jan-1943  1943.0  Sea Disaster  Pacific Ocean   \n",
       "4683              Nov-1942  1942.0      Provoked  Pacific Ocean   \n",
       "4724              Jun-1941  1941.0  Sea Disaster  Pacific Ocean   \n",
       "4773           18-Jul-1939  1939.0  Sea Disaster  Pacific Ocean   \n",
       "5655  Reported 25-Mar-1892  1892.0    Unprovoked  Pacific Ocean   \n",
       "5759                  1883  1883.0    Unprovoked  Pacific Ocean   \n",
       "5978  Reported 23-Oct-1852  1852.0      Provoked  Pacific Ocean   \n",
       "6219             1940-1946     0.0  Sea Disaster  Pacific Ocean   \n",
       "\n",
       "                                      area  \\\n",
       "3951        180 miles southeast of Okinawa   \n",
       "4138          Between Hawaii & Wake Island   \n",
       "4139          Between Hawaii & Wake Island   \n",
       "4175            1,000 miles east of Hawaii   \n",
       "4359  330 to 350 miles east of Wake Island   \n",
       "4427                                   NaN   \n",
       "4566                                   NaN   \n",
       "4649                 Near the Fiji Islands   \n",
       "4657                                   NaN   \n",
       "4667         Northwest of Papua New Guinea   \n",
       "4683             Between Hawaii and U.S.A.   \n",
       "4724                  Off coast of Ecuador   \n",
       "4773                                   NaN   \n",
       "5655                                   NaN   \n",
       "5759                                   NaN   \n",
       "5978               Between Australia & USA   \n",
       "6219                                   NaN   \n",
       "\n",
       "                                  location  \\\n",
       "3951                                   NaN   \n",
       "4138       600 miles northwest of Honolulu   \n",
       "4139       600 miles northwest of Honolulu   \n",
       "4175                                   NaN   \n",
       "4359                                   NaN   \n",
       "4427  In Los Angeles  Honolulu yacht race   \n",
       "4566  Off Central American coast at 8N.79W   \n",
       "4649                   22º08'S  : 178º06'W   \n",
       "4657                                   NaN   \n",
       "4667                                   NaN   \n",
       "4683                                   NaN   \n",
       "4724          Between Esmeraldas & Salinas   \n",
       "4773                                   NaN   \n",
       "5655                                   NaN   \n",
       "5759                                   NaN   \n",
       "5978                                   NaN   \n",
       "6219                                   NaN   \n",
       "\n",
       "                                               activity  sex  age  \\\n",
       "3951            R5D aircraft went down with 29 on board    M  NaN   \n",
       "4138  U.S. Airforce C124 enroute from Hickham Air Ba...    M  NaN   \n",
       "4139  U.S. Airforce C124 enroute from Hickham Air Ba...    M   31   \n",
       "4175  Air/Sea Disaster Pan-American Airlines Stratoc...  NaN  NaN   \n",
       "4359  Royal Hawaiian skymaster DC-6B aircraft went d...  NaN  NaN   \n",
       "4427                                     Fell overboard    M   40   \n",
       "4566  Moving shark from tuna vessel when boat rolled...    M   29   \n",
       "4649  The 6711-ton American freighter & troop transp...    M  NaN   \n",
       "4657  B-24 crashed during a search mission. Survivor...    M  NaN   \n",
       "4667  The USS Wahoo torpedoes & sank the Japanese tr...    M  NaN   \n",
       "4683  In rubber dinghy with Captain Eddie Rickenback...    M  NaN   \n",
       "4724  Ditched aircraft, 3 men in the water. Swam for...    M  NaN   \n",
       "4773       Japanese freighter Bokuyo Maru burned & sank  NaN    3   \n",
       "5655   a canoe was pursuing a schooner that had forc...    M  NaN   \n",
       "5759                                            Fishing    M  NaN   \n",
       "5978                                            Fishing    M  NaN   \n",
       "6219                                                NaN    M  NaN   \n",
       "\n",
       "                                                 injury fatal_(y/n)  \\\n",
       "3951  One body sighted but not recovered due to shar...           N   \n",
       "4138                                              FATAL           Y   \n",
       "4139                              Left shoulder bitten            N   \n",
       "4175  Navy personnel recovered 19 shark-scavenged bo...           N   \n",
       "4359               Recuers fought sharks for the bodies           N   \n",
       "4427  \"Molested by shark that nibbled his bare feet\"...           N   \n",
       "4566  Right arm punctured, finger lacerated PROVOKED...           N   \n",
       "4649  Of the 1,429 people on board, only 448 survive...           Y   \n",
       "4657                                           Survived         NaN   \n",
       "4667                                              FATAL           Y   \n",
       "4683  One man drove a knife through rubberized canva...           N   \n",
       "4724  1 man survived & was rescued, sharks took the ...           Y   \n",
       "4773              Thought to have been taken by a shark           Y   \n",
       "5655  6 or 8 of the would-be rescuers were shot & th...           Y   \n",
       "5759             FATAL, remains recovered from 2 sharks           Y   \n",
       "5978      Foot bitten by hooked shark PROVOKED INCIDENT           N   \n",
       "6219                                              FATAL           Y   \n",
       "\n",
       "           time                               species  \n",
       "3951        NaN                                   NaN  \n",
       "4138      10h45  Sharks averaged 1.8 m [6'] in length  \n",
       "4139      10h25  Sharks averaged 1.8 m [6'] in length  \n",
       "4175        NaN                                   NaN  \n",
       "4359        NaN                                   NaN  \n",
       "4427  Afternoon                      2.1 m [7'] shark  \n",
       "4566      11h00                                   NaN  \n",
       "4649        NaN                                   NaN  \n",
       "4657        NaN                               Invalid  \n",
       "4667        NaN                                   NaN  \n",
       "4683        NaN                                   NaN  \n",
       "4724      17h30                                   NaN  \n",
       "4773        NaN                                   NaN  \n",
       "5655        NaN                                   NaN  \n",
       "5759        NaN                             14' shark  \n",
       "5978        NaN                                   NaN  \n",
       "6219        NaN                                   NaN  "
      ]
     },
     "execution_count": 1663,
     "metadata": {},
     "output_type": "execute_result"
    }
   ],
   "source": [
    "# check country names\n",
    "# check \"Pacific Ocean\"\n",
    "pac_oc = sharks_copy_cleaned.index[sharks_copy_cleaned[\"country\"] == \"Pacific Ocean\"]\n",
    "sharks_copy_cleaned.loc[pac_oc]     # check data"
   ]
  },
  {
   "cell_type": "code",
   "execution_count": 1664,
   "metadata": {},
   "outputs": [
    {
     "name": "stdout",
     "output_type": "stream",
     "text": [
      "17\n",
      "12\n",
      "17\n"
     ]
    }
   ],
   "source": [
    "# check country names - count number of cases\n",
    "print(atl_oc.nunique())\n",
    "print(satl_oc.nunique())\n",
    "print(pac_oc.nunique())"
   ]
  },
  {
   "cell_type": "code",
   "execution_count": 1665,
   "metadata": {},
   "outputs": [
    {
     "data": {
      "text/plain": [
       "country\n",
       "United States       2229\n",
       "Australia           1338\n",
       "South Africa         579\n",
       "Other                489\n",
       "Papua New Guinea     134\n",
       "New Zealand          128\n",
       "Brazil               112\n",
       "Bahamas              109\n",
       "Mexico                89\n",
       "Italy                 71\n",
       "Fiji                  65\n",
       "Philippines           61\n",
       "Reunion               60\n",
       "New Caledonia         53\n",
       "Cuba                  46\n",
       "Mozambique            45\n",
       "Spain                 44\n",
       "India                 40\n",
       "Egypt                 38\n",
       "Croatia               34\n",
       "United Kingdom        34\n",
       "Japan                 34\n",
       "Panama                32\n",
       "Solomon Islands       30\n",
       "Iran                  29\n",
       "Jamaica               27\n",
       "Greece                25\n",
       "French Polynesia      25\n",
       "Hong Kong             24\n",
       "Indonesia             23\n",
       "Costa Rica            17\n",
       "Bermuda               16\n",
       "Tonga                 15\n",
       "Vietnam               15\n",
       "Vanuatu               14\n",
       "Sri Lanka             14\n",
       "Marshall Islands      13\n",
       "France                13\n",
       "Canada                12\n",
       "Iraq                  12\n",
       "Turkey                12\n",
       "Senegal               11\n",
       "Venezuela             11\n",
       "Kenya                 10\n",
       "Mauritius             10\n",
       "New Guinea            10\n",
       "Name: count, dtype: int64"
      ]
     },
     "execution_count": 1665,
     "metadata": {},
     "output_type": "execute_result"
    }
   ],
   "source": [
    "# data cleaning - renaming\n",
    "# country names - replace \"Atlantic Ocean\", \"South Atlantic Ocean\" and \"Pacific Ocean\" for \"Other\"\n",
    "# not significant compared to data size\n",
    "oceans = {\"Atlantic Ocean\": \"Other\",\n",
    "          \"South Atlantic Ocean\": \"Other\",\n",
    "          \"Pacific Ocean\": \"Other\"}\n",
    "\n",
    "sharks_copy_cleaned[\"country\"] = sharks_copy_cleaned[\"country\"].replace(oceans)\n",
    "sharks_copy_cleaned[\"country\"].value_counts()"
   ]
  },
  {
   "cell_type": "code",
   "execution_count": null,
   "metadata": {},
   "outputs": [],
   "source": []
  },
  {
   "cell_type": "code",
   "execution_count": 1666,
   "metadata": {},
   "outputs": [
    {
     "data": {
      "text/html": [
       "<div>\n",
       "<style scoped>\n",
       "    .dataframe tbody tr th:only-of-type {\n",
       "        vertical-align: middle;\n",
       "    }\n",
       "\n",
       "    .dataframe tbody tr th {\n",
       "        vertical-align: top;\n",
       "    }\n",
       "\n",
       "    .dataframe thead th {\n",
       "        text-align: right;\n",
       "    }\n",
       "</style>\n",
       "<table border=\"1\" class=\"dataframe\">\n",
       "  <thead>\n",
       "    <tr style=\"text-align: right;\">\n",
       "      <th></th>\n",
       "      <th>Continent</th>\n",
       "      <th>Country</th>\n",
       "    </tr>\n",
       "  </thead>\n",
       "  <tbody>\n",
       "    <tr>\n",
       "      <th>0</th>\n",
       "      <td>Africa</td>\n",
       "      <td>Algeria</td>\n",
       "    </tr>\n",
       "    <tr>\n",
       "      <th>1</th>\n",
       "      <td>Africa</td>\n",
       "      <td>Angola</td>\n",
       "    </tr>\n",
       "    <tr>\n",
       "      <th>2</th>\n",
       "      <td>Africa</td>\n",
       "      <td>Benin</td>\n",
       "    </tr>\n",
       "    <tr>\n",
       "      <th>3</th>\n",
       "      <td>Africa</td>\n",
       "      <td>Botswana</td>\n",
       "    </tr>\n",
       "    <tr>\n",
       "      <th>4</th>\n",
       "      <td>Africa</td>\n",
       "      <td>Burkina</td>\n",
       "    </tr>\n",
       "    <tr>\n",
       "      <th>...</th>\n",
       "      <td>...</td>\n",
       "      <td>...</td>\n",
       "    </tr>\n",
       "    <tr>\n",
       "      <th>201</th>\n",
       "      <td>Africa</td>\n",
       "      <td>Reunion</td>\n",
       "    </tr>\n",
       "    <tr>\n",
       "      <th>202</th>\n",
       "      <td>Africa</td>\n",
       "      <td>Saint Helena (British)</td>\n",
       "    </tr>\n",
       "    <tr>\n",
       "      <th>203</th>\n",
       "      <td>Worldwide</td>\n",
       "      <td>Other</td>\n",
       "    </tr>\n",
       "    <tr>\n",
       "      <th>204</th>\n",
       "      <td>North America</td>\n",
       "      <td>Bermuda</td>\n",
       "    </tr>\n",
       "    <tr>\n",
       "      <th>205</th>\n",
       "      <td>Oceania</td>\n",
       "      <td>New Guinea</td>\n",
       "    </tr>\n",
       "  </tbody>\n",
       "</table>\n",
       "<p>206 rows × 2 columns</p>\n",
       "</div>"
      ],
      "text/plain": [
       "         Continent                 Country\n",
       "0           Africa                 Algeria\n",
       "1           Africa                  Angola\n",
       "2           Africa                   Benin\n",
       "3           Africa                Botswana\n",
       "4           Africa                 Burkina\n",
       "..             ...                     ...\n",
       "201         Africa                 Reunion\n",
       "202         Africa  Saint Helena (British)\n",
       "203      Worldwide                   Other\n",
       "204  North America                 Bermuda\n",
       "205        Oceania              New Guinea\n",
       "\n",
       "[206 rows x 2 columns]"
      ]
     },
     "execution_count": 1666,
     "metadata": {},
     "output_type": "execute_result"
    }
   ],
   "source": [
    "# importing a new dataframe (had to install openpyxl) with the link continent-country (it will be used in further stages)\n",
    "continents_raw = pd.read_excel(\"countries_by_continents_update.xlsx\")\n",
    "continents_raw"
   ]
  },
  {
   "cell_type": "code",
   "execution_count": 1667,
   "metadata": {},
   "outputs": [
    {
     "data": {
      "text/plain": [
       "Index(['continent', 'country'], dtype='object')"
      ]
     },
     "execution_count": 1667,
     "metadata": {},
     "output_type": "execute_result"
    }
   ],
   "source": [
    "# continents_raw standarization\n",
    "continents_raw.columns = continents_raw.columns.str.lower()\n",
    "continents_raw.columns     # there are no blank spaces so no need of further standarization"
   ]
  },
  {
   "cell_type": "code",
   "execution_count": 1668,
   "metadata": {},
   "outputs": [],
   "source": [
    "# merging \"sharks_copy_cleaned\" and \"continents_raw\" in a new dataframe with column \"continent\" included\n",
    "left_df = sharks_copy_cleaned\n",
    "right_df = continents_raw\n",
    "\n",
    "new_sharks_df = pd.merge(left_df, right_df, on = \"country\", how = \"inner\")"
   ]
  },
  {
   "cell_type": "code",
   "execution_count": 1669,
   "metadata": {},
   "outputs": [
    {
     "name": "stdout",
     "output_type": "stream",
     "text": [
      "(6252, 14)\n",
      "Index(['date', 'year', 'type', 'country', 'area', 'location', 'activity',\n",
      "       'sex', 'age', 'injury', 'fatal_(y/n)', 'time', 'species', 'continent'],\n",
      "      dtype='object')\n"
     ]
    }
   ],
   "source": [
    "print(new_sharks_df.shape)     # check for no missing data in rows and new column \"continent\"\n",
    "print(new_sharks_df.columns)"
   ]
  },
  {
   "cell_type": "code",
   "execution_count": null,
   "metadata": {},
   "outputs": [],
   "source": []
  },
  {
   "cell_type": "code",
   "execution_count": 1670,
   "metadata": {},
   "outputs": [
    {
     "data": {
      "text/plain": [
       "type\n",
       "Unprovoked      4562\n",
       "Provoked         571\n",
       "Invalid          542\n",
       "Sea Disaster     231\n",
       "Boating          202\n",
       "Boat             137\n",
       "Questionable       2\n",
       "Boatomg            1\n",
       "Name: count, dtype: int64"
      ]
     },
     "execution_count": 1670,
     "metadata": {},
     "output_type": "execute_result"
    }
   ],
   "source": [
    "# data cleaning - renaming\n",
    "# type\n",
    "new_sharks_df[\"type\"].value_counts()"
   ]
  },
  {
   "cell_type": "code",
   "execution_count": 1671,
   "metadata": {},
   "outputs": [],
   "source": [
    "# data cleaning - renaming\n",
    "# type - renaming of some outputs to have it all aligned/grouped with the same name\n",
    "type_dict = { \"Boat\": \"Boating\",\n",
    "              \"Questionable\": \"Boating\", \n",
    "              \"Boatomg\": \"Boating\"}\n",
    "\n",
    "new_sharks_df[\"type\"] = new_sharks_df[\"type\"].replace(type_dict)"
   ]
  },
  {
   "cell_type": "code",
   "execution_count": 1672,
   "metadata": {},
   "outputs": [
    {
     "data": {
      "text/plain": [
       "type\n",
       "Unprovoked      4562\n",
       "Provoked         571\n",
       "Invalid          542\n",
       "Boating          342\n",
       "Sea Disaster     231\n",
       "Name: count, dtype: int64"
      ]
     },
     "execution_count": 1672,
     "metadata": {},
     "output_type": "execute_result"
    }
   ],
   "source": [
    "new_sharks_df[\"type\"].value_counts()"
   ]
  },
  {
   "cell_type": "code",
   "execution_count": 1673,
   "metadata": {},
   "outputs": [
    {
     "data": {
      "text/plain": [
       "type\n",
       "False    6248\n",
       "True        4\n",
       "Name: count, dtype: int64"
      ]
     },
     "execution_count": 1673,
     "metadata": {},
     "output_type": "execute_result"
    }
   ],
   "source": [
    "# data cleaning - renaming\n",
    "# type - check for NaN values\n",
    "new_sharks_df[\"type\"].isna().value_counts()     # possibility to use .sum() too"
   ]
  },
  {
   "cell_type": "code",
   "execution_count": 1674,
   "metadata": {},
   "outputs": [
    {
     "data": {
      "text/plain": [
       "Index([84, 381, 4847, 5677], dtype='int64')"
      ]
     },
     "execution_count": 1674,
     "metadata": {},
     "output_type": "execute_result"
    }
   ],
   "source": [
    "# data cleaning - renaming\n",
    "# type - check for position of NaN values\n",
    "nan_type_positions = new_sharks_df[new_sharks_df[\"type\"].isna()].index\n",
    "nan_type_positions"
   ]
  },
  {
   "cell_type": "code",
   "execution_count": 1675,
   "metadata": {},
   "outputs": [
    {
     "data": {
      "text/html": [
       "<div>\n",
       "<style scoped>\n",
       "    .dataframe tbody tr th:only-of-type {\n",
       "        vertical-align: middle;\n",
       "    }\n",
       "\n",
       "    .dataframe tbody tr th {\n",
       "        vertical-align: top;\n",
       "    }\n",
       "\n",
       "    .dataframe thead th {\n",
       "        text-align: right;\n",
       "    }\n",
       "</style>\n",
       "<table border=\"1\" class=\"dataframe\">\n",
       "  <thead>\n",
       "    <tr style=\"text-align: right;\">\n",
       "      <th></th>\n",
       "      <th>date</th>\n",
       "      <th>year</th>\n",
       "      <th>type</th>\n",
       "      <th>country</th>\n",
       "      <th>area</th>\n",
       "      <th>location</th>\n",
       "      <th>activity</th>\n",
       "      <th>sex</th>\n",
       "      <th>age</th>\n",
       "      <th>injury</th>\n",
       "      <th>fatal_(y/n)</th>\n",
       "      <th>time</th>\n",
       "      <th>species</th>\n",
       "      <th>continent</th>\n",
       "    </tr>\n",
       "  </thead>\n",
       "  <tbody>\n",
       "    <tr>\n",
       "      <th>84</th>\n",
       "      <td>15-Sep-2017</td>\n",
       "      <td>2017.0</td>\n",
       "      <td>NaN</td>\n",
       "      <td>Other</td>\n",
       "      <td>Upolu Island</td>\n",
       "      <td>Nofoalii</td>\n",
       "      <td>Fishing</td>\n",
       "      <td>M</td>\n",
       "      <td>NaN</td>\n",
       "      <td>Injuries to hands and legs</td>\n",
       "      <td>N</td>\n",
       "      <td>Night</td>\n",
       "      <td>NaN</td>\n",
       "      <td>Worldwide</td>\n",
       "    </tr>\n",
       "    <tr>\n",
       "      <th>381</th>\n",
       "      <td>27-Jul-2015</td>\n",
       "      <td>2015.0</td>\n",
       "      <td>NaN</td>\n",
       "      <td>Australia</td>\n",
       "      <td>Victoria</td>\n",
       "      <td>Tyrendarra Beach</td>\n",
       "      <td>Surfing</td>\n",
       "      <td>M</td>\n",
       "      <td>40</td>\n",
       "      <td>Injury to hand</td>\n",
       "      <td>NaN</td>\n",
       "      <td>NaN</td>\n",
       "      <td>NaN</td>\n",
       "      <td>Oceania</td>\n",
       "    </tr>\n",
       "    <tr>\n",
       "      <th>4847</th>\n",
       "      <td>Reported 11-Sep-1936</td>\n",
       "      <td>1936.0</td>\n",
       "      <td>NaN</td>\n",
       "      <td>Vietnam</td>\n",
       "      <td>NaN</td>\n",
       "      <td>Saigon</td>\n",
       "      <td>Wreck of a sampam</td>\n",
       "      <td>M</td>\n",
       "      <td>NaN</td>\n",
       "      <td>FATAL</td>\n",
       "      <td>Y</td>\n",
       "      <td>NaN</td>\n",
       "      <td>NaN</td>\n",
       "      <td>Asia</td>\n",
       "    </tr>\n",
       "    <tr>\n",
       "      <th>5677</th>\n",
       "      <td>Reported 03-Mar-1890</td>\n",
       "      <td>1890.0</td>\n",
       "      <td>NaN</td>\n",
       "      <td>Other</td>\n",
       "      <td>NaN</td>\n",
       "      <td>NaN</td>\n",
       "      <td>Diving</td>\n",
       "      <td>M</td>\n",
       "      <td>NaN</td>\n",
       "      <td>FATAL</td>\n",
       "      <td>Y</td>\n",
       "      <td>NaN</td>\n",
       "      <td>NaN</td>\n",
       "      <td>Worldwide</td>\n",
       "    </tr>\n",
       "  </tbody>\n",
       "</table>\n",
       "</div>"
      ],
      "text/plain": [
       "                      date    year type    country           area  \\\n",
       "84             15-Sep-2017  2017.0  NaN      Other   Upolu Island   \n",
       "381            27-Jul-2015  2015.0  NaN  Australia       Victoria   \n",
       "4847  Reported 11-Sep-1936  1936.0  NaN    Vietnam            NaN   \n",
       "5677  Reported 03-Mar-1890  1890.0  NaN      Other            NaN   \n",
       "\n",
       "              location           activity sex  age  \\\n",
       "84           Nofoalii            Fishing   M  NaN   \n",
       "381   Tyrendarra Beach            Surfing   M   40   \n",
       "4847            Saigon  Wreck of a sampam   M  NaN   \n",
       "5677               NaN             Diving   M  NaN   \n",
       "\n",
       "                          injury fatal_(y/n)   time species  continent  \n",
       "84    Injuries to hands and legs           N  Night     NaN  Worldwide  \n",
       "381               Injury to hand         NaN    NaN     NaN    Oceania  \n",
       "4847                       FATAL           Y    NaN     NaN       Asia  \n",
       "5677                       FATAL           Y    NaN     NaN  Worldwide  "
      ]
     },
     "execution_count": 1675,
     "metadata": {},
     "output_type": "execute_result"
    }
   ],
   "source": [
    "# data cleaning - renaming\n",
    "# type - check for position of NaN values\n",
    "new_sharks_df.loc[nan_type_positions]     # check data"
   ]
  },
  {
   "cell_type": "code",
   "execution_count": 1676,
   "metadata": {},
   "outputs": [],
   "source": [
    "# data cleaning - renaming\n",
    "# type - assingning NaN values to \"Invalid\"\n",
    "new_sharks_df[\"type\"] = new_sharks_df[\"type\"].replace(np.nan, \"Invalid\")\n"
   ]
  },
  {
   "cell_type": "code",
   "execution_count": 1677,
   "metadata": {},
   "outputs": [
    {
     "data": {
      "text/plain": [
       "0"
      ]
     },
     "execution_count": 1677,
     "metadata": {},
     "output_type": "execute_result"
    }
   ],
   "source": [
    "# data cleaning - renaming\n",
    "# type - assingning NaN values to \"Invalid\"\n",
    "new_sharks_df[\"type\"].isna().sum()     # check data"
   ]
  },
  {
   "cell_type": "code",
   "execution_count": null,
   "metadata": {},
   "outputs": [],
   "source": []
  },
  {
   "cell_type": "code",
   "execution_count": 1678,
   "metadata": {},
   "outputs": [
    {
     "data": {
      "text/plain": [
       "year\n",
       "False    6250\n",
       "True        2\n",
       "Name: count, dtype: int64"
      ]
     },
     "execution_count": 1678,
     "metadata": {},
     "output_type": "execute_result"
    }
   ],
   "source": [
    "# data cleaning - renaming\n",
    "# year - check for NaN values\n",
    "new_sharks_df[\"year\"].isna().value_counts()     # possibility to use .sum() too"
   ]
  },
  {
   "cell_type": "code",
   "execution_count": 1679,
   "metadata": {},
   "outputs": [
    {
     "data": {
      "text/plain": [
       "Index([186, 6042], dtype='int64')"
      ]
     },
     "execution_count": 1679,
     "metadata": {},
     "output_type": "execute_result"
    }
   ],
   "source": [
    "# data cleaning - renaming\n",
    "# year - check for position of NaN values\n",
    "nan_year_positions = new_sharks_df[new_sharks_df[\"year\"].isna()].index\n",
    "nan_year_positions"
   ]
  },
  {
   "cell_type": "code",
   "execution_count": 1680,
   "metadata": {},
   "outputs": [
    {
     "data": {
      "text/html": [
       "<div>\n",
       "<style scoped>\n",
       "    .dataframe tbody tr th:only-of-type {\n",
       "        vertical-align: middle;\n",
       "    }\n",
       "\n",
       "    .dataframe tbody tr th {\n",
       "        vertical-align: top;\n",
       "    }\n",
       "\n",
       "    .dataframe thead th {\n",
       "        text-align: right;\n",
       "    }\n",
       "</style>\n",
       "<table border=\"1\" class=\"dataframe\">\n",
       "  <thead>\n",
       "    <tr style=\"text-align: right;\">\n",
       "      <th></th>\n",
       "      <th>date</th>\n",
       "      <th>year</th>\n",
       "      <th>type</th>\n",
       "      <th>country</th>\n",
       "      <th>area</th>\n",
       "      <th>location</th>\n",
       "      <th>activity</th>\n",
       "      <th>sex</th>\n",
       "      <th>age</th>\n",
       "      <th>injury</th>\n",
       "      <th>fatal_(y/n)</th>\n",
       "      <th>time</th>\n",
       "      <th>species</th>\n",
       "      <th>continent</th>\n",
       "    </tr>\n",
       "  </thead>\n",
       "  <tbody>\n",
       "    <tr>\n",
       "      <th>186</th>\n",
       "      <td>Reported 08-Jan-2017</td>\n",
       "      <td>NaN</td>\n",
       "      <td>Invalid</td>\n",
       "      <td>Australia</td>\n",
       "      <td>Queensland</td>\n",
       "      <td>NaN</td>\n",
       "      <td>Spearfishing</td>\n",
       "      <td>M</td>\n",
       "      <td>35</td>\n",
       "      <td>No attack, shark made a threat display</td>\n",
       "      <td>NaN</td>\n",
       "      <td>NaN</td>\n",
       "      <td>Bull shark</td>\n",
       "      <td>Oceania</td>\n",
       "    </tr>\n",
       "    <tr>\n",
       "      <th>6042</th>\n",
       "      <td>Reported 19-Aug-1836</td>\n",
       "      <td>NaN</td>\n",
       "      <td>Unprovoked</td>\n",
       "      <td>United Kingdom</td>\n",
       "      <td>Cumberland</td>\n",
       "      <td>Whitehaven</td>\n",
       "      <td>Swimming</td>\n",
       "      <td>M</td>\n",
       "      <td>NaN</td>\n",
       "      <td>FATAL</td>\n",
       "      <td>Y</td>\n",
       "      <td>NaN</td>\n",
       "      <td>NaN</td>\n",
       "      <td>Europe</td>\n",
       "    </tr>\n",
       "  </tbody>\n",
       "</table>\n",
       "</div>"
      ],
      "text/plain": [
       "                      date  year        type         country        area  \\\n",
       "186   Reported 08-Jan-2017   NaN     Invalid       Australia  Queensland   \n",
       "6042  Reported 19-Aug-1836   NaN  Unprovoked  United Kingdom  Cumberland   \n",
       "\n",
       "        location      activity sex  age  \\\n",
       "186          NaN  Spearfishing   M   35   \n",
       "6042  Whitehaven      Swimming   M  NaN   \n",
       "\n",
       "                                      injury fatal_(y/n) time     species  \\\n",
       "186   No attack, shark made a threat display         NaN  NaN  Bull shark   \n",
       "6042                                   FATAL           Y  NaN         NaN   \n",
       "\n",
       "     continent  \n",
       "186    Oceania  \n",
       "6042    Europe  "
      ]
     },
     "execution_count": 1680,
     "metadata": {},
     "output_type": "execute_result"
    }
   ],
   "source": [
    "# data cleaning - renaming\n",
    "# year - check for position of NaN values\n",
    "new_sharks_df.loc[nan_year_positions]     # check data"
   ]
  },
  {
   "cell_type": "code",
   "execution_count": 1681,
   "metadata": {},
   "outputs": [
    {
     "name": "stdout",
     "output_type": "stream",
     "text": [
      "      year\n",
      "186    NaN\n",
      "6042   NaN\n",
      "        year\n",
      "186   2017.0\n",
      "6042  1836.0\n"
     ]
    }
   ],
   "source": [
    "# data cleaning - renaming\n",
    "# year - replace NaN year for rows 186 and 6042\n",
    "print(new_sharks_df.loc[[186, 6042], [\"year\"]])\n",
    "new_sharks_df.loc[[186, 6042], [\"year\"]] = [2017, 1836]\n",
    "print(new_sharks_df.loc[[186, 6042], [\"year\"]])"
   ]
  },
  {
   "cell_type": "code",
   "execution_count": 1682,
   "metadata": {},
   "outputs": [
    {
     "data": {
      "text/plain": [
       "<Axes: >"
      ]
     },
     "execution_count": 1682,
     "metadata": {},
     "output_type": "execute_result"
    },
    {
     "data": {
      "image/png": "[encoded data removed]",
      "text/plain": [
       "<Figure size 640x480 with 1 Axes>"
      ]
     },
     "metadata": {},
     "output_type": "display_data"
    }
   ],
   "source": [
    "# data cleaning - renaming\n",
    "# year\n",
    "new_sharks_df[\"year\"].hist()"
   ]
  },
  {
   "cell_type": "code",
   "execution_count": 1683,
   "metadata": {},
   "outputs": [
    {
     "data": {
      "text/plain": [
       "array([2018., 2017., 2016., 2015., 2014., 2013., 2012., 2011., 2010.,\n",
       "       2009., 2008., 2007., 2006., 2005., 2004., 2003., 2002., 2001.,\n",
       "       2000., 1999., 1998., 1997., 1996., 1995., 1984., 1994., 1993.,\n",
       "       1992., 1991., 1990., 1989., 1969., 1988., 1987., 1986., 1985.,\n",
       "       1983., 1982., 1981., 1980., 1979., 1978., 1977., 1976., 1975.,\n",
       "       1974., 1973., 1972., 1971., 1970., 1968., 1967., 1966., 1965.,\n",
       "       1964., 1963., 1962., 1961., 1960., 1959., 1958., 1957., 1956.,\n",
       "       1955., 1954., 1953., 1952., 1951., 1950., 1949., 1948., 1848.,\n",
       "       1947., 1946., 1945., 1944., 1943., 1942., 1941., 1940., 1939.,\n",
       "       1938., 1937., 1936., 1935., 1934., 1933., 1932., 1931., 1930.,\n",
       "       1929., 1928., 1927., 1926., 1925., 1924., 1923., 1922., 1921.,\n",
       "       1920., 1919., 1918., 1917., 1916., 1915., 1914., 1913., 1912.,\n",
       "       1911., 1910., 1909., 1908., 1907., 1906., 1905., 1904., 1903.,\n",
       "       1902., 1901., 1900., 1899., 1898., 1897., 1896., 1895., 1894.,\n",
       "       1893., 1892., 1891., 1890., 1889., 1888., 1887., 1886., 1885.,\n",
       "       1884., 1883., 1882., 1881., 1880., 1879., 1878., 1877., 1876.,\n",
       "       1875., 1874., 1873., 1872., 1871., 1870., 1869., 1868., 1867.,\n",
       "       1866., 1865., 1864., 1863., 1862., 1861., 1860., 1859., 1858.,\n",
       "       1857., 1856., 1855., 1853., 1852., 1851., 1850., 1849., 1847.,\n",
       "       1846., 1845., 1844., 1842., 1841., 1840., 1839., 1837., 1836.,\n",
       "       1835., 1834., 1832., 1831., 1830., 1829., 1828., 1827., 1826.,\n",
       "       1825., 1823., 1822., 1819., 1818., 1817., 1816., 1815., 1812.,\n",
       "       1810., 1808., 1807., 1805., 1804., 1803., 1802., 1800., 1792.,\n",
       "       1791., 1788., 1786., 1785., 1784., 1783., 1780., 1779., 1776.,\n",
       "       1771., 1767., 1764., 1758., 1753., 1751., 1749., 1755., 1748.,\n",
       "       1738., 1733., 1723., 1721., 1703., 1700., 1642., 1637., 1617.,\n",
       "       1595., 1580., 1554., 1543.,  500.,    5.,    0.])"
      ]
     },
     "execution_count": 1683,
     "metadata": {},
     "output_type": "execute_result"
    }
   ],
   "source": [
    "# data cleaning - renaming\n",
    "# years check\n",
    "new_sharks_df[\"year\"].unique()"
   ]
  },
  {
   "cell_type": "code",
   "execution_count": 1684,
   "metadata": {},
   "outputs": [
    {
     "data": {
      "text/plain": [
       "year\n",
       "False    6129\n",
       "True      123\n",
       "Name: count, dtype: int64"
      ]
     },
     "execution_count": 1684,
     "metadata": {},
     "output_type": "execute_result"
    }
   ],
   "source": [
    "# data cleaning - renaming\n",
    "# year - check for values <= 500\n",
    "new_sharks_df[\"year\"].le(500).value_counts()     # possibility to use .sum() too"
   ]
  },
  {
   "cell_type": "code",
   "execution_count": 1685,
   "metadata": {},
   "outputs": [
    {
     "data": {
      "text/plain": [
       "Index([6129, 6130, 6131, 6132, 6133, 6134, 6135, 6136, 6137, 6138,\n",
       "       ...\n",
       "       6242, 6243, 6244, 6245, 6246, 6247, 6248, 6249, 6250, 6251],\n",
       "      dtype='int64', length=123)"
      ]
     },
     "execution_count": 1685,
     "metadata": {},
     "output_type": "execute_result"
    }
   ],
   "source": [
    "# data cleaning - renaming\n",
    "# year - check for position of values <= 500\n",
    "low_year_positions = new_sharks_df[new_sharks_df[\"year\"].le(500)].index\n",
    "low_year_positions"
   ]
  },
  {
   "cell_type": "code",
   "execution_count": 1686,
   "metadata": {},
   "outputs": [
    {
     "name": "stdout",
     "output_type": "stream",
     "text": [
      "Index: 6129, Value: Circa 500 A.D.\n",
      "Index: 6130, Value: Ca. 5 A.D.\n",
      "Index: 6131, Value: Ca. 336.B.C..\n",
      "Index: 6132, Value: 493 B.C.\n",
      "Index: 6133, Value: Ca. 725 B.C.\n",
      "Index: 6134, Value: Before 1939\n",
      "Index: 6135, Value: 1990 or 1991\n",
      "Index: 6136, Value: Before 2016\n",
      "Index: 6137, Value: Before Oct-2009\n",
      "Index: 6138, Value: Before 1934\n",
      "Index: 6139, Value: Before 1934\n",
      "Index: 6140, Value: 2009?\n",
      "Index: 6141, Value: Before 1930\n",
      "Index: 6142, Value: 1880-1899\n",
      "Index: 6143, Value: Before 1909\n",
      "Index: 6144, Value: Before 2012\n",
      "Index: 6145, Value: Before 1916\n",
      "Index: 6146, Value: Between   1951-1963\n",
      "Index: 6147, Value: Before 1908\n",
      "Index: 6148, Value: Before 1900\n",
      "Index: 6149, Value: Before 1876\n",
      "Index: 6150, Value: Before 2012\n",
      "Index: 6151, Value: Before 2011\n",
      "Index: 6152, Value: Before 2009\n",
      "Index: 6153, Value: Beforer 1994\n",
      "Index: 6154, Value: Before 1963\n",
      "Index: 6155, Value: 1896-1913\n",
      "Index: 6156, Value: Before 1936\n",
      "Index: 6157, Value: Before 08-Jun-1912\n",
      "Index: 6158, Value: Before 1911\n",
      "Index: 6159, Value: Before 1901\n",
      "Index: 6160, Value: No date, late 1960s\n",
      "Index: 6161, Value: Before 2006\n",
      "Index: 6162, Value: Before 2003\n",
      "Index: 6163, Value: Before 2004\n",
      "Index: 6164, Value: Before 1962\n",
      "Index: 6165, Value: 1950s\n",
      "Index: 6166, Value: No date, Before 1963\n",
      "Index: 6167, Value: 2003?\n",
      "Index: 6168, Value: No date\n",
      "Index: 6169, Value: No date\n",
      "Index: 6170, Value: Before Feb-1998\n",
      "Index: 6171, Value: No date, Before May-1996\n",
      "Index: 6172, Value: No date, Before Mar-1995\n",
      "Index: 6173, Value: Before 1996\n",
      "Index: 6174, Value: No date, Before Aug-1989\n",
      "Index: 6175, Value: No date, Before Aug-1987\n",
      "Index: 6176, Value: No date, Before 1987\n",
      "Index: 6177, Value: No date, Before  1975\n",
      "Index: 6178, Value: No date, Before 1975\n",
      "Index: 6179, Value: No date, Before 1969\n",
      "Index: 6180, Value: No date, Before 3-Jan-1967\n",
      "Index: 6181, Value: No date, Before 1963\n",
      "Index: 6182, Value: No date, Before 8-May-1965\n",
      "Index: 6183, Value: No date, Before 1963\n",
      "Index: 6184, Value: No date, Before 1902\n",
      "Index: 6185, Value: No date, Before 1902\n",
      "Index: 6186, Value: No date, Before 1963\n",
      "Index: 6187, Value: No date, After August 1926 and before 1936\n",
      "Index: 6188, Value: No date, Before 1963\n",
      "Index: 6189, Value: Before 1962\n",
      "Index: 6190, Value: Before 1962\n",
      "Index: 6191, Value: Before 1961\n",
      "Index: 6192, Value: 1960s\n",
      "Index: 6193, Value: 1960s\n",
      "Index: 6194, Value: 1960s\n",
      "Index: 6195, Value: Before 1960\n",
      "Index: 6196, Value: Before  19-Jun-1959\n",
      "Index: 6197, Value: Before  24 Apr-1959\n",
      "Index: 6198, Value: Before  1958\n",
      "Index: 6199, Value: Before  1958\n",
      "Index: 6200, Value: Before 1958\n",
      "Index: 6201, Value: Before 1958\n",
      "Index: 6202, Value: Before 1958\n",
      "Index: 6203, Value: Before 1958\n",
      "Index: 6204, Value: Before 1957\n",
      "Index: 6205, Value: Before 1957\n",
      "Index: 6206, Value: Before 1956\n",
      "Index: 6207, Value: Before 1956\n",
      "Index: 6208, Value: Before Mar-1956\n",
      "Index: 6209, Value: Before 1952\n",
      "Index: 6210, Value: \"During the war\" 1943-1945\n",
      "Index: 6211, Value: \"Before the war\"\n",
      "Index: 6212, Value: Said to be 1941-1945, more likely 1945\n",
      "Index: 6213, Value: 1941-1945\n",
      "Index: 6214, Value: 1941-1945\n",
      "Index: 6215, Value: 1941-1942\n",
      "Index: 6216, Value: 1940 - 1950\n",
      "Index: 6217, Value: 1940 - 1950\n",
      "Index: 6218, Value: 1940 - 1950\n",
      "Index: 6219, Value: 1940-1946\n",
      "Index: 6220, Value: Before 1905\n",
      "Index: 6221, Value: World War II\n",
      "Index: 6222, Value: World War II\n",
      "Index: 6223, Value: Before 1905\n",
      "Index: 6224, Value: A few years before 1938\n",
      "Index: 6225, Value: No date\n",
      "Index: 6226, Value: Early 1930s\n",
      "Index: 6227, Value: Before 1927\n",
      "Index: 6228, Value: Between 1918 & 1939\n",
      "Index: 6229, Value: No date\n",
      "Index: 6230, Value: No date\n",
      "Index: 6231, Value: No date\n",
      "Index: 6232, Value: 1920 -1923\n",
      "Index: 6233, Value: Before 1921\n",
      "Index: 6234, Value: Before 1911\n",
      "Index: 6235, Value: Before 1921\n",
      "Index: 6236, Value: Before 1921\n",
      "Index: 6237, Value: Before 1917\n",
      "Index: 6238, Value: Before 17-Jul-1916\n",
      "Index: 6239, Value: No date (3 days after preceding incident) & prior to 19-Jul-1913\n",
      "Index: 6240, Value: Before 19-Jul-1913\n",
      "Index: 6241, Value: Before 1911\n",
      "Index: 6242, Value: Circa 1862\n",
      "Index: 6243, Value: Before 1906\n",
      "Index: 6244, Value: Before 1906\n",
      "Index: 6245, Value: Before 1906\n",
      "Index: 6246, Value: Before 1906\n",
      "Index: 6247, Value: Before 1903\n",
      "Index: 6248, Value: Before 1903\n",
      "Index: 6249, Value: 1900-1905\n",
      "Index: 6250, Value: 1883-1889\n",
      "Index: 6251, Value: 1845-1853\n"
     ]
    }
   ],
   "source": [
    "# data cleaning - renaming\n",
    "# year - check \"date\" alternative of values <= 500\n",
    "for index, column in new_sharks_df.iterrows():\n",
    "    if column[\"year\"] <= 500:\n",
    "        print(f\"Index: {index}, Value: {column[\"date\"]}\")"
   ]
  },
  {
   "cell_type": "code",
   "execution_count": 1687,
   "metadata": {},
   "outputs": [
    {
     "data": {
      "text/plain": [
       "1967.6412139011259"
      ]
     },
     "execution_count": 1687,
     "metadata": {},
     "output_type": "execute_result"
    }
   ],
   "source": [
    "# data cleaning - renaming\n",
    "# year - replace values <= 500 by the mean of values > 500\n",
    "high_year_mean = new_sharks_df[\"year\"][new_sharks_df[\"year\"] > 500].mean()\n",
    "high_year_mean"
   ]
  },
  {
   "cell_type": "code",
   "execution_count": 1688,
   "metadata": {},
   "outputs": [
    {
     "data": {
      "text/plain": [
       "array([2018. , 2017. , 2016. , 2015. , 2014. , 2013. , 2012. , 2011. ,\n",
       "       2010. , 2009. , 2008. , 2007. , 2006. , 2005. , 2004. , 2003. ,\n",
       "       2002. , 2001. , 2000. , 1999. , 1998. , 1997. , 1996. , 1995. ,\n",
       "       1984. , 1994. , 1993. , 1992. , 1991. , 1990. , 1989. , 1969. ,\n",
       "       1988. , 1987. , 1986. , 1985. , 1983. , 1982. , 1981. , 1980. ,\n",
       "       1979. , 1978. , 1977. , 1976. , 1975. , 1974. , 1973. , 1972. ,\n",
       "       1971. , 1970. , 1968. , 1967. , 1966. , 1965. , 1964. , 1963. ,\n",
       "       1962. , 1961. , 1960. , 1959. , 1958. , 1957. , 1956. , 1955. ,\n",
       "       1954. , 1953. , 1952. , 1951. , 1950. , 1949. , 1948. , 1848. ,\n",
       "       1947. , 1946. , 1945. , 1944. , 1943. , 1942. , 1941. , 1940. ,\n",
       "       1939. , 1938. , 1937. , 1936. , 1935. , 1934. , 1933. , 1932. ,\n",
       "       1931. , 1930. , 1929. , 1928. , 1927. , 1926. , 1925. , 1924. ,\n",
       "       1923. , 1922. , 1921. , 1920. , 1919. , 1918. , 1917. , 1916. ,\n",
       "       1915. , 1914. , 1913. , 1912. , 1911. , 1910. , 1909. , 1908. ,\n",
       "       1907. , 1906. , 1905. , 1904. , 1903. , 1902. , 1901. , 1900. ,\n",
       "       1899. , 1898. , 1897. , 1896. , 1895. , 1894. , 1893. , 1892. ,\n",
       "       1891. , 1890. , 1889. , 1888. , 1887. , 1886. , 1885. , 1884. ,\n",
       "       1883. , 1882. , 1881. , 1880. , 1879. , 1878. , 1877. , 1876. ,\n",
       "       1875. , 1874. , 1873. , 1872. , 1871. , 1870. , 1869. , 1868. ,\n",
       "       1867. , 1866. , 1865. , 1864. , 1863. , 1862. , 1861. , 1860. ,\n",
       "       1859. , 1858. , 1857. , 1856. , 1855. , 1853. , 1852. , 1851. ,\n",
       "       1850. , 1849. , 1847. , 1846. , 1845. , 1844. , 1842. , 1841. ,\n",
       "       1840. , 1839. , 1837. , 1836. , 1835. , 1834. , 1832. , 1831. ,\n",
       "       1830. , 1829. , 1828. , 1827. , 1826. , 1825. , 1823. , 1822. ,\n",
       "       1819. , 1818. , 1817. , 1816. , 1815. , 1812. , 1810. , 1808. ,\n",
       "       1807. , 1805. , 1804. , 1803. , 1802. , 1800. , 1792. , 1791. ,\n",
       "       1788. , 1786. , 1785. , 1784. , 1783. , 1780. , 1779. , 1776. ,\n",
       "       1771. , 1767. , 1764. , 1758. , 1753. , 1751. , 1749. , 1755. ,\n",
       "       1748. , 1738. , 1733. , 1723. , 1721. , 1703. , 1700. , 1642. ,\n",
       "       1637. , 1617. , 1595. , 1580. , 1554. , 1543. , 1967.6])"
      ]
     },
     "execution_count": 1688,
     "metadata": {},
     "output_type": "execute_result"
    }
   ],
   "source": [
    "# data cleaning - renaming\n",
    "# year - replace values <= 500 by the mean of values > 500\n",
    "new_sharks_df[\"year\"][new_sharks_df[\"year\"] <= 500] = high_year_mean.round(1)     # .round(1) to check that replace has been succesful (personal approach)\n",
    "new_sharks_df[\"year\"].unique()   # check"
   ]
  },
  {
   "cell_type": "code",
   "execution_count": 1689,
   "metadata": {},
   "outputs": [
    {
     "name": "stdout",
     "output_type": "stream",
     "text": [
      "float64\n",
      "int64\n"
     ]
    }
   ],
   "source": [
    "# data cleaning - renaming\n",
    "# year - convert dtype Series from \"float\" to \"integer\"\n",
    "print(new_sharks_df[\"year\"].dtype)\n",
    "new_sharks_df[\"year\"] = new_sharks_df[\"year\"].astype(\"int64\")\n",
    "print(new_sharks_df[\"year\"].dtype)     # check"
   ]
  },
  {
   "cell_type": "code",
   "execution_count": null,
   "metadata": {},
   "outputs": [],
   "source": []
  },
  {
   "cell_type": "code",
   "execution_count": 1690,
   "metadata": {},
   "outputs": [
    {
     "data": {
      "text/plain": [
       "array(['F', 'M', nan, 'M ', 'lli', 'N', '.'], dtype=object)"
      ]
     },
     "execution_count": 1690,
     "metadata": {},
     "output_type": "execute_result"
    }
   ],
   "source": [
    "# data cleaning - renaming\n",
    "# sex - check values\n",
    "new_sharks_df[\"sex\"].unique()"
   ]
  },
  {
   "cell_type": "code",
   "execution_count": 1691,
   "metadata": {},
   "outputs": [
    {
     "data": {
      "text/plain": [
       "array(['F', 'M', nan, 'lli', 'N', '.'], dtype=object)"
      ]
     },
     "execution_count": 1691,
     "metadata": {},
     "output_type": "execute_result"
    }
   ],
   "source": [
    "# data cleaning - renaming\n",
    "# sex - remove blank spaces in \"M \" (replace for \"M\")\n",
    "new_sharks_df[\"sex\"] = new_sharks_df[\"sex\"].replace(\"M \", \"M\")\n",
    "new_sharks_df[\"sex\"].unique()     #check"
   ]
  },
  {
   "cell_type": "code",
   "execution_count": 1692,
   "metadata": {},
   "outputs": [
    {
     "data": {
      "text/plain": [
       "Index([1622], dtype='int64')"
      ]
     },
     "execution_count": 1692,
     "metadata": {},
     "output_type": "execute_result"
    }
   ],
   "source": [
    "# data cleaning - renaming\n",
    "# year - check for position of values = \"lli\"\n",
    "sex_lli_positions = new_sharks_df[new_sharks_df[\"sex\"] == \"lli\"].index\n",
    "sex_lli_positions"
   ]
  },
  {
   "cell_type": "code",
   "execution_count": 1693,
   "metadata": {},
   "outputs": [
    {
     "data": {
      "text/html": [
       "<div>\n",
       "<style scoped>\n",
       "    .dataframe tbody tr th:only-of-type {\n",
       "        vertical-align: middle;\n",
       "    }\n",
       "\n",
       "    .dataframe tbody tr th {\n",
       "        vertical-align: top;\n",
       "    }\n",
       "\n",
       "    .dataframe thead th {\n",
       "        text-align: right;\n",
       "    }\n",
       "</style>\n",
       "<table border=\"1\" class=\"dataframe\">\n",
       "  <thead>\n",
       "    <tr style=\"text-align: right;\">\n",
       "      <th></th>\n",
       "      <th>date</th>\n",
       "      <th>year</th>\n",
       "      <th>type</th>\n",
       "      <th>country</th>\n",
       "      <th>area</th>\n",
       "      <th>location</th>\n",
       "      <th>activity</th>\n",
       "      <th>sex</th>\n",
       "      <th>age</th>\n",
       "      <th>injury</th>\n",
       "      <th>fatal_(y/n)</th>\n",
       "      <th>time</th>\n",
       "      <th>species</th>\n",
       "      <th>continent</th>\n",
       "    </tr>\n",
       "  </thead>\n",
       "  <tbody>\n",
       "    <tr>\n",
       "      <th>1622</th>\n",
       "      <td>11-Nov-2004</td>\n",
       "      <td>2004</td>\n",
       "      <td>Unprovoked</td>\n",
       "      <td>United States</td>\n",
       "      <td>California</td>\n",
       "      <td>Bunkers, Humboldt Bay, Eureka, Humboldt County</td>\n",
       "      <td>Surfing</td>\n",
       "      <td>lli</td>\n",
       "      <td>38</td>\n",
       "      <td>Lacerations to hand, knee &amp; thigh</td>\n",
       "      <td>N</td>\n",
       "      <td>13h30</td>\n",
       "      <td>5.5 m [18'] white shark</td>\n",
       "      <td>North America</td>\n",
       "    </tr>\n",
       "  </tbody>\n",
       "</table>\n",
       "</div>"
      ],
      "text/plain": [
       "             date  year        type        country        area  \\\n",
       "1622  11-Nov-2004  2004  Unprovoked  United States  California   \n",
       "\n",
       "                                            location activity  sex age  \\\n",
       "1622  Bunkers, Humboldt Bay, Eureka, Humboldt County  Surfing  lli  38   \n",
       "\n",
       "                                  injury fatal_(y/n)   time  \\\n",
       "1622  Lacerations to hand, knee & thigh            N  13h30   \n",
       "\n",
       "                      species      continent  \n",
       "1622  5.5 m [18'] white shark  North America  "
      ]
     },
     "execution_count": 1693,
     "metadata": {},
     "output_type": "execute_result"
    }
   ],
   "source": [
    "# data cleaning - renaming\n",
    "# year - check for position of \"lli\" values\n",
    "new_sharks_df.loc[sex_lli_positions]     # check data"
   ]
  },
  {
   "cell_type": "code",
   "execution_count": 1694,
   "metadata": {},
   "outputs": [
    {
     "data": {
      "text/plain": [
       "Index([4917], dtype='int64')"
      ]
     },
     "execution_count": 1694,
     "metadata": {},
     "output_type": "execute_result"
    }
   ],
   "source": [
    "# data cleaning - renaming\n",
    "# year - check for position of values = \"N\"\n",
    "sex_n_positions = new_sharks_df[new_sharks_df[\"sex\"] == \"N\"].index\n",
    "sex_n_positions"
   ]
  },
  {
   "cell_type": "code",
   "execution_count": 1695,
   "metadata": {},
   "outputs": [
    {
     "data": {
      "text/html": [
       "<div>\n",
       "<style scoped>\n",
       "    .dataframe tbody tr th:only-of-type {\n",
       "        vertical-align: middle;\n",
       "    }\n",
       "\n",
       "    .dataframe tbody tr th {\n",
       "        vertical-align: top;\n",
       "    }\n",
       "\n",
       "    .dataframe thead th {\n",
       "        text-align: right;\n",
       "    }\n",
       "</style>\n",
       "<table border=\"1\" class=\"dataframe\">\n",
       "  <thead>\n",
       "    <tr style=\"text-align: right;\">\n",
       "      <th></th>\n",
       "      <th>date</th>\n",
       "      <th>year</th>\n",
       "      <th>type</th>\n",
       "      <th>country</th>\n",
       "      <th>area</th>\n",
       "      <th>location</th>\n",
       "      <th>activity</th>\n",
       "      <th>sex</th>\n",
       "      <th>age</th>\n",
       "      <th>injury</th>\n",
       "      <th>fatal_(y/n)</th>\n",
       "      <th>time</th>\n",
       "      <th>species</th>\n",
       "      <th>continent</th>\n",
       "    </tr>\n",
       "  </thead>\n",
       "  <tbody>\n",
       "    <tr>\n",
       "      <th>4917</th>\n",
       "      <td>11-Jul-1934</td>\n",
       "      <td>1934</td>\n",
       "      <td>Boating</td>\n",
       "      <td>Australia</td>\n",
       "      <td>New South Wales</td>\n",
       "      <td>Cronulla</td>\n",
       "      <td>Fishing</td>\n",
       "      <td>N</td>\n",
       "      <td>NaN</td>\n",
       "      <td>No injury to occupants Sharks continually foll...</td>\n",
       "      <td>N</td>\n",
       "      <td>NaN</td>\n",
       "      <td>Blue pointer, 11'</td>\n",
       "      <td>Oceania</td>\n",
       "    </tr>\n",
       "  </tbody>\n",
       "</table>\n",
       "</div>"
      ],
      "text/plain": [
       "             date  year     type    country             area  location  \\\n",
       "4917  11-Jul-1934  1934  Boating  Australia  New South Wales  Cronulla   \n",
       "\n",
       "     activity sex  age                                             injury  \\\n",
       "4917  Fishing   N  NaN  No injury to occupants Sharks continually foll...   \n",
       "\n",
       "     fatal_(y/n) time             species continent  \n",
       "4917           N  NaN  Blue pointer, 11'    Oceania  "
      ]
     },
     "execution_count": 1695,
     "metadata": {},
     "output_type": "execute_result"
    }
   ],
   "source": [
    "# data cleaning - renaming\n",
    "# year - check for position of \"N\" values\n",
    "new_sharks_df.loc[sex_n_positions]     # check data"
   ]
  },
  {
   "cell_type": "code",
   "execution_count": 1696,
   "metadata": {},
   "outputs": [
    {
     "data": {
      "text/plain": [
       "Index([5413], dtype='int64')"
      ]
     },
     "execution_count": 1696,
     "metadata": {},
     "output_type": "execute_result"
    }
   ],
   "source": [
    "# data cleaning - renaming\n",
    "# year - check for position of values = \".\"\n",
    "sex_dot_positions = new_sharks_df[new_sharks_df[\"sex\"] == \".\"].index\n",
    "sex_dot_positions"
   ]
  },
  {
   "cell_type": "code",
   "execution_count": 1697,
   "metadata": {},
   "outputs": [
    {
     "data": {
      "text/html": [
       "<div>\n",
       "<style scoped>\n",
       "    .dataframe tbody tr th:only-of-type {\n",
       "        vertical-align: middle;\n",
       "    }\n",
       "\n",
       "    .dataframe tbody tr th {\n",
       "        vertical-align: top;\n",
       "    }\n",
       "\n",
       "    .dataframe thead th {\n",
       "        text-align: right;\n",
       "    }\n",
       "</style>\n",
       "<table border=\"1\" class=\"dataframe\">\n",
       "  <thead>\n",
       "    <tr style=\"text-align: right;\">\n",
       "      <th></th>\n",
       "      <th>date</th>\n",
       "      <th>year</th>\n",
       "      <th>type</th>\n",
       "      <th>country</th>\n",
       "      <th>area</th>\n",
       "      <th>location</th>\n",
       "      <th>activity</th>\n",
       "      <th>sex</th>\n",
       "      <th>age</th>\n",
       "      <th>injury</th>\n",
       "      <th>fatal_(y/n)</th>\n",
       "      <th>time</th>\n",
       "      <th>species</th>\n",
       "      <th>continent</th>\n",
       "    </tr>\n",
       "  </thead>\n",
       "  <tbody>\n",
       "    <tr>\n",
       "      <th>5413</th>\n",
       "      <td>Reported 02-Jun-1908</td>\n",
       "      <td>1908</td>\n",
       "      <td>Sea Disaster</td>\n",
       "      <td>Papua New Guinea</td>\n",
       "      <td>New Britain</td>\n",
       "      <td>Matupi</td>\n",
       "      <td>.</td>\n",
       "      <td>.</td>\n",
       "      <td>NaN</td>\n",
       "      <td>Remains of 3 humans recovered from shark, but ...</td>\n",
       "      <td>Y</td>\n",
       "      <td>NaN</td>\n",
       "      <td>Allegedly a 33-foot shark</td>\n",
       "      <td>Oceania</td>\n",
       "    </tr>\n",
       "  </tbody>\n",
       "</table>\n",
       "</div>"
      ],
      "text/plain": [
       "                      date  year          type           country         area  \\\n",
       "5413  Reported 02-Jun-1908  1908  Sea Disaster  Papua New Guinea  New Britain   \n",
       "\n",
       "     location activity sex  age  \\\n",
       "5413   Matupi        .   .  NaN   \n",
       "\n",
       "                                                 injury fatal_(y/n) time  \\\n",
       "5413  Remains of 3 humans recovered from shark, but ...           Y  NaN   \n",
       "\n",
       "                        species continent  \n",
       "5413  Allegedly a 33-foot shark   Oceania  "
      ]
     },
     "execution_count": 1697,
     "metadata": {},
     "output_type": "execute_result"
    }
   ],
   "source": [
    "# data cleaning - renaming\n",
    "# year - check for position of \".\" values\n",
    "new_sharks_df.loc[sex_dot_positions]     # check data"
   ]
  },
  {
   "cell_type": "code",
   "execution_count": 1698,
   "metadata": {},
   "outputs": [
    {
     "data": {
      "text/plain": [
       "array(['F', 'M', nan], dtype=object)"
      ]
     },
     "execution_count": 1698,
     "metadata": {},
     "output_type": "execute_result"
    }
   ],
   "source": [
    "# data cleaning - renaming\n",
    "# sex - replace \"lli\", \"N\" and \".\" for \"M\"\n",
    "new_sharks_df[\"sex\"] = new_sharks_df[\"sex\"].replace([\"lli\", \"N\", \".\"], \"M\")\n",
    "new_sharks_df[\"sex\"].unique()     #check"
   ]
  },
  {
   "cell_type": "code",
   "execution_count": 1699,
   "metadata": {},
   "outputs": [
    {
     "data": {
      "text/plain": [
       "sex\n",
       "False    5691\n",
       "True      561\n",
       "Name: count, dtype: int64"
      ]
     },
     "execution_count": 1699,
     "metadata": {},
     "output_type": "execute_result"
    }
   ],
   "source": [
    "# data cleaning - renaming\n",
    "# sex - check for NaN values\n",
    "new_sharks_df[\"sex\"].isna().value_counts()"
   ]
  },
  {
   "cell_type": "code",
   "execution_count": 1700,
   "metadata": {},
   "outputs": [
    {
     "data": {
      "text/plain": [
       "<Axes: >"
      ]
     },
     "execution_count": 1700,
     "metadata": {},
     "output_type": "execute_result"
    },
    {
     "data": {
      "image/png": "[encoded data removed]",
      "text/plain": [
       "<Figure size 640x480 with 1 Axes>"
      ]
     },
     "metadata": {},
     "output_type": "display_data"
    }
   ],
   "source": [
    "new_sharks_df[\"sex\"].hist()"
   ]
  },
  {
   "cell_type": "code",
   "execution_count": 1701,
   "metadata": {},
   "outputs": [
    {
     "data": {
      "text/plain": [
       "sex\n",
       "M    5057\n",
       "F     634\n",
       "Name: count, dtype: int64"
      ]
     },
     "execution_count": 1701,
     "metadata": {},
     "output_type": "execute_result"
    }
   ],
   "source": [
    "# data cleaning - renaming\n",
    "# sex - check for \"M\" and \"F\" values\n",
    "new_sharks_df[\"sex\"].value_counts()     # not possible to use .sum() since dtype is \"O\""
   ]
  },
  {
   "cell_type": "code",
   "execution_count": 1702,
   "metadata": {},
   "outputs": [
    {
     "data": {
      "text/plain": [
       "0.11140397118256896"
      ]
     },
     "execution_count": 1702,
     "metadata": {},
     "output_type": "execute_result"
    }
   ],
   "source": [
    "# data cleaning - renaming\n",
    "# sex_f_proportion = 634/(634+5057) = 634 / 5691 = 11,14%\n",
    "sex_f_proportion = ((new_sharks_df[\"sex\"][new_sharks_df[\"sex\"] == \"F\"]).count())/new_sharks_df[\"sex\"].count()\n",
    "sex_f_proportion"
   ]
  },
  {
   "cell_type": "code",
   "execution_count": 1703,
   "metadata": {},
   "outputs": [
    {
     "data": {
      "text/plain": [
       "62.0"
      ]
     },
     "execution_count": 1703,
     "metadata": {},
     "output_type": "execute_result"
    }
   ],
   "source": [
    "# data cleaning - renaming\n",
    "# sex - replacing \"sex_f_proportion\" of NaN values for \"F\" = 11,14039712% * 561 = 62 approx. \n",
    "nan_female = (sex_f_proportion * new_sharks_df[\"sex\"].isna().sum()).round(0)     # possibility to use .sum() since NaN values are considered numeric values\n",
    "nan_female"
   ]
  },
  {
   "cell_type": "code",
   "execution_count": 1704,
   "metadata": {},
   "outputs": [
    {
     "data": {
      "text/plain": [
       "Index([  32,   59,   85,  123,  153,  178,  217,  225,  242,  296,\n",
       "       ...\n",
       "       6114, 6122, 6123, 6138, 6150, 6154, 6163, 6188, 6228, 6237],\n",
       "      dtype='int64', length=561)"
      ]
     },
     "execution_count": 1704,
     "metadata": {},
     "output_type": "execute_result"
    }
   ],
   "source": [
    "# data cleaning - renaming\n",
    "# sex - check for position of NaN values\n",
    "nan_sex_positions = new_sharks_df[new_sharks_df[\"sex\"].isna()].index\n",
    "nan_sex_positions     # not very useful for a \"fast\" replacement; consider other options..."
   ]
  },
  {
   "cell_type": "code",
   "execution_count": 1705,
   "metadata": {},
   "outputs": [
    {
     "data": {
      "text/plain": [
       "array([3101, 5175, 1720, 4607, 2140, 5651, 5585, 4050, 3124, 2804, 6044,\n",
       "       6154, 5102, 3527, 1454, 3735, 5791,  462, 1635, 4666, 6188, 3435,\n",
       "       2046, 2806, 5536, 2880,  178, 3159, 2383, 2293, 5635, 5223, 3808,\n",
       "       4003, 3952, 4022, 3915, 4887, 4547, 2053, 3833,  868,  474, 3123,\n",
       "       2404, 3845, 4109, 6043, 2812, 2219, 2948, 2548, 2450, 4425, 2867,\n",
       "       2467, 4631, 4364, 4184, 3186, 4275,   85], dtype=int64)"
      ]
     },
     "execution_count": 1705,
     "metadata": {},
     "output_type": "execute_result"
    }
   ],
   "source": [
    "# data cleaning - renaming\n",
    "# sex - replacing \"sex_f_proportion\" of NaN values for \"F\" = 11,14039712% * 561 = 62 approx. --- getting a random sample of NaN values to be replaced\n",
    "f_replacement = np.random.choice(nan_sex_positions, size = int(nan_female), replace = False)\n",
    "f_replacement"
   ]
  },
  {
   "cell_type": "code",
   "execution_count": 1706,
   "metadata": {},
   "outputs": [
    {
     "data": {
      "text/plain": [
       "sex\n",
       "False    5753\n",
       "True      499\n",
       "Name: count, dtype: int64"
      ]
     },
     "execution_count": 1706,
     "metadata": {},
     "output_type": "execute_result"
    }
   ],
   "source": [
    "# data cleaning - renaming\n",
    "# sex - replacing \"sex_f_proportion\" of NaN values for \"F\" = 11,1403971% * 561 = 62 approx.\n",
    "new_sharks_df.loc[f_replacement, \"sex\"] = \"F\"\n",
    "new_sharks_df[\"sex\"].isna().value_counts()     # check new NaN values (to be replaced by \"M\" afterwards)"
   ]
  },
  {
   "cell_type": "code",
   "execution_count": 1707,
   "metadata": {},
   "outputs": [
    {
     "data": {
      "text/plain": [
       "sex\n",
       "False    6252\n",
       "Name: count, dtype: int64"
      ]
     },
     "execution_count": 1707,
     "metadata": {},
     "output_type": "execute_result"
    }
   ],
   "source": [
    "# data cleaning - renaming\n",
    "# sex - replacing remaining NaN values for \"M\"\n",
    "new_sharks_df[\"sex\"] = new_sharks_df[\"sex\"].replace(np.nan, \"M\")\n",
    "new_sharks_df[\"sex\"].isna().value_counts()     # check remaining NaN values"
   ]
  },
  {
   "cell_type": "code",
   "execution_count": 1708,
   "metadata": {},
   "outputs": [],
   "source": [
    "# data cleaning - renaming\n",
    "# sex - converting Series from \"object\" to \"boolean\"\n",
    "    # print(new_sharks_df[\"sex\"].dtype)\n",
    "    # new_sharks_df[\"sex\"] = new_sharks_df[\"sex\"].astype(\"bool\", \"F\" == True)\n",
    "    # print(new_sharks_df[\"sex\"].dtype)"
   ]
  },
  {
   "cell_type": "code",
   "execution_count": 1709,
   "metadata": {},
   "outputs": [],
   "source": [
    "    # new_sharks_df[\"sex\"].value_counts()"
   ]
  },
  {
   "cell_type": "code",
   "execution_count": null,
   "metadata": {},
   "outputs": [],
   "source": []
  },
  {
   "cell_type": "code",
   "execution_count": 1710,
   "metadata": {},
   "outputs": [
    {
     "data": {
      "text/plain": [
       "array(['N', 'Y', nan, 'M', 'UNKNOWN', '2017', ' N', 'N ', 'y'],\n",
       "      dtype=object)"
      ]
     },
     "execution_count": 1710,
     "metadata": {},
     "output_type": "execute_result"
    }
   ],
   "source": [
    "# data cleaning - renaming\n",
    "# fatal_(y/n) - checking data structure\n",
    "new_sharks_df[\"fatal_(y/n)\"].unique()"
   ]
  },
  {
   "cell_type": "code",
   "execution_count": 1711,
   "metadata": {},
   "outputs": [
    {
     "data": {
      "text/plain": [
       "fatal_(y/n)\n",
       "N          4274\n",
       "Y          1364\n",
       "UNKNOWN      69\n",
       " N            7\n",
       "M             1\n",
       "2017          1\n",
       "N             1\n",
       "y             1\n",
       "Name: count, dtype: int64"
      ]
     },
     "execution_count": 1711,
     "metadata": {},
     "output_type": "execute_result"
    }
   ],
   "source": [
    "# data cleaning - renaming\n",
    "# fatal_(y/n) - checking values\n",
    "new_sharks_df[\"fatal_(y/n)\"].value_counts()"
   ]
  },
  {
   "cell_type": "code",
   "execution_count": 1712,
   "metadata": {},
   "outputs": [
    {
     "data": {
      "text/plain": [
       "fatal_(y/n)\n",
       "N          4282\n",
       "Y          1365\n",
       "UNKNOWN      69\n",
       "M             1\n",
       "2017          1\n",
       "Name: count, dtype: int64"
      ]
     },
     "execution_count": 1712,
     "metadata": {},
     "output_type": "execute_result"
    }
   ],
   "source": [
    "# data cleaning - renaming\n",
    "# fatal_(y/n) - replacing \" N\" and \"N \" for \"N\"; replacing \"y\" for \"Y\"\n",
    "new_sharks_df[\"fatal_(y/n)\"] = new_sharks_df[\"fatal_(y/n)\"].replace([\" N\", \"N \"], \"N\")\n",
    "new_sharks_df[\"fatal_(y/n)\"] = new_sharks_df[\"fatal_(y/n)\"].replace(\"y\", \"Y\")\n",
    "new_sharks_df[\"fatal_(y/n)\"].value_counts()     # check data"
   ]
  },
  {
   "cell_type": "code",
   "execution_count": 1713,
   "metadata": {},
   "outputs": [
    {
     "name": "stdout",
     "output_type": "stream",
     "text": [
      "Index([284], dtype='int64')\n",
      "Index([784], dtype='int64')\n"
     ]
    }
   ],
   "source": [
    "# data cleaning - renaming\n",
    "# fatal_(y/n) - check for position of \"M\" and \"2017\" values\n",
    "fatal_m_positions = new_sharks_df[new_sharks_df[\"fatal_(y/n)\"] == \"M\"].index\n",
    "fatal_y_positions = new_sharks_df[new_sharks_df[\"fatal_(y/n)\"] == \"2017\"].index\n",
    "print(fatal_m_positions)\n",
    "print(fatal_y_positions)"
   ]
  },
  {
   "cell_type": "code",
   "execution_count": 1714,
   "metadata": {},
   "outputs": [
    {
     "data": {
      "text/html": [
       "<div>\n",
       "<style scoped>\n",
       "    .dataframe tbody tr th:only-of-type {\n",
       "        vertical-align: middle;\n",
       "    }\n",
       "\n",
       "    .dataframe tbody tr th {\n",
       "        vertical-align: top;\n",
       "    }\n",
       "\n",
       "    .dataframe thead th {\n",
       "        text-align: right;\n",
       "    }\n",
       "</style>\n",
       "<table border=\"1\" class=\"dataframe\">\n",
       "  <thead>\n",
       "    <tr style=\"text-align: right;\">\n",
       "      <th></th>\n",
       "      <th>date</th>\n",
       "      <th>year</th>\n",
       "      <th>type</th>\n",
       "      <th>country</th>\n",
       "      <th>area</th>\n",
       "      <th>location</th>\n",
       "      <th>activity</th>\n",
       "      <th>sex</th>\n",
       "      <th>age</th>\n",
       "      <th>injury</th>\n",
       "      <th>fatal_(y/n)</th>\n",
       "      <th>time</th>\n",
       "      <th>species</th>\n",
       "      <th>continent</th>\n",
       "    </tr>\n",
       "  </thead>\n",
       "  <tbody>\n",
       "    <tr>\n",
       "      <th>284</th>\n",
       "      <td>18-Apr-2016</td>\n",
       "      <td>2016</td>\n",
       "      <td>Provoked</td>\n",
       "      <td>French Polynesia</td>\n",
       "      <td>Tuamotos</td>\n",
       "      <td>Makemo Atoll</td>\n",
       "      <td>Spearfishing</td>\n",
       "      <td>M</td>\n",
       "      <td>22</td>\n",
       "      <td>Laceration to knee by speared shark PROVOKED I...</td>\n",
       "      <td>M</td>\n",
       "      <td>Morning</td>\n",
       "      <td>Grey reef shark, 2 m</td>\n",
       "      <td>Oceania</td>\n",
       "    </tr>\n",
       "  </tbody>\n",
       "</table>\n",
       "</div>"
      ],
      "text/plain": [
       "            date  year      type           country      area      location  \\\n",
       "284  18-Apr-2016  2016  Provoked  French Polynesia  Tuamotos  Makemo Atoll   \n",
       "\n",
       "         activity sex age                                             injury  \\\n",
       "284  Spearfishing   M  22  Laceration to knee by speared shark PROVOKED I...   \n",
       "\n",
       "    fatal_(y/n)     time               species continent  \n",
       "284           M  Morning  Grey reef shark, 2 m   Oceania  "
      ]
     },
     "execution_count": 1714,
     "metadata": {},
     "output_type": "execute_result"
    }
   ],
   "source": [
    "# data cleaning - renaming\n",
    "# fatal_(y/n) - check for position of \"M\"\n",
    "new_sharks_df.loc[fatal_m_positions]     # check data"
   ]
  },
  {
   "cell_type": "code",
   "execution_count": 1715,
   "metadata": {},
   "outputs": [
    {
     "data": {
      "text/html": [
       "<div>\n",
       "<style scoped>\n",
       "    .dataframe tbody tr th:only-of-type {\n",
       "        vertical-align: middle;\n",
       "    }\n",
       "\n",
       "    .dataframe tbody tr th {\n",
       "        vertical-align: top;\n",
       "    }\n",
       "\n",
       "    .dataframe thead th {\n",
       "        text-align: right;\n",
       "    }\n",
       "</style>\n",
       "<table border=\"1\" class=\"dataframe\">\n",
       "  <thead>\n",
       "    <tr style=\"text-align: right;\">\n",
       "      <th></th>\n",
       "      <th>date</th>\n",
       "      <th>year</th>\n",
       "      <th>type</th>\n",
       "      <th>country</th>\n",
       "      <th>area</th>\n",
       "      <th>location</th>\n",
       "      <th>activity</th>\n",
       "      <th>sex</th>\n",
       "      <th>age</th>\n",
       "      <th>injury</th>\n",
       "      <th>fatal_(y/n)</th>\n",
       "      <th>time</th>\n",
       "      <th>species</th>\n",
       "      <th>continent</th>\n",
       "    </tr>\n",
       "  </thead>\n",
       "  <tbody>\n",
       "    <tr>\n",
       "      <th>784</th>\n",
       "      <td>10-Jun-2012</td>\n",
       "      <td>2012</td>\n",
       "      <td>Provoked</td>\n",
       "      <td>Italy</td>\n",
       "      <td>Sardinia</td>\n",
       "      <td>Muravera</td>\n",
       "      <td>Attempting to rescue an injured &amp; beached shark</td>\n",
       "      <td>M</td>\n",
       "      <td>57</td>\n",
       "      <td>Lower left leg injured PROVOKED ACCIDENT</td>\n",
       "      <td>2017</td>\n",
       "      <td>Morning</td>\n",
       "      <td>Blue shark, 2.5m</td>\n",
       "      <td>Europe</td>\n",
       "    </tr>\n",
       "  </tbody>\n",
       "</table>\n",
       "</div>"
      ],
      "text/plain": [
       "            date  year      type country      area  location  \\\n",
       "784  10-Jun-2012  2012  Provoked   Italy  Sardinia  Muravera   \n",
       "\n",
       "                                            activity sex age  \\\n",
       "784  Attempting to rescue an injured & beached shark   M  57   \n",
       "\n",
       "                                       injury fatal_(y/n)     time  \\\n",
       "784  Lower left leg injured PROVOKED ACCIDENT        2017  Morning   \n",
       "\n",
       "              species continent  \n",
       "784  Blue shark, 2.5m    Europe  "
      ]
     },
     "execution_count": 1715,
     "metadata": {},
     "output_type": "execute_result"
    }
   ],
   "source": [
    "# data cleaning - renaming\n",
    "# fatal_(y/n) - check for position of \"2017\" values\n",
    "new_sharks_df.loc[fatal_y_positions]     # check data"
   ]
  },
  {
   "cell_type": "code",
   "execution_count": 1716,
   "metadata": {},
   "outputs": [
    {
     "data": {
      "text/plain": [
       "fatal_(y/n)\n",
       "N          4284\n",
       "Y          1365\n",
       "UNKNOWN      69\n",
       "Name: count, dtype: int64"
      ]
     },
     "execution_count": 1716,
     "metadata": {},
     "output_type": "execute_result"
    }
   ],
   "source": [
    "# data cleaning - renaming\n",
    "# fatal_(y/n) - replace \"M\" and \"2017\" values for \"N\" (according to \"injury\" details above)\n",
    "new_sharks_df[\"fatal_(y/n)\"] = new_sharks_df[\"fatal_(y/n)\"].replace([\"M\", \"2017\"], \"N\")\n",
    "new_sharks_df[\"fatal_(y/n)\"].value_counts()     # check data"
   ]
  },
  {
   "cell_type": "code",
   "execution_count": 1717,
   "metadata": {},
   "outputs": [
    {
     "data": {
      "text/plain": [
       "fatal_(y/n)\n",
       "False    5718\n",
       "True      534\n",
       "Name: count, dtype: int64"
      ]
     },
     "execution_count": 1717,
     "metadata": {},
     "output_type": "execute_result"
    }
   ],
   "source": [
    "# data cleaning - renaming\n",
    "# fatal_(y/n) - check of NaN values\n",
    "new_sharks_df[\"fatal_(y/n)\"].isna().value_counts()"
   ]
  },
  {
   "cell_type": "code",
   "execution_count": 1718,
   "metadata": {},
   "outputs": [
    {
     "data": {
      "text/plain": [
       "Index([ 622, 1268, 2248, 2258, 2265, 2293, 2305, 2321, 2326, 2386, 2402, 2407,\n",
       "       2646, 2648, 2659, 2804, 2880, 2898, 2941, 2993, 2995, 3003, 3035, 3038,\n",
       "       3295, 3389, 3403, 3420, 3425, 3498, 3536, 3543, 3701, 3763, 3783, 3827,\n",
       "       3830, 4048, 4196, 4243, 4255, 4296, 4309, 4502, 4673, 4766, 4767, 4955,\n",
       "       4977, 5007, 5136, 5247, 5324, 5386, 5531, 5588, 5625, 5628, 5646, 5680,\n",
       "       5681, 5962, 6044, 6111, 6122, 6123, 6125, 6127, 6227],\n",
       "      dtype='int64')"
      ]
     },
     "execution_count": 1718,
     "metadata": {},
     "output_type": "execute_result"
    }
   ],
   "source": [
    "# data cleaning - renaming\n",
    "# fatal_(y/n) - check for position of \"UNKNOWN\" values\n",
    "fatal_un_positions = new_sharks_df[new_sharks_df[\"fatal_(y/n)\"] == \"UNKNOWN\"].index\n",
    "fatal_un_positions"
   ]
  },
  {
   "cell_type": "code",
   "execution_count": 1719,
   "metadata": {},
   "outputs": [
    {
     "data": {
      "text/plain": [
       "<Axes: >"
      ]
     },
     "execution_count": 1719,
     "metadata": {},
     "output_type": "execute_result"
    },
    {
     "data": {
      "image/png": "[encoded data removed]",
      "text/plain": [
       "<Figure size 640x480 with 1 Axes>"
      ]
     },
     "metadata": {},
     "output_type": "display_data"
    }
   ],
   "source": [
    "new_sharks_df[\"fatal_(y/n)\"].hist()"
   ]
  },
  {
   "cell_type": "code",
   "execution_count": 1720,
   "metadata": {},
   "outputs": [
    {
     "data": {
      "text/plain": [
       "0.241635687732342"
      ]
     },
     "execution_count": 1720,
     "metadata": {},
     "output_type": "execute_result"
    }
   ],
   "source": [
    "# data cleaning - renaming\n",
    "# fatal_y_proportion (\"original\" values/exlcuding \"UNKNOWN\" values) = 1365/(1365+4284) = 1365 / 5649 = 24,16%\n",
    "fatal_y_count = (new_sharks_df[\"fatal_(y/n)\"][new_sharks_df[\"fatal_(y/n)\"] == \"Y\"]).count()\n",
    "fatal_n_count = (new_sharks_df[\"fatal_(y/n)\"][new_sharks_df[\"fatal_(y/n)\"] == \"N\"]).count()\n",
    "fatal_yn_count = fatal_y_count + fatal_n_count\n",
    "fatal_y_proportion = fatal_y_count/fatal_yn_count\n",
    "fatal_y_proportion     # check data"
   ]
  },
  {
   "cell_type": "code",
   "execution_count": 1721,
   "metadata": {},
   "outputs": [
    {
     "data": {
      "text/plain": [
       "fatal_(y/n)\n",
       "UNKNOWN    17.0\n",
       "Name: count, dtype: float64"
      ]
     },
     "execution_count": 1721,
     "metadata": {},
     "output_type": "execute_result"
    }
   ],
   "source": [
    "# data cleaning - renaming\n",
    "# fatal_(y/n) - replacing \"fatal_y_proportion\" of \"UNKNOWN\" values for \"Y\" = 24,1635688% * 69 = 17 approx. \n",
    "unknown_y_fatal = (fatal_y_proportion * new_sharks_df[\"fatal_(y/n)\"][new_sharks_df[\"fatal_(y/n)\"] == \"UNKNOWN\"].value_counts()).round(0)\n",
    "unknown_y_fatal     # check data"
   ]
  },
  {
   "cell_type": "code",
   "execution_count": 1722,
   "metadata": {},
   "outputs": [
    {
     "data": {
      "text/plain": [
       "array([3701, 2258, 5625, 5681,  622, 3403, 6122, 2326, 4977, 2993, 2305,\n",
       "       2293, 4767, 6123, 5007, 5247, 5531], dtype=int64)"
      ]
     },
     "execution_count": 1722,
     "metadata": {},
     "output_type": "execute_result"
    }
   ],
   "source": [
    "# data cleaning - renaming\n",
    "# fatal_(y/n) - replacing \"fatal_y_proportion\" of \"UNKNOWN\" values for \"Y\" = 24,1635688% * 69 = 17 approx. --- getting a random sample of \"UNKNOWN\" values to be replaced\n",
    "fatal_y_replacement = np.random.choice(fatal_un_positions, size = int(unknown_y_fatal), replace = False)\n",
    "fatal_y_replacement"
   ]
  },
  {
   "cell_type": "code",
   "execution_count": 1723,
   "metadata": {},
   "outputs": [
    {
     "data": {
      "text/plain": [
       "fatal_(y/n)\n",
       "UNKNOWN    52\n",
       "Name: count, dtype: int64"
      ]
     },
     "execution_count": 1723,
     "metadata": {},
     "output_type": "execute_result"
    }
   ],
   "source": [
    "# data cleaning - renaming\n",
    "# fatal_(y/n) - replacing \"fatal_y_proportion\" of \"UNKNOWN\" values for \"Y\" = 24,1635688% * 69 = 17 approx.\n",
    "new_sharks_df.loc[fatal_y_replacement, \"fatal_(y/n)\"] = \"Y\"\n",
    "new_sharks_df[\"fatal_(y/n)\"][new_sharks_df[\"fatal_(y/n)\"] == \"UNKNOWN\"].value_counts()     # check new \"UNKNOWN\" values (to be replaced by \"N\" afterwards)"
   ]
  },
  {
   "cell_type": "code",
   "execution_count": 1724,
   "metadata": {},
   "outputs": [
    {
     "data": {
      "text/plain": [
       "fatal_(y/n)\n",
       "N    4336\n",
       "Y    1382\n",
       "Name: count, dtype: int64"
      ]
     },
     "execution_count": 1724,
     "metadata": {},
     "output_type": "execute_result"
    }
   ],
   "source": [
    "# data cleaning - renaming\n",
    "# fatal_(y/n) - replacing remaining \"UNKNOWN\" values\n",
    "new_sharks_df[\"fatal_(y/n)\"][new_sharks_df[\"fatal_(y/n)\"] == \"UNKNOWN\"] = \"N\"\n",
    "new_sharks_df[\"fatal_(y/n)\"].value_counts()     # check data"
   ]
  },
  {
   "cell_type": "code",
   "execution_count": 1725,
   "metadata": {},
   "outputs": [
    {
     "data": {
      "text/plain": [
       "Index([  27,   75,   78,   83,   97,  106,  114,  123,  124,  144,\n",
       "       ...\n",
       "       6072, 6073, 6083, 6086, 6087, 6105, 6114, 6115, 6121, 6183],\n",
       "      dtype='int64', length=534)"
      ]
     },
     "execution_count": 1725,
     "metadata": {},
     "output_type": "execute_result"
    }
   ],
   "source": [
    "# data cleaning - renaming\n",
    "# fatal_(y/n) - check for position of NaN values\n",
    "fatal_nan_positions = new_sharks_df[new_sharks_df[\"fatal_(y/n)\"].isna()].index\n",
    "fatal_nan_positions"
   ]
  },
  {
   "cell_type": "code",
   "execution_count": 1726,
   "metadata": {},
   "outputs": [
    {
     "data": {
      "text/plain": [
       "129.0"
      ]
     },
     "execution_count": 1726,
     "metadata": {},
     "output_type": "execute_result"
    }
   ],
   "source": [
    "# data cleaning - renaming\n",
    "# fatal_(y/n) - replacing \"fatal_y_proportion\" of NaN values for \"Y\" = 24,1635688% * 534 = 129 approx.\n",
    "nan_y_fatal = (fatal_y_proportion * new_sharks_df[\"fatal_(y/n)\"].isna().sum()).round(0)     # possibility to use .sum() since NaN values are considered numeric values\n",
    "nan_y_fatal     # check data"
   ]
  },
  {
   "cell_type": "code",
   "execution_count": 1727,
   "metadata": {},
   "outputs": [
    {
     "data": {
      "text/plain": [
       "array([3436, 2408, 1312,  574, 4878, 3546, 3975, 4881, 3755, 3954, 5476,\n",
       "       4055, 5477, 1864,  759, 2859, 2623, 1379, 2682, 1483,  706, 5872,\n",
       "       2609,  205, 4657, 6041, 3936, 3227,  951,  465, 1709, 5930, 1324,\n",
       "       3042, 3727, 2779, 3555, 1176,  992, 4890, 2356,  436, 1238, 3127,\n",
       "       6000, 5922,  880, 3482, 5399, 4760,  288,  264, 3492, 2796, 4902,\n",
       "       6115, 4184, 5977, 2871, 5866,  391, 5603, 5775, 5409, 3459, 4880,\n",
       "       3800, 3153, 2658, 5304, 5207, 3161, 3463, 4833, 5829, 3949, 1271,\n",
       "       6087, 5430, 3159, 4086, 3987, 5651,  158, 3432, 5166, 3226, 5465,\n",
       "       1742,  333, 3571, 2537,  106, 4759, 4066, 1134, 6073,  776, 3109,\n",
       "         78, 1989, 3204, 3508, 2980, 3672, 4034, 4761, 5422, 1270, 4984,\n",
       "       5841, 5746, 1595, 3497, 2845, 4762, 5564, 4005, 4804, 3890, 1493,\n",
       "       4619, 5373, 4964, 3842, 4418, 5331, 2228, 2199], dtype=int64)"
      ]
     },
     "execution_count": 1727,
     "metadata": {},
     "output_type": "execute_result"
    }
   ],
   "source": [
    "# data cleaning - renaming\n",
    "# fatal_(y/n) - replacing \"fatal_y_proportion\" of NaN values for \"Y\" = 24,1635688% * 534 = 129 approx. --- getting a random sample of NaN values to be replaced\n",
    "fatal_nan_replacement = np.random.choice(fatal_nan_positions, size = int(nan_y_fatal), replace = False)\n",
    "fatal_nan_replacement"
   ]
  },
  {
   "cell_type": "code",
   "execution_count": 1728,
   "metadata": {},
   "outputs": [
    {
     "data": {
      "text/plain": [
       "fatal_(y/n)\n",
       "False    5847\n",
       "True      405\n",
       "Name: count, dtype: int64"
      ]
     },
     "execution_count": 1728,
     "metadata": {},
     "output_type": "execute_result"
    }
   ],
   "source": [
    "# data cleaning - renaming\n",
    "# fatal_(y/n) - replacing \"fatal_y_proportion\" of NaN values for \"Y\" = 24,1635688% * 534 = 129 approx.\n",
    "new_sharks_df.loc[fatal_nan_replacement, \"fatal_(y/n)\"] = \"Y\"\n",
    "new_sharks_df[\"fatal_(y/n)\"].isna().value_counts()     # check new NaN values (to be replaced by \"N\" afterwards)"
   ]
  },
  {
   "cell_type": "code",
   "execution_count": 1729,
   "metadata": {},
   "outputs": [
    {
     "data": {
      "text/plain": [
       "fatal_(y/n)\n",
       "False    6252\n",
       "Name: count, dtype: int64"
      ]
     },
     "execution_count": 1729,
     "metadata": {},
     "output_type": "execute_result"
    }
   ],
   "source": [
    "# data cleaning - renaming\n",
    "# fatal_(y/n) - replacing remaining NaN values for \"N\"\n",
    "new_sharks_df[\"fatal_(y/n)\"] = new_sharks_df[\"fatal_(y/n)\"].replace(np.nan, \"N\")\n",
    "new_sharks_df[\"fatal_(y/n)\"].isna().value_counts()     # check remaining NaN values"
   ]
  },
  {
   "cell_type": "code",
   "execution_count": 1730,
   "metadata": {},
   "outputs": [
    {
     "data": {
      "text/plain": [
       "fatal_(y/n)\n",
       "N    4741\n",
       "Y    1511\n",
       "Name: count, dtype: int64"
      ]
     },
     "execution_count": 1730,
     "metadata": {},
     "output_type": "execute_result"
    }
   ],
   "source": [
    "# data cleaning - renaming\n",
    "# fatal_(y/n) - replacing remaining NaN values for \"N\"\n",
    "new_sharks_df[\"fatal_(y/n)\"].value_counts() "
   ]
  },
  {
   "cell_type": "code",
   "execution_count": 1731,
   "metadata": {},
   "outputs": [
    {
     "name": "stdout",
     "output_type": "stream",
     "text": [
      "object\n",
      "bool\n"
     ]
    }
   ],
   "source": [
    "# data cleaning - renaming\n",
    "# fatal_(y/n) - converting Series from \"object\" to \"boolean\" (not possible to use .astype(\"bool\") since all Series data is \"object\" and it converts all to either True or False !!!)\n",
    "print(new_sharks_df[\"fatal_(y/n)\"].dtype)\n",
    "new_sharks_df[\"fatal_(y/n)\"] = new_sharks_df[\"fatal_(y/n)\"].apply(lambda x: True if x in [\"Y\"] else False)     # .apply() True to \"Y\" and False to \"N\"\n",
    "print(new_sharks_df[\"fatal_(y/n)\"].dtype)                                                                      # another option is .map({\"Y\": True, \"N\": False})"
   ]
  },
  {
   "cell_type": "code",
   "execution_count": 1732,
   "metadata": {},
   "outputs": [
    {
     "data": {
      "text/plain": [
       "fatal_(y/n)\n",
       "False    4741\n",
       "True     1511\n",
       "Name: count, dtype: int64"
      ]
     },
     "execution_count": 1732,
     "metadata": {},
     "output_type": "execute_result"
    }
   ],
   "source": [
    "# data cleaning - renaming\n",
    "# fatal_(y/n) - convert dtype Series from \"object\" to \"boolean\"\n",
    "new_sharks_df[\"fatal_(y/n)\"].value_counts()     # check data"
   ]
  },
  {
   "cell_type": "code",
   "execution_count": null,
   "metadata": {},
   "outputs": [],
   "source": []
  },
  {
   "cell_type": "code",
   "execution_count": 1733,
   "metadata": {},
   "outputs": [
    {
     "data": {
      "text/plain": [
       "age\n",
       "False    3462\n",
       "True     2790\n",
       "Name: count, dtype: int64"
      ]
     },
     "execution_count": 1733,
     "metadata": {},
     "output_type": "execute_result"
    }
   ],
   "source": [
    "# data cleaning - renaming\n",
    "# age - data standardization\n",
    "new_sharks_df[\"age\"].isna().value_counts()     # check data"
   ]
  },
  {
   "cell_type": "code",
   "execution_count": 1734,
   "metadata": {},
   "outputs": [
    {
     "data": {
      "text/plain": [
       "array(['57', '11', '48', nan, '18', '52', '15', '12', '32', '10', '21',\n",
       "       '34', '30', '60', '33', '29', '54', '41', '37', '56', '19', '25',\n",
       "       '69', '38', '55', '35', '46', '45', '14', '40s', '28', '20', '24',\n",
       "       '26', '49', '22', '7', '31', '17', '40', '13', '42', '3', '8',\n",
       "       '50', '16', '82', '73', '20s', '68', '51', '39', '58', 'Teen',\n",
       "       '47', '61', '65', '36', '66', '43', '60s', '9', '72', '59', '6',\n",
       "       '27', '64', '23', '71', '44', '62', '63', '70', '18 months', '53',\n",
       "       '30s', '50s', 'teen', '77', '74', '28 & 26', '5', '86', '18 or 20',\n",
       "       '12 or 13', '46 & 34', '28, 23 & 30', 'Teens', '36 & 26',\n",
       "       '8 or 10', '84', '\\xa0 ', ' ', '30 or 36', '6½', '21 & ?', '75',\n",
       "       '33 or 37', 'mid-30s', '23 & 20', ' 30', '7      &    31', ' 28',\n",
       "       '20?', \"60's\", '32 & 30', '16 to 18', '87', '67', 'Elderly',\n",
       "       'mid-20s', 'Ca. 33', '74 ', '45 ', '21 or 26', '20 ', '>50',\n",
       "       '18 to 22', 'adult', '9 & 12', '? & 19', '9 months', '25 to 35',\n",
       "       '23 & 26', '1', '(adult)', '33 & 37', '25 or 28',\n",
       "       '37, 67, 35, 27,  ? & 27', '21, 34,24 & 35', '30 & 32', '50 & 30',\n",
       "       '17 & 35', 'X', '\"middle-age\"', '13 or 18', '34 & 19', '33 & 26',\n",
       "       '2 to 3 months', 'MAKE LINE GREEN', ' 43', '81', '\"young\"',\n",
       "       '7 or 8', '78', '17 & 16', 'F', 'Both 11', '9 or 10', 'young',\n",
       "       '36 & 23', '  ', 'A.M.', '?    &   14', '10 or 12', '31 or 33',\n",
       "       '2½', '13 or 14'], dtype=object)"
      ]
     },
     "execution_count": 1734,
     "metadata": {},
     "output_type": "execute_result"
    }
   ],
   "source": [
    "# data cleaning - renaming\n",
    "# age - data standardization\n",
    "new_sharks_df[\"age\"].unique()     # check data"
   ]
  },
  {
   "cell_type": "code",
   "execution_count": 1735,
   "metadata": {},
   "outputs": [],
   "source": [
    "# data cleaning - renaming\n",
    "# age - replacing good ages having blank spaces or weird format (like \"30s\", \"teen\", ..., 2½\")\n",
    "ages_dict = {\"40s\": \"45\", \"20s\": \"20\", \"Teen\": \"15\",\n",
    "             \"60s\": \"60\", \"18 months\": \"2\", \"30s\": \"35\",\n",
    "             \"50s\": \"55\", \"teen\": \"15\", \" \": np.nan,\n",
    "             \"6½\": \"7\", \"mid-30s\": \"35\", \" 30\": \"30\",\n",
    "             \" 28\": \"28\", \"60's\": \"65\", \"mid-20s\": \"25\",\n",
    "             \"74 \": \"74\", \"45 \": \"45\", \"20 \": \"20\",\n",
    "             \"X\": np.nan, \" 43\": \"43\", \"  \": np.nan,\n",
    "             \"2½\": \"3\", \"\\xa0 \": np.nan, \"F\": np.nan}\n",
    "\n",
    "new_sharks_df[\"age\"] = new_sharks_df[\"age\"].replace(ages_dict)"
   ]
  },
  {
   "cell_type": "code",
   "execution_count": 1736,
   "metadata": {},
   "outputs": [
    {
     "data": {
      "text/plain": [
       "0        57\n",
       "1        11\n",
       "2        48\n",
       "3       NaN\n",
       "4       NaN\n",
       "       ... \n",
       "6247    NaN\n",
       "6248    NaN\n",
       "6249    NaN\n",
       "6250    NaN\n",
       "6251     15\n",
       "Name: age, Length: 6252, dtype: object"
      ]
     },
     "execution_count": 1736,
     "metadata": {},
     "output_type": "execute_result"
    }
   ],
   "source": [
    "# data cleaning - renaming\n",
    "# age - data standardization\n",
    "new_sharks_df[\"age\"] = new_sharks_df[\"age\"].apply(lambda x: np.nan if len(str(x)) > 2 else x)\n",
    "new_sharks_df[\"age\"]     # check data"
   ]
  },
  {
   "cell_type": "code",
   "execution_count": 1737,
   "metadata": {},
   "outputs": [
    {
     "data": {
      "text/plain": [
       "age\n",
       "False    3400\n",
       "True     2852\n",
       "Name: count, dtype: int64"
      ]
     },
     "execution_count": 1737,
     "metadata": {},
     "output_type": "execute_result"
    }
   ],
   "source": [
    "# data cleaning - renaming\n",
    "# age - data standardization\n",
    "new_sharks_df[\"age\"].isna().value_counts()     # check data"
   ]
  },
  {
   "cell_type": "code",
   "execution_count": 1738,
   "metadata": {},
   "outputs": [
    {
     "data": {
      "text/plain": [
       "27.0"
      ]
     },
     "execution_count": 1738,
     "metadata": {},
     "output_type": "execute_result"
    }
   ],
   "source": [
    "# data cleaning - renaming\n",
    "# age - compute the age mean, excluding NaN values\n",
    "age_numeric = pd.to_numeric(new_sharks_df[\"age\"], errors = \"coerce\")\n",
    "age_mean = age_numeric.mean().round(0)     # the output downs to 24 by using .median(), so the difference is not significant !!!\n",
    "age_mean"
   ]
  },
  {
   "cell_type": "code",
   "execution_count": 1739,
   "metadata": {},
   "outputs": [
    {
     "data": {
      "text/plain": [
       "age\n",
       "False    6252\n",
       "Name: count, dtype: int64"
      ]
     },
     "execution_count": 1739,
     "metadata": {},
     "output_type": "execute_result"
    }
   ],
   "source": [
    "# data cleaning - renaming\n",
    "# age - replace NaN values for \"age_mean\"\n",
    "new_sharks_df[\"age\"] = new_sharks_df[\"age\"].replace(np.nan, age_mean)\n",
    "new_sharks_df[\"age\"].isna().value_counts()     # check data"
   ]
  },
  {
   "cell_type": "code",
   "execution_count": 1740,
   "metadata": {},
   "outputs": [
    {
     "data": {
      "text/plain": [
       "array(['57', '11', '48', 27.0, '18', '52', '15', '12', '32', '10', '21',\n",
       "       '34', '30', '60', '33', '29', '54', '41', '37', '56', '19', '25',\n",
       "       '69', '38', '55', '35', '46', '45', '14', '28', '20', '24', '26',\n",
       "       '49', '22', '7', '31', '17', '40', '13', '42', '3', '8', '50',\n",
       "       '16', '82', '73', '68', '51', '39', '58', '47', '61', '65', '36',\n",
       "       '66', '43', '9', '72', '59', '6', '27', '64', '23', '71', '44',\n",
       "       '62', '63', '70', '2', '53', '77', '74', '5', '86', '84', '75',\n",
       "       '87', '67', '1', '81', '78'], dtype=object)"
      ]
     },
     "execution_count": 1740,
     "metadata": {},
     "output_type": "execute_result"
    }
   ],
   "source": [
    "# data cleaning - renaming\n",
    "# age - data standardization\n",
    "new_sharks_df[\"age\"].unique()     # check data"
   ]
  },
  {
   "cell_type": "code",
   "execution_count": 1741,
   "metadata": {},
   "outputs": [
    {
     "name": "stdout",
     "output_type": "stream",
     "text": [
      "object\n",
      "int64\n"
     ]
    }
   ],
   "source": [
    "# data cleaning - renaming\n",
    "# age - convert dtype Series from \"object\" to \"integer\"\n",
    "print(new_sharks_df[\"age\"].dtype)\n",
    "new_sharks_df[\"age\"] = new_sharks_df[\"age\"].astype(\"int64\")\n",
    "print(new_sharks_df[\"age\"].dtype)"
   ]
  },
  {
   "cell_type": "code",
   "execution_count": null,
   "metadata": {},
   "outputs": [],
   "source": []
  },
  {
   "cell_type": "code",
   "execution_count": null,
   "metadata": {},
   "outputs": [],
   "source": []
  },
  {
   "cell_type": "code",
   "execution_count": null,
   "metadata": {},
   "outputs": [],
   "source": []
  },
  {
   "cell_type": "code",
   "execution_count": 1742,
   "metadata": {},
   "outputs": [
    {
     "data": {
      "text/plain": [
       "<Axes: title={'center': 'Shark Attacks by Continent'}, xlabel='Continent', ylabel='Number of Attacks'>"
      ]
     },
     "execution_count": 1742,
     "metadata": {},
     "output_type": "execute_result"
    },
    {
     "data": {
      "image/png": "[encoded data removed]",
      "text/plain": [
       "<Figure size 640x480 with 1 Axes>"
      ]
     },
     "metadata": {},
     "output_type": "display_data"
    }
   ],
   "source": [
    "# Playing with Visualizations\n",
    "plt.title(\"Shark Attacks by Continent\", fontsize = 15)\n",
    "plt.ylabel(\"Number of Attacks\", fontsize = 12)\n",
    "plt.xlabel(\"Continent\", fontsize = 12)\n",
    "plt.xticks(rotation = 35)\n",
    "#hue_order = [\"Unprovoked\", \"Provoked\", \"Invalid\", \"Boating\", \"Sea Disaster\"]\n",
    "sns.countplot(x = new_sharks_df[\"continent\"], order = new_sharks_df[\"continent\"].value_counts().index, color = \"blue\")"
   ]
  },
  {
   "cell_type": "code",
   "execution_count": null,
   "metadata": {},
   "outputs": [],
   "source": []
  },
  {
   "cell_type": "code",
   "execution_count": 1743,
   "metadata": {},
   "outputs": [
    {
     "data": {
      "text/plain": [
       "<Axes: title={'center': 'Shark Attacks by Continent & Type'}, xlabel='Continent', ylabel='Number of Attacks'>"
      ]
     },
     "execution_count": 1743,
     "metadata": {},
     "output_type": "execute_result"
    },
    {
     "data": {
      "image/png": "[encoded data removed]",
      "text/plain": [
       "<Figure size 640x480 with 1 Axes>"
      ]
     },
     "metadata": {},
     "output_type": "display_data"
    }
   ],
   "source": [
    "# Playing with Visualizations\n",
    "plt.title(\"Shark Attacks by Continent & Type\", fontsize = 15)\n",
    "plt.ylabel(\"Number of Attacks\", fontsize = 12)\n",
    "plt.xlabel(\"Continent\", fontsize = 12)\n",
    "plt.xticks(rotation = 35)\n",
    "#hue_order = [\"Unprovoked\", \"Provoked\", \"Invalid\", \"Boating\", \"Sea Disaster\"]\n",
    "sns.countplot(x = new_sharks_df[\"continent\"], order = new_sharks_df[\"continent\"].value_counts().index, palette = \"Set2\", hue = new_sharks_df[\"type\"])"
   ]
  },
  {
   "cell_type": "code",
   "execution_count": null,
   "metadata": {},
   "outputs": [],
   "source": []
  },
  {
   "cell_type": "code",
   "execution_count": 1744,
   "metadata": {},
   "outputs": [
    {
     "data": {
      "text/plain": [
       "<Axes: title={'center': 'Shark Attacks by Continent & Sex'}, xlabel='Continent', ylabel='Number of Attacks'>"
      ]
     },
     "execution_count": 1744,
     "metadata": {},
     "output_type": "execute_result"
    },
    {
     "data": {
      "image/png": "[encoded data removed]",
      "text/plain": [
       "<Figure size 640x480 with 1 Axes>"
      ]
     },
     "metadata": {},
     "output_type": "display_data"
    }
   ],
   "source": [
    "# Playing with Visualizations\n",
    "plt.title(\"Shark Attacks by Continent & Sex\", fontsize = 15)\n",
    "plt.ylabel(\"Number of Attacks\", fontsize = 12)\n",
    "plt.xlabel(\"Continent\", fontsize = 12)\n",
    "plt.xticks(rotation = 35)\n",
    "#hue_order = [\"Unprovoked\", \"Provoked\", \"Invalid\", \"Boating\", \"Sea Disaster\"]\n",
    "sns.countplot(x = new_sharks_df[\"continent\"], order = new_sharks_df[\"continent\"].value_counts().index, palette = \"Set1\", hue = new_sharks_df[\"sex\"])"
   ]
  },
  {
   "cell_type": "code",
   "execution_count": null,
   "metadata": {},
   "outputs": [],
   "source": []
  },
  {
   "cell_type": "code",
   "execution_count": 1745,
   "metadata": {},
   "outputs": [
    {
     "name": "stdout",
     "output_type": "stream",
     "text": [
      "The age mean is: 27\n"
     ]
    },
    {
     "data": {
      "image/png": "[encoded data removed]",
      "text/plain": [
       "<Figure size 640x480 with 1 Axes>"
      ]
     },
     "metadata": {},
     "output_type": "display_data"
    }
   ],
   "source": [
    "# Playing with Visualizations\n",
    "plt.title(\"Age Distribution of People Attacked\", fontsize = 15)\n",
    "plt.ylabel(\"Number of Attacks\", fontsize = 12)\n",
    "plt.xlabel(\"Age\", fontsize = 12)\n",
    "sns.histplot(data = new_sharks_df[\"age\"], bins = 11, kde = True, color = \"green\")\n",
    "print(f\"The age mean is: {int(new_sharks_df[\"age\"].mean())}\")"
   ]
  },
  {
   "cell_type": "code",
   "execution_count": null,
   "metadata": {},
   "outputs": [],
   "source": []
  },
  {
   "cell_type": "code",
   "execution_count": null,
   "metadata": {},
   "outputs": [],
   "source": []
  },
  {
   "cell_type": "code",
   "execution_count": null,
   "metadata": {},
   "outputs": [],
   "source": []
  },
  {
   "cell_type": "code",
   "execution_count": 1746,
   "metadata": {},
   "outputs": [
    {
     "data": {
      "text/plain": [
       "Text(0.5, 0, 'Years')"
      ]
     },
     "execution_count": 1746,
     "metadata": {},
     "output_type": "execute_result"
    },
    {
     "data": {
      "image/png": "[encoded data removed]",
      "text/plain": [
       "<Figure size 1200x600 with 1 Axes>"
      ]
     },
     "metadata": {},
     "output_type": "display_data"
    }
   ],
   "source": [
    "# Playing with Visualizations\n",
    "attacks_by_year = new_sharks_df[\"year\"].value_counts()\n",
    "plt.figure(figsize=(12,6))\n",
    "sns.lineplot(x = new_sharks_df[\"year\"], y = attacks_by_year, palette = \"Set1\", hue = new_sharks_df[\"sex\"])\n",
    "plt.title(\"Shark Attacks by Year\", fontsize = 15)\n",
    "plt.ylabel(\"Number of Attacks\", fontsize = 12)\n",
    "plt.xlabel(\"Years\", fontsize = 12)\n"
   ]
  },
  {
   "cell_type": "code",
   "execution_count": null,
   "metadata": {},
   "outputs": [],
   "source": []
  },
  {
   "cell_type": "code",
   "execution_count": 1747,
   "metadata": {},
   "outputs": [
    {
     "data": {
      "text/plain": [
       "Text(0.5, 0, 'Years')"
      ]
     },
     "execution_count": 1747,
     "metadata": {},
     "output_type": "execute_result"
    },
    {
     "data": {
      "image/png": "[encoded data removed]",
      "text/plain": [
       "<Figure size 1200x600 with 1 Axes>"
      ]
     },
     "metadata": {},
     "output_type": "display_data"
    }
   ],
   "source": [
    "# Playing with Visualizations\n",
    "plt.figure(figsize=(12,6))\n",
    "sns.scatterplot(x = new_sharks_df[\"year\"], y = new_sharks_df[\"age\"], hue = new_sharks_df[\"sex\"], palette = \"Set1\")\n",
    "plt.xticks(rotation = 35)\n",
    "plt.title(\"Ages by Year & Sex\", fontsize = 15)\n",
    "plt.ylabel(\"Ages\", fontsize = 12)\n",
    "plt.xlabel(\"Years\", fontsize = 12)"
   ]
  },
  {
   "cell_type": "code",
   "execution_count": null,
   "metadata": {},
   "outputs": [],
   "source": []
  }
 ],
 "metadata": {
  "kernelspec": {
   "display_name": "Original",
   "language": "python",
   "name": "python3"
  },
  "language_info": {
   "codemirror_mode": {
    "name": "ipython",
    "version": 3
   },
   "file_extension": ".py",
   "mimetype": "text/x-python",
   "name": "python",
   "nbconvert_exporter": "python",
   "pygments_lexer": "ipython3",
   "version": "3.12.5"
  }
 },
 "nbformat": 4,
 "nbformat_minor": 2
}
